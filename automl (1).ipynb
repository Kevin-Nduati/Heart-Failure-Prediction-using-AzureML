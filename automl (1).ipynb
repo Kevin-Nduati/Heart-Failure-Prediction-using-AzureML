{
  "cells": [
    {
      "cell_type": "markdown",
      "source": [
        "# Automated ML\n",
        "\n",
        "Import all dependencies"
      ],
      "metadata": {}
    },
    {
      "cell_type": "code",
      "source": [
        "import json\n",
        "import azureml.core\n",
        "from azureml.core import Workspace, Experiment, Model\n",
        "from azureml.core.compute import ComputeTarget, AmlCompute\n",
        "from azureml.core.compute_target import ComputeTargetException\n",
        "from azureml.widgets import RunDetails\n",
        "from azureml.train.automl import AutoMLConfig\n",
        "from azureml.core.environment import Environment\n",
        "from azureml.core.model import InferenceConfig\n",
        "from azureml.core.webservice import AciWebservice, Webservice\n",
        "from azureml.core.dataset import Dataset\n",
        "\n",
        "\n",
        "print('SDK version:', azureml.core.VERSION)\n",
        "\n"
      ],
      "outputs": [
        {
          "output_type": "stream",
          "name": "stdout",
          "text": "SDK version: 1.42.0\n"
        }
      ],
      "execution_count": 1,
      "metadata": {
        "gather": {
          "logged": 1659376801604
        },
        "jupyter": {
          "outputs_hidden": false,
          "source_hidden": false
        },
        "nteract": {
          "transient": {
            "deleting": false
          }
        },
        "vscode": {
          "languageId": "python"
        }
      }
    },
    {
      "cell_type": "markdown",
      "source": [
        "## Initialize workspace\n",
        "Initialize a workspace from configuration"
      ],
      "metadata": {}
    },
    {
      "cell_type": "code",
      "source": [
        "ws = Workspace.from_config()\n",
        "print(ws.name, ws.resource_group, ws.location, ws.subscription_id, sep='\\n')\n",
        "\n",
        "# choose a name for experiment\n",
        "experiment_name = 'automl-heart-experiment'\n",
        "\n",
        "experiment=Experiment(ws, experiment_name)\n",
        "\n",
        "run = experiment.start_logging()"
      ],
      "outputs": [
        {
          "output_type": "stream",
          "name": "stdout",
          "text": "quick-starts-ws-202911\naml-quickstarts-202911\nsouthcentralus\n1b944a9b-fdae-4f97-aeb1-b7eea0beac53\n"
        }
      ],
      "execution_count": 2,
      "metadata": {
        "gather": {
          "logged": 1659376807030
        },
        "jupyter": {
          "outputs_hidden": false,
          "source_hidden": false
        },
        "nteract": {
          "transient": {
            "deleting": false
          }
        },
        "vscode": {
          "languageId": "python"
        }
      }
    },
    {
      "cell_type": "markdown",
      "source": [
        "## Create Compute Cluster"
      ],
      "metadata": {}
    },
    {
      "cell_type": "code",
      "source": [
        "amlcompute_cluster_name = \"auto-ml\"\n",
        "\n",
        "# Verify if the cluster does not exist\n",
        "try:\n",
        "    compute_target = ComputeTarget(\n",
        "        workspace = ws,\n",
        "        name = amlcompute_cluster_name\n",
        "    )\n",
        "    print('Found Existing cluster, use it')\n",
        "except ComputeTargetException:\n",
        "    compute_config = AmlCompute.provisioning_configuration(\n",
        "        vm_size = 'STANDARD_D2_V2',\n",
        "        max_nodes = 4\n",
        "    )\n",
        "    compute_target = ComputeTarget.create(\n",
        "        ws, \n",
        "        amlcompute_cluster_name,\n",
        "        compute_config\n",
        "    )\n",
        "compute_target.wait_for_completion(\n",
        "    show_output = True,\n",
        "    min_node_count = 1,\n",
        "    timeout_in_minutes = 3\n",
        ")"
      ],
      "outputs": [
        {
          "output_type": "stream",
          "name": "stdout",
          "text": "Found Existing cluster, use it\nSucceeded...................................\nAmlCompute wait for completion finished\n\nWait timeout has been reached\nCurrent provisioning state of AmlCompute is \"Succeeded\" and current node count is \"0\"\n"
        }
      ],
      "execution_count": 3,
      "metadata": {
        "vscode": {
          "languageId": "python"
        },
        "gather": {
          "logged": 1659376987165
        }
      }
    },
    {
      "cell_type": "markdown",
      "source": [
        "## Dataset\n",
        "I used the Heart Failure Dataset from kaggle.\n",
        "Cardiovascular diseases (CVDs) are the number 1 cause of death globally, taking an estimated 17.9 million lives each year, which accounts for 31% of all deaths worlwide.\n",
        "Heart failure is a common event caused by CVDs and this dataset contains 12 features that can be used to predict mortality by heart failure.\n",
        "\n",
        "Most cardiovascular diseases can be prevented by addressing behavioural risk factors such as tobacco use, unhealthy diet and obesity, physical inactivity and harmful use of alcohol using population-wide strategies.\n",
        "\n",
        "People with cardiovascular disease or who are at high cardiovascular risk (due to the presence of one or more risk factors such as hypertension, diabetes, hyperlipidaemia or already established disease) need early detection and management wherein a machine learning model can be of great help.\n",
        "\n",
        "I want to create a model to a model to predict mortality by heart failure."
      ],
      "metadata": {}
    },
    {
      "cell_type": "code",
      "source": [
        "key = \"heart-failure\"\n",
        "\n",
        "dataset = ws.datasets[key]\n",
        "\n",
        "df = dataset.to_pandas_dataframe()\n",
        "df.describe()"
      ],
      "outputs": [
        {
          "output_type": "execute_result",
          "execution_count": 4,
          "data": {
            "text/plain": "              age     anaemia  creatinine_phosphokinase    diabetes  \\\ncount  299.000000  299.000000                299.000000  299.000000   \nmean    60.833893    0.431438                581.839465    0.418060   \nstd     11.894809    0.496107                970.287881    0.494067   \nmin     40.000000    0.000000                 23.000000    0.000000   \n25%     51.000000    0.000000                116.500000    0.000000   \n50%     60.000000    0.000000                250.000000    0.000000   \n75%     70.000000    1.000000                582.000000    1.000000   \nmax     95.000000    1.000000               7861.000000    1.000000   \n\n       ejection_fraction  high_blood_pressure      platelets  \\\ncount         299.000000           299.000000     299.000000   \nmean           38.083612             0.351171  263358.029264   \nstd            11.834841             0.478136   97804.236869   \nmin            14.000000             0.000000   25100.000000   \n25%            30.000000             0.000000  212500.000000   \n50%            38.000000             0.000000  262000.000000   \n75%            45.000000             1.000000  303500.000000   \nmax            80.000000             1.000000  850000.000000   \n\n       serum_creatinine  serum_sodium         sex    smoking        time  \\\ncount         299.00000    299.000000  299.000000  299.00000  299.000000   \nmean            1.39388    136.625418    0.648829    0.32107  130.260870   \nstd             1.03451      4.412477    0.478136    0.46767   77.614208   \nmin             0.50000    113.000000    0.000000    0.00000    4.000000   \n25%             0.90000    134.000000    0.000000    0.00000   73.000000   \n50%             1.10000    137.000000    1.000000    0.00000  115.000000   \n75%             1.40000    140.000000    1.000000    1.00000  203.000000   \nmax             9.40000    148.000000    1.000000    1.00000  285.000000   \n\n       DEATH_EVENT  \ncount    299.00000  \nmean       0.32107  \nstd        0.46767  \nmin        0.00000  \n25%        0.00000  \n50%        0.00000  \n75%        1.00000  \nmax        1.00000  ",
            "text/html": "<div>\n<style scoped>\n    .dataframe tbody tr th:only-of-type {\n        vertical-align: middle;\n    }\n\n    .dataframe tbody tr th {\n        vertical-align: top;\n    }\n\n    .dataframe thead th {\n        text-align: right;\n    }\n</style>\n<table border=\"1\" class=\"dataframe\">\n  <thead>\n    <tr style=\"text-align: right;\">\n      <th></th>\n      <th>age</th>\n      <th>anaemia</th>\n      <th>creatinine_phosphokinase</th>\n      <th>diabetes</th>\n      <th>ejection_fraction</th>\n      <th>high_blood_pressure</th>\n      <th>platelets</th>\n      <th>serum_creatinine</th>\n      <th>serum_sodium</th>\n      <th>sex</th>\n      <th>smoking</th>\n      <th>time</th>\n      <th>DEATH_EVENT</th>\n    </tr>\n  </thead>\n  <tbody>\n    <tr>\n      <th>count</th>\n      <td>299.000000</td>\n      <td>299.000000</td>\n      <td>299.000000</td>\n      <td>299.000000</td>\n      <td>299.000000</td>\n      <td>299.000000</td>\n      <td>299.000000</td>\n      <td>299.00000</td>\n      <td>299.000000</td>\n      <td>299.000000</td>\n      <td>299.00000</td>\n      <td>299.000000</td>\n      <td>299.00000</td>\n    </tr>\n    <tr>\n      <th>mean</th>\n      <td>60.833893</td>\n      <td>0.431438</td>\n      <td>581.839465</td>\n      <td>0.418060</td>\n      <td>38.083612</td>\n      <td>0.351171</td>\n      <td>263358.029264</td>\n      <td>1.39388</td>\n      <td>136.625418</td>\n      <td>0.648829</td>\n      <td>0.32107</td>\n      <td>130.260870</td>\n      <td>0.32107</td>\n    </tr>\n    <tr>\n      <th>std</th>\n      <td>11.894809</td>\n      <td>0.496107</td>\n      <td>970.287881</td>\n      <td>0.494067</td>\n      <td>11.834841</td>\n      <td>0.478136</td>\n      <td>97804.236869</td>\n      <td>1.03451</td>\n      <td>4.412477</td>\n      <td>0.478136</td>\n      <td>0.46767</td>\n      <td>77.614208</td>\n      <td>0.46767</td>\n    </tr>\n    <tr>\n      <th>min</th>\n      <td>40.000000</td>\n      <td>0.000000</td>\n      <td>23.000000</td>\n      <td>0.000000</td>\n      <td>14.000000</td>\n      <td>0.000000</td>\n      <td>25100.000000</td>\n      <td>0.50000</td>\n      <td>113.000000</td>\n      <td>0.000000</td>\n      <td>0.00000</td>\n      <td>4.000000</td>\n      <td>0.00000</td>\n    </tr>\n    <tr>\n      <th>25%</th>\n      <td>51.000000</td>\n      <td>0.000000</td>\n      <td>116.500000</td>\n      <td>0.000000</td>\n      <td>30.000000</td>\n      <td>0.000000</td>\n      <td>212500.000000</td>\n      <td>0.90000</td>\n      <td>134.000000</td>\n      <td>0.000000</td>\n      <td>0.00000</td>\n      <td>73.000000</td>\n      <td>0.00000</td>\n    </tr>\n    <tr>\n      <th>50%</th>\n      <td>60.000000</td>\n      <td>0.000000</td>\n      <td>250.000000</td>\n      <td>0.000000</td>\n      <td>38.000000</td>\n      <td>0.000000</td>\n      <td>262000.000000</td>\n      <td>1.10000</td>\n      <td>137.000000</td>\n      <td>1.000000</td>\n      <td>0.00000</td>\n      <td>115.000000</td>\n      <td>0.00000</td>\n    </tr>\n    <tr>\n      <th>75%</th>\n      <td>70.000000</td>\n      <td>1.000000</td>\n      <td>582.000000</td>\n      <td>1.000000</td>\n      <td>45.000000</td>\n      <td>1.000000</td>\n      <td>303500.000000</td>\n      <td>1.40000</td>\n      <td>140.000000</td>\n      <td>1.000000</td>\n      <td>1.00000</td>\n      <td>203.000000</td>\n      <td>1.00000</td>\n    </tr>\n    <tr>\n      <th>max</th>\n      <td>95.000000</td>\n      <td>1.000000</td>\n      <td>7861.000000</td>\n      <td>1.000000</td>\n      <td>80.000000</td>\n      <td>1.000000</td>\n      <td>850000.000000</td>\n      <td>9.40000</td>\n      <td>148.000000</td>\n      <td>1.000000</td>\n      <td>1.00000</td>\n      <td>285.000000</td>\n      <td>1.00000</td>\n    </tr>\n  </tbody>\n</table>\n</div>"
          },
          "metadata": {}
        }
      ],
      "execution_count": 4,
      "metadata": {
        "vscode": {
          "languageId": "python"
        },
        "gather": {
          "logged": 1659376990173
        }
      }
    },
    {
      "cell_type": "code",
      "source": [
        "dataset.take(5).to_pandas_dataframe()"
      ],
      "outputs": [
        {
          "output_type": "execute_result",
          "execution_count": 5,
          "data": {
            "text/plain": "    age  anaemia  creatinine_phosphokinase  diabetes  ejection_fraction  \\\n0  75.0        0                       582         0                 20   \n1  55.0        0                      7861         0                 38   \n2  65.0        0                       146         0                 20   \n3  50.0        1                       111         0                 20   \n4  65.0        1                       160         1                 20   \n\n   high_blood_pressure  platelets  serum_creatinine  serum_sodium  sex  \\\n0                    1  265000.00               1.9           130    1   \n1                    0  263358.03               1.1           136    1   \n2                    0  162000.00               1.3           129    1   \n3                    0  210000.00               1.9           137    1   \n4                    0  327000.00               2.7           116    0   \n\n   smoking  time  DEATH_EVENT  \n0        0     4            1  \n1        0     6            1  \n2        1     7            1  \n3        0     7            1  \n4        0     8            1  ",
            "text/html": "<div>\n<style scoped>\n    .dataframe tbody tr th:only-of-type {\n        vertical-align: middle;\n    }\n\n    .dataframe tbody tr th {\n        vertical-align: top;\n    }\n\n    .dataframe thead th {\n        text-align: right;\n    }\n</style>\n<table border=\"1\" class=\"dataframe\">\n  <thead>\n    <tr style=\"text-align: right;\">\n      <th></th>\n      <th>age</th>\n      <th>anaemia</th>\n      <th>creatinine_phosphokinase</th>\n      <th>diabetes</th>\n      <th>ejection_fraction</th>\n      <th>high_blood_pressure</th>\n      <th>platelets</th>\n      <th>serum_creatinine</th>\n      <th>serum_sodium</th>\n      <th>sex</th>\n      <th>smoking</th>\n      <th>time</th>\n      <th>DEATH_EVENT</th>\n    </tr>\n  </thead>\n  <tbody>\n    <tr>\n      <th>0</th>\n      <td>75.0</td>\n      <td>0</td>\n      <td>582</td>\n      <td>0</td>\n      <td>20</td>\n      <td>1</td>\n      <td>265000.00</td>\n      <td>1.9</td>\n      <td>130</td>\n      <td>1</td>\n      <td>0</td>\n      <td>4</td>\n      <td>1</td>\n    </tr>\n    <tr>\n      <th>1</th>\n      <td>55.0</td>\n      <td>0</td>\n      <td>7861</td>\n      <td>0</td>\n      <td>38</td>\n      <td>0</td>\n      <td>263358.03</td>\n      <td>1.1</td>\n      <td>136</td>\n      <td>1</td>\n      <td>0</td>\n      <td>6</td>\n      <td>1</td>\n    </tr>\n    <tr>\n      <th>2</th>\n      <td>65.0</td>\n      <td>0</td>\n      <td>146</td>\n      <td>0</td>\n      <td>20</td>\n      <td>0</td>\n      <td>162000.00</td>\n      <td>1.3</td>\n      <td>129</td>\n      <td>1</td>\n      <td>1</td>\n      <td>7</td>\n      <td>1</td>\n    </tr>\n    <tr>\n      <th>3</th>\n      <td>50.0</td>\n      <td>1</td>\n      <td>111</td>\n      <td>0</td>\n      <td>20</td>\n      <td>0</td>\n      <td>210000.00</td>\n      <td>1.9</td>\n      <td>137</td>\n      <td>1</td>\n      <td>0</td>\n      <td>7</td>\n      <td>1</td>\n    </tr>\n    <tr>\n      <th>4</th>\n      <td>65.0</td>\n      <td>1</td>\n      <td>160</td>\n      <td>1</td>\n      <td>20</td>\n      <td>0</td>\n      <td>327000.00</td>\n      <td>2.7</td>\n      <td>116</td>\n      <td>0</td>\n      <td>0</td>\n      <td>8</td>\n      <td>1</td>\n    </tr>\n  </tbody>\n</table>\n</div>"
          },
          "metadata": {}
        }
      ],
      "execution_count": 5,
      "metadata": {
        "vscode": {
          "languageId": "python"
        },
        "gather": {
          "logged": 1659376990551
        }
      }
    },
    {
      "cell_type": "markdown",
      "source": [
        "## AutoML Configuration\n",
        "\n",
        "Here are the automl configurations:\n",
        "* **max_concurrent_iterations:** Represents the maximum number of iterations that would be executed in parallel. The default value is 1.\n",
        "* **experiment_timeout_minutes:** The minutes before experiment terminates\n",
        "* **n_cross_validations:** To avoid overfitting, we need to use cross validation\n",
        "* **primary_metric:** Accuracy\n",
        "* **task:** Classification"
      ],
      "metadata": {}
    },
    {
      "cell_type": "code",
      "source": [
        "# automl settings\n",
        "automl_settings = {\n",
        "    \"experiment_timeout_minutes\": 15,\n",
        "    \"iterations\": 40,\n",
        "    \"max_concurrent_iterations\": 4,\n",
        "    \"n_cross_validations\": 3,\n",
        "    \"primary_metric\": \"accuracy\"\n",
        "}\n",
        "\n",
        "# automl config\n",
        "automl_config = AutoMLConfig(\n",
        "    compute_target = compute_target,\n",
        "    task = \"classification\",\n",
        "    training_data = dataset,\n",
        "    label_column_name = 'DEATH_EVENT',\n",
        "    enable_early_stopping = True,\n",
        "    debug_log = 'automl_errors.log',\n",
        "    **automl_settings\n",
        ")"
      ],
      "outputs": [],
      "execution_count": 6,
      "metadata": {
        "gather": {
          "logged": 1659376990873
        },
        "jupyter": {
          "outputs_hidden": false,
          "source_hidden": false
        },
        "nteract": {
          "transient": {
            "deleting": false
          }
        },
        "vscode": {
          "languageId": "python"
        }
      }
    },
    {
      "cell_type": "code",
      "source": [
        "# Submit your experiment\n",
        "remote_run = experiment.submit(automl_config, show_output = True)"
      ],
      "outputs": [
        {
          "output_type": "stream",
          "name": "stdout",
          "text": "Submitting remote run.\nNo run_configuration provided, running on auto-ml with default configuration\nRunning on remote compute: auto-ml\n"
        },
        {
          "output_type": "display_data",
          "data": {
            "text/plain": "<IPython.core.display.HTML object>",
            "text/html": "<table style=\"width:100%\"><tr><th>Experiment</th><th>Id</th><th>Type</th><th>Status</th><th>Details Page</th><th>Docs Page</th></tr><tr><td>automl-heart-experiment</td><td>AutoML_aef658ec-40b2-4036-b15c-0d4f4eedb798</td><td>automl</td><td>NotStarted</td><td><a href=\"https://ml.azure.com/runs/AutoML_aef658ec-40b2-4036-b15c-0d4f4eedb798?wsid=/subscriptions/1b944a9b-fdae-4f97-aeb1-b7eea0beac53/resourcegroups/aml-quickstarts-202911/workspaces/quick-starts-ws-202911&amp;tid=660b3398-b80e-49d2-bc5b-ac1dc93b5254\" target=\"_blank\" rel=\"noopener\">Link to Azure Machine Learning studio</a></td><td><a href=\"https://docs.microsoft.com/en-us/python/api/overview/azure/ml/intro?view=azure-ml-py\" target=\"_blank\" rel=\"noopener\">Link to Documentation</a></td></tr></table>"
          },
          "metadata": {}
        },
        {
          "output_type": "stream",
          "name": "stdout",
          "text": "\nCurrent status: FeaturesGeneration. Generating features for the dataset.\nCurrent status: DatasetCrossValidationSplit. Generating individually featurized CV splits.\nCurrent status: ModelSelection. Beginning model selection.\n\n********************************************************************************************\nDATA GUARDRAILS: \n\nTYPE:         Class balancing detection\nSTATUS:       PASSED\nDESCRIPTION:  Your inputs were analyzed, and all classes are balanced in your training data.\n              Learn more about imbalanced data: https://aka.ms/AutomatedMLImbalancedData\n\n********************************************************************************************\n\nTYPE:         Missing feature values imputation\nSTATUS:       PASSED\nDESCRIPTION:  No feature missing values were detected in the training data.\n              Learn more about missing value imputation: https://aka.ms/AutomatedMLFeaturization\n\n********************************************************************************************\n\nTYPE:         High cardinality feature detection\nSTATUS:       PASSED\nDESCRIPTION:  Your inputs were analyzed, and no high cardinality features were detected.\n              Learn more about high cardinality feature handling: https://aka.ms/AutomatedMLFeaturization\n\n********************************************************************************************\n\n********************************************************************************************\nITER: The iteration being evaluated.\nPIPELINE: A summary description of the pipeline being evaluated.\nDURATION: Time taken for the current iteration.\nMETRIC: The result of computing score on the fitted pipeline.\nBEST: The best observed score thus far.\n********************************************************************************************\n\n ITER   PIPELINE                                       DURATION            METRIC      BEST\n    0   MaxAbsScaler LightGBM                          0:00:08             0.8093    0.8093\n    1   MaxAbsScaler XGBoostClassifier                 0:00:12             0.8227    0.8227\n    2   MaxAbsScaler ExtremeRandomTrees                0:00:09             0.8126    0.8227\n    3   SparseNormalizer XGBoostClassifier             0:00:12             0.7893    0.8227\n    4   StandardScalerWrapper KNN                      0:00:09             0.6087    0.8227\n    5   MaxAbsScaler LightGBM                          0:00:08             0.8428    0.8428\n    6   RobustScaler LogisticRegression                0:00:08             0.7758    0.8428\n    7   MaxAbsScaler LightGBM                          0:00:07             0.7993    0.8428\n    8   StandardScalerWrapper KNN                      0:00:12             0.6053    0.8428\n    9   StandardScalerWrapper SVM                      0:00:12             0.7256    0.8428\n   10   StandardScalerWrapper XGBoostClassifier        0:00:12             0.8326    0.8428\n   11   MinMaxScaler RandomForest                      0:00:13             0.8226    0.8428\n   12   StandardScalerWrapper LogisticRegression       0:00:12             0.7190    0.8428\n   13   StandardScalerWrapper KNN                      0:00:07             0.7125    0.8428\n   15   MinMaxScaler KNN                               0:00:12             0.7057    0.8428\n   14   RobustScaler KNN                               0:00:07             0.7056    0.8428\n   16   SparseNormalizer KNN                           0:00:12             0.7425    0.8428\n   17   MaxAbsScaler LogisticRegression                0:00:11             0.8193    0.8428\n   18   StandardScalerWrapper XGBoostClassifier        0:00:06             0.8294    0.8428\n   19   StandardScalerWrapper XGBoostClassifier        0:00:07             0.8193    0.8428\n   21   StandardScalerWrapper XGBoostClassifier        0:00:17             0.8494    0.8494\n   20   MaxAbsScaler LogisticRegression                0:01:06             0.8025    0.8494\n   22   SparseNormalizer RandomForest                  0:00:23             0.8296    0.8494\n   23   StandardScalerWrapper RandomForest             0:00:22             0.7659    0.8494\n   25   SparseNormalizer XGBoostClassifier             0:00:18             0.8059    0.8494\n   26   SparseNormalizer XGBoostClassifier             0:00:18             0.8128    0.8494\n   27   StandardScalerWrapper GradientBoosting         0:00:22             0.8327    0.8494\n   28   MinMaxScaler RandomForest                      0:00:18             0.8092    0.8494\n   24   StandardScalerWrapper XGBoostClassifier        0:00:18             0.8393    0.8494\n   29   StandardScalerWrapper RandomForest             0:00:24             0.8461    0.8494\n   30   StandardScalerWrapper XGBoostClassifier        0:00:18             0.8293    0.8494\n   31   RobustScaler LightGBM                          0:00:22             0.8160    0.8494\n   32   StandardScalerWrapper XGBoostClassifier        0:00:22             0.8461    0.8494\n   33   MinMaxScaler GradientBoosting                  0:00:22             0.8193    0.8494\n   34                                                  0:00:05                nan    0.8494\n   35                                                  0:00:00                nan    0.8494\n   36                                                  0:00:01                nan    0.8494\n   37    VotingEnsemble                                0:00:34             0.8595    0.8595\n   38    StackEnsemble                                 0:00:39             0.8360    0.8595\n"
        }
      ],
      "execution_count": 7,
      "metadata": {
        "gather": {
          "logged": 1659377789090
        },
        "jupyter": {
          "outputs_hidden": false,
          "source_hidden": false
        },
        "nteract": {
          "transient": {
            "deleting": false
          }
        },
        "vscode": {
          "languageId": "python"
        }
      }
    },
    {
      "cell_type": "markdown",
      "source": [
        "## Run Details"
      ],
      "metadata": {}
    },
    {
      "cell_type": "code",
      "source": [
        "RunDetails(remote_run).show()"
      ],
      "outputs": [
        {
          "output_type": "display_data",
          "data": {
            "text/plain": "_AutoMLWidget(widget_settings={'childWidgetDisplay': 'popup', 'send_telemetry': False, 'log_level': 'INFO', 's…",
            "application/vnd.jupyter.widget-view+json": {
              "version_major": 2,
              "version_minor": 0,
              "model_id": "7750ce701fbf4cc7ba50a6b710ef5455"
            }
          },
          "metadata": {}
        },
        {
          "output_type": "display_data",
          "data": {
            "application/aml.mini.widget.v1": "{\"status\": \"Completed\", \"workbench_run_details_uri\": \"https://ml.azure.com/runs/AutoML_aef658ec-40b2-4036-b15c-0d4f4eedb798?wsid=/subscriptions/1b944a9b-fdae-4f97-aeb1-b7eea0beac53/resourcegroups/aml-quickstarts-202911/workspaces/quick-starts-ws-202911&tid=660b3398-b80e-49d2-bc5b-ac1dc93b5254\", \"run_id\": \"AutoML_aef658ec-40b2-4036-b15c-0d4f4eedb798\", \"run_properties\": {\"run_id\": \"AutoML_aef658ec-40b2-4036-b15c-0d4f4eedb798\", \"created_utc\": \"2022-08-01T18:03:12.241883Z\", \"properties\": {\"num_iterations\": \"40\", \"training_type\": \"TrainFull\", \"acquisition_function\": \"EI\", \"primary_metric\": \"accuracy\", \"train_split\": \"0\", \"acquisition_parameter\": \"0\", \"num_cross_validation\": \"3\", \"target\": \"auto-ml\", \"AMLSettingsJsonString\": \"{\\\"path\\\":null,\\\"name\\\":\\\"automl-heart-experiment\\\",\\\"subscription_id\\\":\\\"1b944a9b-fdae-4f97-aeb1-b7eea0beac53\\\",\\\"resource_group\\\":\\\"aml-quickstarts-202911\\\",\\\"workspace_name\\\":\\\"quick-starts-ws-202911\\\",\\\"region\\\":\\\"southcentralus\\\",\\\"compute_target\\\":\\\"auto-ml\\\",\\\"spark_service\\\":null,\\\"azure_service\\\":\\\"remote\\\",\\\"many_models\\\":false,\\\"pipeline_fetch_max_batch_size\\\":1,\\\"enable_batch_run\\\":true,\\\"enable_run_restructure\\\":false,\\\"start_auxiliary_runs_before_parent_complete\\\":false,\\\"enable_code_generation\\\":true,\\\"iterations\\\":40,\\\"primary_metric\\\":\\\"accuracy\\\",\\\"task_type\\\":\\\"classification\\\",\\\"positive_label\\\":null,\\\"data_script\\\":null,\\\"test_size\\\":0.0,\\\"test_include_predictions_only\\\":false,\\\"validation_size\\\":0.0,\\\"n_cross_validations\\\":3,\\\"y_min\\\":null,\\\"y_max\\\":null,\\\"num_classes\\\":null,\\\"featurization\\\":\\\"auto\\\",\\\"_ignore_package_version_incompatibilities\\\":false,\\\"is_timeseries\\\":false,\\\"max_cores_per_iteration\\\":1,\\\"max_concurrent_iterations\\\":4,\\\"iteration_timeout_minutes\\\":null,\\\"mem_in_mb\\\":null,\\\"enforce_time_on_windows\\\":false,\\\"experiment_timeout_minutes\\\":15,\\\"experiment_exit_score\\\":null,\\\"partition_column_names\\\":null,\\\"whitelist_models\\\":null,\\\"blacklist_algos\\\":[\\\"TensorFlowLinearClassifier\\\",\\\"TensorFlowDNN\\\"],\\\"supported_models\\\":[\\\"BernoulliNaiveBayes\\\",\\\"DecisionTree\\\",\\\"AveragedPerceptronClassifier\\\",\\\"RandomForest\\\",\\\"TabnetClassifier\\\",\\\"ExtremeRandomTrees\\\",\\\"KNN\\\",\\\"GradientBoosting\\\",\\\"TensorFlowLinearClassifier\\\",\\\"MultinomialNaiveBayes\\\",\\\"XGBoostClassifier\\\",\\\"SGD\\\",\\\"LinearSVM\\\",\\\"LightGBM\\\",\\\"LogisticRegression\\\",\\\"SVM\\\",\\\"TensorFlowDNN\\\"],\\\"private_models\\\":[],\\\"auto_blacklist\\\":true,\\\"blacklist_samples_reached\\\":false,\\\"exclude_nan_labels\\\":true,\\\"verbosity\\\":20,\\\"_debug_log\\\":\\\"azureml_automl.log\\\",\\\"show_warnings\\\":false,\\\"model_explainability\\\":true,\\\"service_url\\\":null,\\\"sdk_url\\\":null,\\\"sdk_packages\\\":null,\\\"enable_onnx_compatible_models\\\":false,\\\"enable_split_onnx_featurizer_estimator_models\\\":false,\\\"vm_type\\\":\\\"STANDARD_DS12_V2\\\",\\\"telemetry_verbosity\\\":20,\\\"send_telemetry\\\":true,\\\"enable_dnn\\\":false,\\\"scenario\\\":\\\"SDK-1.13.0\\\",\\\"environment_label\\\":null,\\\"save_mlflow\\\":false,\\\"enable_categorical_indicators\\\":false,\\\"force_text_dnn\\\":false,\\\"enable_feature_sweeping\\\":true,\\\"enable_early_stopping\\\":true,\\\"early_stopping_n_iters\\\":10,\\\"arguments\\\":null,\\\"dataset_id\\\":\\\"18482520-b0ea-4fca-94e6-5d00fcfff885\\\",\\\"hyperdrive_config\\\":null,\\\"validation_dataset_id\\\":null,\\\"run_source\\\":null,\\\"metrics\\\":null,\\\"enable_metric_confidence\\\":false,\\\"enable_ensembling\\\":true,\\\"enable_stack_ensembling\\\":true,\\\"ensemble_iterations\\\":15,\\\"enable_tf\\\":false,\\\"enable_subsampling\\\":false,\\\"subsample_seed\\\":null,\\\"enable_nimbusml\\\":false,\\\"enable_streaming\\\":false,\\\"force_streaming\\\":false,\\\"track_child_runs\\\":true,\\\"allowed_private_models\\\":[],\\\"label_column_name\\\":\\\"DEATH_EVENT\\\",\\\"weight_column_name\\\":null,\\\"cv_split_column_names\\\":null,\\\"enable_local_managed\\\":false,\\\"_local_managed_run_id\\\":null,\\\"cost_mode\\\":1,\\\"lag_length\\\":0,\\\"metric_operation\\\":\\\"maximize\\\",\\\"preprocess\\\":true}\", \"DataPrepJsonString\": \"{\\\\\\\"training_data\\\\\\\": {\\\\\\\"datasetId\\\\\\\": \\\\\\\"18482520-b0ea-4fca-94e6-5d00fcfff885\\\\\\\"}, \\\\\\\"datasets\\\\\\\": 0}\", \"EnableSubsampling\": \"False\", \"runTemplate\": \"AutoML\", \"azureml.runsource\": \"automl\", \"display_task_type\": \"classification\", \"dependencies_versions\": \"{\\\"azureml-widgets\\\": \\\"1.42.0\\\", \\\"azureml-training-tabular\\\": \\\"1.42.0\\\", \\\"azureml-train\\\": \\\"1.42.0\\\", \\\"azureml-train-restclients-hyperdrive\\\": \\\"1.42.0\\\", \\\"azureml-train-core\\\": \\\"1.42.0\\\", \\\"azureml-train-automl\\\": \\\"1.42.0\\\", \\\"azureml-train-automl-runtime\\\": \\\"1.42.0\\\", \\\"azureml-train-automl-client\\\": \\\"1.42.0\\\", \\\"azureml-tensorboard\\\": \\\"1.42.0\\\", \\\"azureml-telemetry\\\": \\\"1.42.0\\\", \\\"azureml-sdk\\\": \\\"1.42.0\\\", \\\"azureml-samples\\\": \\\"0+unknown\\\", \\\"azureml-responsibleai\\\": \\\"1.42.0\\\", \\\"azureml-pipeline\\\": \\\"1.42.0\\\", \\\"azureml-pipeline-steps\\\": \\\"1.42.0\\\", \\\"azureml-pipeline-core\\\": \\\"1.42.0\\\", \\\"azureml-opendatasets\\\": \\\"1.42.0\\\", \\\"azureml-mlflow\\\": \\\"1.42.0\\\", \\\"azureml-interpret\\\": \\\"1.42.0\\\", \\\"azureml-inference-server-http\\\": \\\"0.4.13\\\", \\\"azureml-explain-model\\\": \\\"1.42.0\\\", \\\"azureml-defaults\\\": \\\"1.42.0\\\", \\\"azureml-dataset-runtime\\\": \\\"1.42.0\\\", \\\"azureml-dataprep\\\": \\\"4.0.1\\\", \\\"azureml-dataprep-rslex\\\": \\\"2.6.1\\\", \\\"azureml-dataprep-native\\\": \\\"38.0.0\\\", \\\"azureml-datadrift\\\": \\\"1.42.0\\\", \\\"azureml-core\\\": \\\"1.42.0\\\", \\\"azureml-contrib-services\\\": \\\"1.42.0\\\", \\\"azureml-contrib-server\\\": \\\"1.42.0\\\", \\\"azureml-contrib-reinforcementlearning\\\": \\\"1.42.0\\\", \\\"azureml-contrib-pipeline-steps\\\": \\\"1.42.0\\\", \\\"azureml-contrib-notebook\\\": \\\"1.42.0\\\", \\\"azureml-contrib-fairness\\\": \\\"1.42.0\\\", \\\"azureml-contrib-dataset\\\": \\\"1.42.0\\\", \\\"azureml-contrib-automl-pipeline-steps\\\": \\\"1.42.0\\\", \\\"azureml-cli-common\\\": \\\"1.42.0\\\", \\\"azureml-automl-runtime\\\": \\\"1.42.0\\\", \\\"azureml-automl-dnn-nlp\\\": \\\"1.42.0\\\", \\\"azureml-automl-core\\\": \\\"1.42.0\\\", \\\"azureml-accel-models\\\": \\\"1.42.0\\\"}\", \"_aml_system_scenario_identification\": \"Remote.Parent\", \"ClientType\": \"SDK\", \"environment_cpu_name\": \"AzureML-AutoML\", \"environment_cpu_label\": \"prod\", \"environment_gpu_name\": \"AzureML-AutoML-GPU\", \"environment_gpu_label\": \"prod\", \"root_attribution\": \"automl\", \"attribution\": \"AutoML\", \"Orchestrator\": \"AutoML\", \"CancelUri\": \"https://southcentralus.api.azureml.ms/jasmine/v1.0/subscriptions/1b944a9b-fdae-4f97-aeb1-b7eea0beac53/resourceGroups/aml-quickstarts-202911/providers/Microsoft.MachineLearningServices/workspaces/quick-starts-ws-202911/experimentids/ba349e4f-3b59-4c47-b4ca-4e096c20e139/cancel/AutoML_aef658ec-40b2-4036-b15c-0d4f4eedb798\", \"ClientSdkVersion\": \"1.43.0.post1\", \"snapshotId\": \"00000000-0000-0000-0000-000000000000\", \"SetupRunId\": \"AutoML_aef658ec-40b2-4036-b15c-0d4f4eedb798_setup\", \"SetupRunContainerId\": \"dcid.AutoML_aef658ec-40b2-4036-b15c-0d4f4eedb798_setup\", \"FeaturizationRunJsonPath\": \"featurizer_container.json\", \"FeaturizationRunId\": \"AutoML_aef658ec-40b2-4036-b15c-0d4f4eedb798_featurize\", \"ProblemInfoJsonString\": \"{\\\"dataset_num_categorical\\\": 0, \\\"is_sparse\\\": false, \\\"subsampling\\\": false, \\\"has_extra_col\\\": true, \\\"dataset_classes\\\": 2, \\\"dataset_features\\\": 12, \\\"dataset_samples\\\": 299, \\\"single_frequency_class_detected\\\": false}\", \"ModelExplainRunId\": \"AutoML_aef658ec-40b2-4036-b15c-0d4f4eedb798_ModelExplain\"}, \"tags\": {\"model_explain_run\": \"best_run\", \"_aml_system_automl_run_workspace_id\": \"2cd2c77c-e04b-4109-8395-539faabb7ebf\", \"_aml_system_azureml.automlComponent\": \"AutoML\", \"pipeline_id\": \"\", \"score\": \"\", \"predicted_cost\": \"\", \"fit_time\": \"\", \"training_percent\": \"\", \"iteration\": \"\", \"run_preprocessor\": \"\", \"run_algorithm\": \"\", \"dynamic_allowlisting_iterations\": \"<25>;<30>;<35>;\", \"_aml_system_azureml.automl_early_exit_message\": \"No scores improved over last 10 iterations, so experiment stopped early. This early stopping behavior can be disabled by setting enable_early_stopping = False in AutoMLConfig for notebook/python SDK runs.\", \"automl_best_child_run_id\": \"AutoML_aef658ec-40b2-4036-b15c-0d4f4eedb798_37\", \"model_explain_best_run_child_id\": \"AutoML_aef658ec-40b2-4036-b15c-0d4f4eedb798_37\"}, \"end_time_utc\": \"2022-08-01T18:16:11.955002Z\", \"status\": \"Completed\", \"log_files\": {}, \"log_groups\": [], \"run_duration\": \"0:12:59\", \"run_number\": \"1659376992\", \"run_queued_details\": {\"status\": \"Completed\", \"details\": null}}, \"child_runs\": [{\"run_id\": \"AutoML_aef658ec-40b2-4036-b15c-0d4f4eedb798_setup\", \"run_number\": 1659377003, \"metric\": null, \"status\": \"Completed\", \"run_type\": \"azureml.scriptrun\", \"training_percent\": null, \"start_time\": \"2022-08-01T18:06:05.247309Z\", \"end_time\": \"2022-08-01T18:07:21.728893Z\", \"created_time\": \"2022-08-01T18:03:23.740441Z\", \"created_time_dt\": \"2022-08-01T18:03:23.740441Z\", \"duration\": \"0:03:57\", \"iteration\": null, \"goal\": null, \"run_name\": \"Completed\", \"run_properties\": null}, {\"run_id\": \"AutoML_aef658ec-40b2-4036-b15c-0d4f4eedb798_featurize\", \"run_number\": 1659377242, \"metric\": null, \"status\": \"Completed\", \"run_type\": \"automl.featurization\", \"training_percent\": null, \"start_time\": \"2022-08-01T18:07:22.428745Z\", \"end_time\": \"2022-08-01T18:07:55.062586Z\", \"created_time\": \"2022-08-01T18:07:22.085301Z\", \"created_time_dt\": \"2022-08-01T18:07:22.085301Z\", \"duration\": \"0:00:32\", \"iteration\": null, \"goal\": null, \"run_name\": \"Completed\", \"run_properties\": null}, {\"run_id\": \"AutoML_aef658ec-40b2-4036-b15c-0d4f4eedb798_0\", \"run_number\": 1659377276, \"metric\": null, \"status\": \"Completed\", \"run_type\": null, \"training_percent\": \"100\", \"start_time\": \"2022-08-01T18:08:10.712414Z\", \"end_time\": \"2022-08-01T18:08:18.71451Z\", \"created_time\": \"2022-08-01T18:07:56.253409Z\", \"created_time_dt\": \"2022-08-01T18:07:56.253409Z\", \"duration\": \"0:00:22\", \"iteration\": \"0\", \"goal\": \"accuracy_max\", \"run_name\": \"MaxAbsScaler, LightGBM\", \"run_properties\": \"copy=True\", \"primary_metric\": 0.80925926, \"best_metric\": 0.80925926}, {\"run_id\": \"AutoML_aef658ec-40b2-4036-b15c-0d4f4eedb798_worker_0\", \"run_number\": 1659377277, \"metric\": null, \"status\": \"Completed\", \"run_type\": \"azureml.scriptrun\", \"training_percent\": null, \"start_time\": \"2022-08-01T18:08:02.505011Z\", \"end_time\": \"2022-08-01T18:09:07.960863Z\", \"created_time\": \"2022-08-01T18:07:57.773579Z\", \"created_time_dt\": \"2022-08-01T18:07:57.773579Z\", \"duration\": \"0:01:10\", \"iteration\": null, \"goal\": null, \"run_name\": \"Completed\", \"run_properties\": null}, {\"run_id\": \"AutoML_aef658ec-40b2-4036-b15c-0d4f4eedb798_6\", \"run_number\": 1659377278, \"metric\": null, \"status\": \"Completed\", \"run_type\": null, \"training_percent\": \"100\", \"start_time\": \"2022-08-01T18:09:31.828865Z\", \"end_time\": \"2022-08-01T18:09:39.570461Z\", \"created_time\": \"2022-08-01T18:07:58.492872Z\", \"created_time_dt\": \"2022-08-01T18:07:58.492872Z\", \"duration\": \"0:01:41\", \"iteration\": \"6\", \"goal\": \"accuracy_max\", \"run_name\": \"RobustScaler, LogisticRegression\", \"run_properties\": \"copy=True, quantile_range=[10, 90], with_centering=True,\\n             with_scaling=True\", \"primary_metric\": 0.77582492, \"best_metric\": 0.80925926}, {\"run_id\": \"AutoML_aef658ec-40b2-4036-b15c-0d4f4eedb798_worker_1\", \"run_number\": 1659377279, \"metric\": null, \"status\": \"Completed\", \"run_type\": \"azureml.scriptrun\", \"training_percent\": null, \"start_time\": \"2022-08-01T18:09:15.497011Z\", \"end_time\": \"2022-08-01T18:10:17.257111Z\", \"created_time\": \"2022-08-01T18:07:59.773823Z\", \"created_time_dt\": \"2022-08-01T18:07:59.773823Z\", \"duration\": \"0:02:17\", \"iteration\": null, \"goal\": null, \"run_name\": \"Completed\", \"run_properties\": null}, {\"run_id\": \"AutoML_aef658ec-40b2-4036-b15c-0d4f4eedb798_11\", \"run_number\": 1659377280, \"metric\": null, \"status\": \"Completed\", \"run_type\": null, \"training_percent\": \"100\", \"start_time\": \"2022-08-01T18:10:59.12085Z\", \"end_time\": \"2022-08-01T18:11:11.625626Z\", \"created_time\": \"2022-08-01T18:08:00.276052Z\", \"created_time_dt\": \"2022-08-01T18:08:00.276052Z\", \"duration\": \"0:03:11\", \"iteration\": \"11\", \"goal\": \"accuracy_max\", \"run_name\": \"MinMaxScaler, RandomForest\", \"run_properties\": \"copy=True, feature_range=(0, 1\", \"primary_metric\": 0.82255892, \"best_metric\": 0.82255892}, {\"run_id\": \"AutoML_aef658ec-40b2-4036-b15c-0d4f4eedb798_worker_2\", \"run_number\": 1659377281, \"metric\": null, \"status\": \"Completed\", \"run_type\": \"azureml.scriptrun\", \"training_percent\": null, \"start_time\": \"2022-08-01T18:09:57.324857Z\", \"end_time\": \"2022-08-01T18:11:43.583392Z\", \"created_time\": \"2022-08-01T18:08:01.60726Z\", \"created_time_dt\": \"2022-08-01T18:08:01.60726Z\", \"duration\": \"0:03:41\", \"iteration\": null, \"goal\": null, \"run_name\": \"Completed\", \"run_properties\": null}, {\"run_id\": \"AutoML_aef658ec-40b2-4036-b15c-0d4f4eedb798_16\", \"run_number\": 1659377282, \"metric\": null, \"status\": \"Completed\", \"run_type\": null, \"training_percent\": \"100\", \"start_time\": \"2022-08-01T18:10:59.870746Z\", \"end_time\": \"2022-08-01T18:11:11.409214Z\", \"created_time\": \"2022-08-01T18:08:02.02423Z\", \"created_time_dt\": \"2022-08-01T18:08:02.02423Z\", \"duration\": \"0:03:09\", \"iteration\": \"16\", \"goal\": \"accuracy_max\", \"run_name\": \"SparseNormalizer, KNN\", \"run_properties\": \"copy=True, norm='max'\", \"primary_metric\": 0.74252525, \"best_metric\": 0.82255892}, {\"run_id\": \"AutoML_aef658ec-40b2-4036-b15c-0d4f4eedb798_worker_3\", \"run_number\": 1659377283, \"metric\": null, \"status\": \"Completed\", \"run_type\": \"azureml.scriptrun\", \"training_percent\": null, \"start_time\": \"2022-08-01T18:09:58.008434Z\", \"end_time\": \"2022-08-01T18:11:42.714782Z\", \"created_time\": \"2022-08-01T18:08:03.250926Z\", \"created_time_dt\": \"2022-08-01T18:08:03.250926Z\", \"duration\": \"0:03:39\", \"iteration\": null, \"goal\": null, \"run_name\": \"Completed\", \"run_properties\": null}, {\"run_id\": \"AutoML_aef658ec-40b2-4036-b15c-0d4f4eedb798_20\", \"run_number\": 1659377493, \"metric\": null, \"status\": \"Completed\", \"run_type\": \"azureml.scriptrun\", \"training_percent\": \"100\", \"start_time\": \"2022-08-01T18:11:41.170808Z\", \"end_time\": \"2022-08-01T18:12:47.093567Z\", \"created_time\": \"2022-08-01T18:11:33.013427Z\", \"created_time_dt\": \"2022-08-01T18:11:33.013427Z\", \"duration\": \"0:01:14\", \"iteration\": \"20\", \"goal\": \"accuracy_max\", \"run_name\": \"MaxAbsScaler, LogisticRegression\", \"run_properties\": \"copy=True\", \"primary_metric\": 0.80249158, \"best_metric\": 0.82255892}, {\"run_id\": \"AutoML_aef658ec-40b2-4036-b15c-0d4f4eedb798_23\", \"run_number\": 1659377559, \"metric\": null, \"status\": \"Completed\", \"run_type\": \"azureml.scriptrun\", \"training_percent\": \"100\", \"start_time\": \"2022-08-01T18:12:52.133999Z\", \"end_time\": \"2022-08-01T18:13:14.343078Z\", \"created_time\": \"2022-08-01T18:12:39.877806Z\", \"created_time_dt\": \"2022-08-01T18:12:39.877806Z\", \"duration\": \"0:00:34\", \"iteration\": \"23\", \"goal\": \"accuracy_max\", \"run_name\": \"StandardScalerWrapper, RandomForest\", \"run_properties\": \"copy=True, with_mean=False, with_std=False\", \"primary_metric\": 0.76589226, \"best_metric\": 0.82255892}, {\"run_id\": \"AutoML_aef658ec-40b2-4036-b15c-0d4f4eedb798_25\", \"run_number\": 1659377569, \"metric\": null, \"status\": \"Completed\", \"run_type\": \"azureml.scriptrun\", \"training_percent\": \"100\", \"start_time\": \"2022-08-01T18:12:55.068981Z\", \"end_time\": \"2022-08-01T18:13:12.706498Z\", \"created_time\": \"2022-08-01T18:12:49.685929Z\", \"created_time_dt\": \"2022-08-01T18:12:49.685929Z\", \"duration\": \"0:00:23\", \"iteration\": \"25\", \"goal\": \"accuracy_max\", \"run_name\": \"SparseNormalizer, XGBoostClassifier\", \"run_properties\": \"copy=True, norm='l1'\", \"primary_metric\": 0.80592593, \"best_metric\": 0.82255892}, {\"run_id\": \"AutoML_aef658ec-40b2-4036-b15c-0d4f4eedb798_26\", \"run_number\": 1659377594, \"metric\": null, \"status\": \"Completed\", \"run_type\": \"azureml.scriptrun\", \"training_percent\": \"100\", \"start_time\": \"2022-08-01T18:13:19.590405Z\", \"end_time\": \"2022-08-01T18:13:38.051296Z\", \"created_time\": \"2022-08-01T18:13:14.231524Z\", \"created_time_dt\": \"2022-08-01T18:13:14.231524Z\", \"duration\": \"0:00:23\", \"iteration\": \"26\", \"goal\": \"accuracy_max\", \"run_name\": \"SparseNormalizer, XGBoostClassifier\", \"run_properties\": \"copy=True, norm='l2'\", \"primary_metric\": 0.81279461, \"best_metric\": 0.82255892}, {\"run_id\": \"AutoML_aef658ec-40b2-4036-b15c-0d4f4eedb798_28\", \"run_number\": 1659377596, \"metric\": null, \"status\": \"Completed\", \"run_type\": \"azureml.scriptrun\", \"training_percent\": \"100\", \"start_time\": \"2022-08-01T18:13:22.464283Z\", \"end_time\": \"2022-08-01T18:13:40.892873Z\", \"created_time\": \"2022-08-01T18:13:16.757126Z\", \"created_time_dt\": \"2022-08-01T18:13:16.757126Z\", \"duration\": \"0:00:24\", \"iteration\": \"28\", \"goal\": \"accuracy_max\", \"run_name\": \"MinMaxScaler, RandomForest\", \"run_properties\": \"copy=True, feature_range=(0, 1\", \"primary_metric\": 0.80919192, \"best_metric\": 0.82255892}, {\"run_id\": \"AutoML_aef658ec-40b2-4036-b15c-0d4f4eedb798_29\", \"run_number\": 1659377619, \"metric\": null, \"status\": \"Completed\", \"run_type\": \"azureml.scriptrun\", \"training_percent\": \"100\", \"start_time\": \"2022-08-01T18:13:46.831284Z\", \"end_time\": \"2022-08-01T18:14:11.212696Z\", \"created_time\": \"2022-08-01T18:13:39.501093Z\", \"created_time_dt\": \"2022-08-01T18:13:39.501093Z\", \"duration\": \"0:00:31\", \"iteration\": \"29\", \"goal\": \"accuracy_max\", \"run_name\": \"StandardScalerWrapper, RandomForest\", \"run_properties\": \"copy=True, with_mean=True, with_std=True\", \"primary_metric\": 0.84609428, \"best_metric\": 0.84609428}, {\"run_id\": \"AutoML_aef658ec-40b2-4036-b15c-0d4f4eedb798_30\", \"run_number\": 1659377623, \"metric\": null, \"status\": \"Completed\", \"run_type\": \"azureml.scriptrun\", \"training_percent\": \"100\", \"start_time\": \"2022-08-01T18:13:49.856928Z\", \"end_time\": \"2022-08-01T18:14:08.167602Z\", \"created_time\": \"2022-08-01T18:13:43.275797Z\", \"created_time_dt\": \"2022-08-01T18:13:43.275797Z\", \"duration\": \"0:00:24\", \"iteration\": \"30\", \"goal\": \"accuracy_max\", \"run_name\": \"StandardScalerWrapper, XGBoostClassifier\", \"run_properties\": \"copy=True, with_mean=False, with_std=False\", \"primary_metric\": 0.82929293, \"best_metric\": 0.84609428}, {\"run_id\": \"AutoML_aef658ec-40b2-4036-b15c-0d4f4eedb798_31\", \"run_number\": 1659377626, \"metric\": null, \"status\": \"Completed\", \"run_type\": \"azureml.scriptrun\", \"training_percent\": \"100\", \"start_time\": \"2022-08-01T18:14:08.186635Z\", \"end_time\": \"2022-08-01T18:14:30.468605Z\", \"created_time\": \"2022-08-01T18:13:46.403701Z\", \"created_time_dt\": \"2022-08-01T18:13:46.403701Z\", \"duration\": \"0:00:44\", \"iteration\": \"31\", \"goal\": \"accuracy_max\", \"run_name\": \"RobustScaler, LightGBM\", \"run_properties\": \"copy=True, quantile_range=[25, 75], with_centering=True,\\n             with_scaling=False\", \"primary_metric\": 0.8159596, \"best_metric\": 0.84609428}, {\"run_id\": \"AutoML_aef658ec-40b2-4036-b15c-0d4f4eedb798_32\", \"run_number\": 1659377643, \"metric\": null, \"status\": \"Completed\", \"run_type\": \"azureml.scriptrun\", \"training_percent\": \"100\", \"start_time\": \"2022-08-01T18:14:14.120723Z\", \"end_time\": \"2022-08-01T18:14:36.412519Z\", \"created_time\": \"2022-08-01T18:14:03.238634Z\", \"created_time_dt\": \"2022-08-01T18:14:03.238634Z\", \"duration\": \"0:00:33\", \"iteration\": \"32\", \"goal\": \"accuracy_max\", \"run_name\": \"StandardScalerWrapper, XGBoostClassifier\", \"run_properties\": \"copy=True, with_mean=False, with_std=False\", \"primary_metric\": 0.84609428, \"best_metric\": 0.84609428}, {\"run_id\": \"AutoML_aef658ec-40b2-4036-b15c-0d4f4eedb798_33\", \"run_number\": 1659377649, \"metric\": null, \"status\": \"Completed\", \"run_type\": \"azureml.scriptrun\", \"training_percent\": \"100\", \"start_time\": \"2022-08-01T18:14:17.232158Z\", \"end_time\": \"2022-08-01T18:14:39.541716Z\", \"created_time\": \"2022-08-01T18:14:09.575576Z\", \"created_time_dt\": \"2022-08-01T18:14:09.575576Z\", \"duration\": \"0:00:29\", \"iteration\": \"33\", \"goal\": \"accuracy_max\", \"run_name\": \"MinMaxScaler, GradientBoosting\", \"run_properties\": \"copy=True, feature_range=(0, 1\", \"primary_metric\": 0.81925926, \"best_metric\": 0.84609428}, {\"run_id\": \"AutoML_aef658ec-40b2-4036-b15c-0d4f4eedb798_34\", \"run_number\": 1659377653, \"metric\": null, \"status\": \"Canceled\", \"run_type\": \"azureml.scriptrun\", \"training_percent\": \"100\", \"start_time\": \"2022-08-01T18:14:38.399653Z\", \"end_time\": \"2022-08-01T18:14:43.899485Z\", \"created_time\": \"2022-08-01T18:14:13.169179Z\", \"created_time_dt\": \"2022-08-01T18:14:13.169179Z\", \"duration\": \"0:00:30\", \"iteration\": \"34\", \"goal\": null, \"run_name\": \"Canceled\", \"run_properties\": null}, {\"run_id\": \"AutoML_aef658ec-40b2-4036-b15c-0d4f4eedb798_35\", \"run_number\": 1659377672, \"metric\": null, \"status\": \"Canceled\", \"run_type\": \"azureml.scriptrun\", \"training_percent\": \"100\", \"start_time\": \"2022-08-01T18:14:40.094676Z\", \"end_time\": \"2022-08-01T18:14:40.354404Z\", \"created_time\": \"2022-08-01T18:14:32.893669Z\", \"created_time_dt\": \"2022-08-01T18:14:32.893669Z\", \"duration\": \"0:00:07\", \"iteration\": \"35\", \"goal\": null, \"run_name\": \"Canceled\", \"run_properties\": null}, {\"run_id\": \"AutoML_aef658ec-40b2-4036-b15c-0d4f4eedb798_36\", \"run_number\": 1659377677, \"metric\": null, \"status\": \"Canceled\", \"run_type\": \"azureml.scriptrun\", \"training_percent\": \"100\", \"start_time\": \"2022-08-01T18:14:40.114212Z\", \"end_time\": \"2022-08-01T18:14:41.365875Z\", \"created_time\": \"2022-08-01T18:14:37.879733Z\", \"created_time_dt\": \"2022-08-01T18:14:37.879733Z\", \"duration\": \"0:00:03\", \"iteration\": \"36\", \"goal\": null, \"run_name\": \"Canceled\", \"run_properties\": null}, {\"run_id\": \"AutoML_aef658ec-40b2-4036-b15c-0d4f4eedb798_37\", \"run_number\": 1659377684, \"metric\": null, \"status\": \"Completed\", \"run_type\": \"azureml.scriptrun\", \"training_percent\": \"100\", \"start_time\": \"2022-08-01T18:14:48.531941Z\", \"end_time\": \"2022-08-01T18:15:22.387192Z\", \"created_time\": \"2022-08-01T18:14:44.381172Z\", \"created_time_dt\": \"2022-08-01T18:14:44.381172Z\", \"duration\": \"0:00:38\", \"iteration\": \"37\", \"goal\": \"accuracy_max\", \"run_name\": \"VotingEnsemble\", \"run_properties\": \"classification_labels=numpy.array([0, 1]\", \"primary_metric\": 0.85952862, \"best_metric\": 0.85952862}], \"children_metrics\": {\"categories\": [0], \"series\": {\"recall_score_weighted\": [{\"categories\": [\"0\", \"6\", \"11\", \"16\", \"20\", \"23\", \"25\", \"26\", \"28\", \"29\", \"30\", \"31\", \"32\", \"33\", \"37\"], \"mode\": \"markers\", \"name\": \"recall_score_weighted\", \"stepped\": false, \"type\": \"scatter\", \"data\": [0.8092592592592592, 0.7758249158249159, 0.8225589225589225, 0.7425252525252525, 0.8024915824915825, 0.7658922558922558, 0.8059259259259259, 0.8127946127946127, 0.8091919191919192, 0.8460942760942761, 0.8292929292929294, 0.8159595959595961, 0.8460942760942761, 0.8192592592592592, 0.8595286195286196]}, {\"categories\": [\"0\", \"6\", \"11\", \"16\", \"20\", \"23\", \"25\", \"26\", \"28\", \"29\", \"30\", \"31\", \"32\", \"33\", \"37\"], \"mode\": \"lines\", \"name\": \"recall_score_weighted_max\", \"stepped\": true, \"type\": \"scatter\", \"data\": [0.8092592592592592, 0.8092592592592592, 0.8225589225589225, 0.8225589225589225, 0.8225589225589225, 0.8225589225589225, 0.8225589225589225, 0.8225589225589225, 0.8225589225589225, 0.8460942760942761, 0.8460942760942761, 0.8460942760942761, 0.8460942760942761, 0.8460942760942761, 0.8595286195286196]}], \"average_precision_score_weighted\": [{\"categories\": [\"0\", \"6\", \"11\", \"16\", \"20\", \"23\", \"25\", \"26\", \"28\", \"29\", \"30\", \"31\", \"32\", \"33\", \"37\"], \"mode\": \"markers\", \"name\": \"average_precision_score_weighted\", \"stepped\": false, \"type\": \"scatter\", \"data\": [0.873538817783821, 0.8623541738523839, 0.9133084176206455, 0.7822909096120321, 0.8648440460321166, 0.8825236511501487, 0.8806502384616303, 0.8638996951399699, 0.8842661733650848, 0.9081330315319098, 0.8950890645732944, 0.8757776129802184, 0.8671591724188318, 0.8834093918458682, 0.9081776662917459]}, {\"categories\": [\"0\", \"6\", \"11\", \"16\", \"20\", \"23\", \"25\", \"26\", \"28\", \"29\", \"30\", \"31\", \"32\", \"33\", \"37\"], \"mode\": \"lines\", \"name\": \"average_precision_score_weighted_max\", \"stepped\": true, \"type\": \"scatter\", \"data\": [0.873538817783821, 0.873538817783821, 0.9133084176206455, 0.9133084176206455, 0.9133084176206455, 0.9133084176206455, 0.9133084176206455, 0.9133084176206455, 0.9133084176206455, 0.9133084176206455, 0.9133084176206455, 0.9133084176206455, 0.9133084176206455, 0.9133084176206455, 0.9133084176206455]}], \"balanced_accuracy\": [{\"categories\": [\"0\", \"6\", \"11\", \"16\", \"20\", \"23\", \"25\", \"26\", \"28\", \"29\", \"30\", \"31\", \"32\", \"33\", \"37\"], \"mode\": \"markers\", \"name\": \"balanced_accuracy\", \"stepped\": false, \"type\": \"scatter\", \"data\": [0.7731751455889387, 0.7810470569091259, 0.8141816693540832, 0.6383634866393487, 0.7664812595847078, 0.6816767506422678, 0.7701778132812617, 0.7781527833251971, 0.7860234618855308, 0.8034524672455707, 0.7942661873696357, 0.7846693984625018, 0.7953830677968609, 0.7688165998510826, 0.8213546058373645]}, {\"categories\": [\"0\", \"6\", \"11\", \"16\", \"20\", \"23\", \"25\", \"26\", \"28\", \"29\", \"30\", \"31\", \"32\", \"33\", \"37\"], \"mode\": \"lines\", \"name\": \"balanced_accuracy_max\", \"stepped\": true, \"type\": \"scatter\", \"data\": [0.7731751455889387, 0.7810470569091259, 0.8141816693540832, 0.8141816693540832, 0.8141816693540832, 0.8141816693540832, 0.8141816693540832, 0.8141816693540832, 0.8141816693540832, 0.8141816693540832, 0.8141816693540832, 0.8141816693540832, 0.8141816693540832, 0.8141816693540832, 0.8213546058373645]}], \"average_precision_score_macro\": [{\"categories\": [\"0\", \"6\", \"11\", \"16\", \"20\", \"23\", \"25\", \"26\", \"28\", \"29\", \"30\", \"31\", \"32\", \"33\", \"37\"], \"mode\": \"markers\", \"name\": \"average_precision_score_macro\", \"stepped\": false, \"type\": \"scatter\", \"data\": [0.8418072253597559, 0.8312994119162388, 0.8911934177678805, 0.7429084121107014, 0.8349509526139521, 0.8489229076827035, 0.8488388811378194, 0.8344822245440837, 0.8567812406228724, 0.8848923309601404, 0.8647234403202947, 0.8440869812466097, 0.8426884617068825, 0.8505506413598646, 0.8852512127689834]}, {\"categories\": [\"0\", \"6\", \"11\", \"16\", \"20\", \"23\", \"25\", \"26\", \"28\", \"29\", \"30\", \"31\", \"32\", \"33\", \"37\"], \"mode\": \"lines\", \"name\": \"average_precision_score_macro_max\", \"stepped\": true, \"type\": \"scatter\", \"data\": [0.8418072253597559, 0.8418072253597559, 0.8911934177678805, 0.8911934177678805, 0.8911934177678805, 0.8911934177678805, 0.8911934177678805, 0.8911934177678805, 0.8911934177678805, 0.8911934177678805, 0.8911934177678805, 0.8911934177678805, 0.8911934177678805, 0.8911934177678805, 0.8911934177678805]}], \"f1_score_micro\": [{\"categories\": [\"0\", \"6\", \"11\", \"16\", \"20\", \"23\", \"25\", \"26\", \"28\", \"29\", \"30\", \"31\", \"32\", \"33\", \"37\"], \"mode\": \"markers\", \"name\": \"f1_score_micro\", \"stepped\": false, \"type\": \"scatter\", \"data\": [0.8092592592592593, 0.7758249158249159, 0.8225589225589225, 0.7425252525252525, 0.8024915824915825, 0.7658922558922558, 0.8059259259259259, 0.8127946127946127, 0.8091919191919192, 0.8460942760942761, 0.8292929292929294, 0.8159595959595961, 0.8460942760942761, 0.8192592592592592, 0.8595286195286196]}, {\"categories\": [\"0\", \"6\", \"11\", \"16\", \"20\", \"23\", \"25\", \"26\", \"28\", \"29\", \"30\", \"31\", \"32\", \"33\", \"37\"], \"mode\": \"lines\", \"name\": \"f1_score_micro_max\", \"stepped\": true, \"type\": \"scatter\", \"data\": [0.8092592592592593, 0.8092592592592593, 0.8225589225589225, 0.8225589225589225, 0.8225589225589225, 0.8225589225589225, 0.8225589225589225, 0.8225589225589225, 0.8225589225589225, 0.8460942760942761, 0.8460942760942761, 0.8460942760942761, 0.8460942760942761, 0.8460942760942761, 0.8595286195286196]}], \"precision_score_macro\": [{\"categories\": [\"0\", \"6\", \"11\", \"16\", \"20\", \"23\", \"25\", \"26\", \"28\", \"29\", \"30\", \"31\", \"32\", \"33\", \"37\"], \"mode\": \"markers\", \"name\": \"precision_score_macro\", \"stepped\": false, \"type\": \"scatter\", \"data\": [0.78798899219383, 0.752582798749219, 0.803231228347646, 0.7343305405057553, 0.7848563995587859, 0.7661704912938475, 0.7894053372684883, 0.7895558810257546, 0.8007800301744794, 0.8414563103778403, 0.8144778876832098, 0.7965171690566774, 0.8463660513660515, 0.8083297357411006, 0.856624582583786]}, {\"categories\": [\"0\", \"6\", \"11\", \"16\", \"20\", \"23\", \"25\", \"26\", \"28\", \"29\", \"30\", \"31\", \"32\", \"33\", \"37\"], \"mode\": \"lines\", \"name\": \"precision_score_macro_max\", \"stepped\": true, \"type\": \"scatter\", \"data\": [0.78798899219383, 0.78798899219383, 0.803231228347646, 0.803231228347646, 0.803231228347646, 0.803231228347646, 0.803231228347646, 0.803231228347646, 0.803231228347646, 0.8414563103778403, 0.8414563103778403, 0.8414563103778403, 0.8463660513660515, 0.8463660513660515, 0.856624582583786]}], \"recall_score_micro\": [{\"categories\": [\"0\", \"6\", \"11\", \"16\", \"20\", \"23\", \"25\", \"26\", \"28\", \"29\", \"30\", \"31\", \"32\", \"33\", \"37\"], \"mode\": \"markers\", \"name\": \"recall_score_micro\", \"stepped\": false, \"type\": \"scatter\", \"data\": [0.8092592592592592, 0.7758249158249159, 0.8225589225589225, 0.7425252525252525, 0.8024915824915825, 0.7658922558922558, 0.8059259259259259, 0.8127946127946127, 0.8091919191919192, 0.8460942760942761, 0.8292929292929294, 0.8159595959595961, 0.8460942760942761, 0.8192592592592592, 0.8595286195286196]}, {\"categories\": [\"0\", \"6\", \"11\", \"16\", \"20\", \"23\", \"25\", \"26\", \"28\", \"29\", \"30\", \"31\", \"32\", \"33\", \"37\"], \"mode\": \"lines\", \"name\": \"recall_score_micro_max\", \"stepped\": true, \"type\": \"scatter\", \"data\": [0.8092592592592592, 0.8092592592592592, 0.8225589225589225, 0.8225589225589225, 0.8225589225589225, 0.8225589225589225, 0.8225589225589225, 0.8225589225589225, 0.8225589225589225, 0.8460942760942761, 0.8460942760942761, 0.8460942760942761, 0.8460942760942761, 0.8460942760942761, 0.8595286195286196]}], \"AUC_micro\": [{\"categories\": [\"0\", \"6\", \"11\", \"16\", \"20\", \"23\", \"25\", \"26\", \"28\", \"29\", \"30\", \"31\", \"32\", \"33\", \"37\"], \"mode\": \"markers\", \"name\": \"AUC_micro\", \"stepped\": false, \"type\": \"scatter\", \"data\": [0.8827037479168792, 0.8457646702717408, 0.9062333571404279, 0.8038174574023059, 0.8694759990477161, 0.879520494507363, 0.8883081454273373, 0.8739846240179574, 0.8858364044485256, 0.9027895282794273, 0.9000110192837466, 0.8867626296636398, 0.8893365676971738, 0.8914247253681596, 0.9087137230894807]}, {\"categories\": [\"0\", \"6\", \"11\", \"16\", \"20\", \"23\", \"25\", \"26\", \"28\", \"29\", \"30\", \"31\", \"32\", \"33\", \"37\"], \"mode\": \"lines\", \"name\": \"AUC_micro_max\", \"stepped\": true, \"type\": \"scatter\", \"data\": [0.8827037479168792, 0.8827037479168792, 0.9062333571404279, 0.9062333571404279, 0.9062333571404279, 0.9062333571404279, 0.9062333571404279, 0.9062333571404279, 0.9062333571404279, 0.9062333571404279, 0.9062333571404279, 0.9062333571404279, 0.9062333571404279, 0.9062333571404279, 0.9087137230894807]}], \"AUC_macro\": [{\"categories\": [\"0\", \"6\", \"11\", \"16\", \"20\", \"23\", \"25\", \"26\", \"28\", \"29\", \"30\", \"31\", \"32\", \"33\", \"37\"], \"mode\": \"markers\", \"name\": \"AUC_macro\", \"stepped\": false, \"type\": \"scatter\", \"data\": [0.8636422629526077, 0.8444876896601033, 0.906895171033102, 0.7425737067116378, 0.8466784025404716, 0.8755517093448129, 0.874796274106619, 0.8522084153118636, 0.8777143399557192, 0.8987423383975108, 0.8898986178296523, 0.8692394857912099, 0.8692810791086654, 0.8802664733699217, 0.8999929979240324]}, {\"categories\": [\"0\", \"6\", \"11\", \"16\", \"20\", \"23\", \"25\", \"26\", \"28\", \"29\", \"30\", \"31\", \"32\", \"33\", \"37\"], \"mode\": \"lines\", \"name\": \"AUC_macro_max\", \"stepped\": true, \"type\": \"scatter\", \"data\": [0.8636422629526077, 0.8636422629526077, 0.906895171033102, 0.906895171033102, 0.906895171033102, 0.906895171033102, 0.906895171033102, 0.906895171033102, 0.906895171033102, 0.906895171033102, 0.906895171033102, 0.906895171033102, 0.906895171033102, 0.906895171033102, 0.906895171033102]}], \"average_precision_score_micro\": [{\"categories\": [\"0\", \"6\", \"11\", \"16\", \"20\", \"23\", \"25\", \"26\", \"28\", \"29\", \"30\", \"31\", \"32\", \"33\", \"37\"], \"mode\": \"markers\", \"name\": \"average_precision_score_micro\", \"stepped\": false, \"type\": \"scatter\", \"data\": [0.8778369826502578, 0.8461984295116137, 0.9056026291129905, 0.7996509217195085, 0.869663552919974, 0.8843099825980051, 0.8867909288722874, 0.8727310730930947, 0.884348311949185, 0.90359516839306, 0.9014494949390081, 0.8826039265325084, 0.8742334819533818, 0.8882211613759674, 0.9090721226893348]}, {\"categories\": [\"0\", \"6\", \"11\", \"16\", \"20\", \"23\", \"25\", \"26\", \"28\", \"29\", \"30\", \"31\", \"32\", \"33\", \"37\"], \"mode\": \"lines\", \"name\": \"average_precision_score_micro_max\", \"stepped\": true, \"type\": \"scatter\", \"data\": [0.8778369826502578, 0.8778369826502578, 0.9056026291129905, 0.9056026291129905, 0.9056026291129905, 0.9056026291129905, 0.9056026291129905, 0.9056026291129905, 0.9056026291129905, 0.9056026291129905, 0.9056026291129905, 0.9056026291129905, 0.9056026291129905, 0.9056026291129905, 0.9090721226893348]}], \"precision_score_weighted\": [{\"categories\": [\"0\", \"6\", \"11\", \"16\", \"20\", \"23\", \"25\", \"26\", \"28\", \"29\", \"30\", \"31\", \"32\", \"33\", \"37\"], \"mode\": \"markers\", \"name\": \"precision_score_weighted\", \"stepped\": false, \"type\": \"scatter\", \"data\": [0.8132243429318056, 0.8024086161706919, 0.8390985532917599, 0.7411765322907335, 0.8094385367703031, 0.7753991524395563, 0.8140943731616082, 0.811078800365471, 0.8274708297963135, 0.8506754996865644, 0.8341492814391795, 0.8216023873502363, 0.8491303774637108, 0.8227677414539968, 0.8633436421194771]}, {\"categories\": [\"0\", \"6\", \"11\", \"16\", \"20\", \"23\", \"25\", \"26\", \"28\", \"29\", \"30\", \"31\", \"32\", \"33\", \"37\"], \"mode\": \"lines\", \"name\": \"precision_score_weighted_max\", \"stepped\": true, \"type\": \"scatter\", \"data\": [0.8132243429318056, 0.8132243429318056, 0.8390985532917599, 0.8390985532917599, 0.8390985532917599, 0.8390985532917599, 0.8390985532917599, 0.8390985532917599, 0.8390985532917599, 0.8506754996865644, 0.8506754996865644, 0.8506754996865644, 0.8506754996865644, 0.8506754996865644, 0.8633436421194771]}], \"precision_score_micro\": [{\"categories\": [\"0\", \"6\", \"11\", \"16\", \"20\", \"23\", \"25\", \"26\", \"28\", \"29\", \"30\", \"31\", \"32\", \"33\", \"37\"], \"mode\": \"markers\", \"name\": \"precision_score_micro\", \"stepped\": false, \"type\": \"scatter\", \"data\": [0.8092592592592592, 0.7758249158249159, 0.8225589225589225, 0.7425252525252525, 0.8024915824915825, 0.7658922558922558, 0.8059259259259259, 0.8127946127946127, 0.8091919191919192, 0.8460942760942761, 0.8292929292929294, 0.8159595959595961, 0.8460942760942761, 0.8192592592592592, 0.8595286195286196]}, {\"categories\": [\"0\", \"6\", \"11\", \"16\", \"20\", \"23\", \"25\", \"26\", \"28\", \"29\", \"30\", \"31\", \"32\", \"33\", \"37\"], \"mode\": \"lines\", \"name\": \"precision_score_micro_max\", \"stepped\": true, \"type\": \"scatter\", \"data\": [0.8092592592592592, 0.8092592592592592, 0.8225589225589225, 0.8225589225589225, 0.8225589225589225, 0.8225589225589225, 0.8225589225589225, 0.8225589225589225, 0.8225589225589225, 0.8460942760942761, 0.8460942760942761, 0.8460942760942761, 0.8460942760942761, 0.8460942760942761, 0.8595286195286196]}], \"f1_score_weighted\": [{\"categories\": [\"0\", \"6\", \"11\", \"16\", \"20\", \"23\", \"25\", \"26\", \"28\", \"29\", \"30\", \"31\", \"32\", \"33\", \"37\"], \"mode\": \"markers\", \"name\": \"f1_score_weighted\", \"stepped\": false, \"type\": \"scatter\", \"data\": [0.8063492280156729, 0.7816332012363009, 0.8247906724648745, 0.7119486284973049, 0.799873863320251, 0.7442965031859332, 0.8020918552800249, 0.8090338440079599, 0.8071555465010206, 0.841214857585145, 0.8260194485549249, 0.8137855911541113, 0.8386242894499197, 0.8126489611514521, 0.8537289281396695]}, {\"categories\": [\"0\", \"6\", \"11\", \"16\", \"20\", \"23\", \"25\", \"26\", \"28\", \"29\", \"30\", \"31\", \"32\", \"33\", \"37\"], \"mode\": \"lines\", \"name\": \"f1_score_weighted_max\", \"stepped\": true, \"type\": \"scatter\", \"data\": [0.8063492280156729, 0.8063492280156729, 0.8247906724648745, 0.8247906724648745, 0.8247906724648745, 0.8247906724648745, 0.8247906724648745, 0.8247906724648745, 0.8247906724648745, 0.841214857585145, 0.841214857585145, 0.841214857585145, 0.841214857585145, 0.841214857585145, 0.8537289281396695]}], \"f1_score_macro\": [{\"categories\": [\"0\", \"6\", \"11\", \"16\", \"20\", \"23\", \"25\", \"26\", \"28\", \"29\", \"30\", \"31\", \"32\", \"33\", \"37\"], \"mode\": \"markers\", \"name\": \"f1_score_macro\", \"stepped\": false, \"type\": \"scatter\", \"data\": [0.774742387907709, 0.757579634677994, 0.8012289520543044, 0.6455558824305396, 0.7683517369342786, 0.6906388229176269, 0.7702433967809226, 0.780434226238165, 0.7798433663043292, 0.8137850080739218, 0.7975596738502503, 0.784614854169465, 0.8097871386155381, 0.7784152631414923, 0.8297084365390162]}, {\"categories\": [\"0\", \"6\", \"11\", \"16\", \"20\", \"23\", \"25\", \"26\", \"28\", \"29\", \"30\", \"31\", \"32\", \"33\", \"37\"], \"mode\": \"lines\", \"name\": \"f1_score_macro_max\", \"stepped\": true, \"type\": \"scatter\", \"data\": [0.774742387907709, 0.774742387907709, 0.8012289520543044, 0.8012289520543044, 0.8012289520543044, 0.8012289520543044, 0.8012289520543044, 0.8012289520543044, 0.8012289520543044, 0.8137850080739218, 0.8137850080739218, 0.8137850080739218, 0.8137850080739218, 0.8137850080739218, 0.8297084365390162]}], \"log_loss\": [{\"categories\": [\"0\", \"6\", \"11\", \"16\", \"20\", \"23\", \"25\", \"26\", \"28\", \"29\", \"30\", \"31\", \"32\", \"33\", \"37\"], \"mode\": \"markers\", \"name\": \"log_loss\", \"stepped\": false, \"type\": \"scatter\", \"data\": [0.5646708972227602, 0.5171128589213557, 0.46740105134656246, 0.658877554951693, 0.4794849874705885, 0.44674623358730586, 0.47443410798041435, 0.542541774257148, 0.4309250414035586, 0.4371979006377824, 0.40745657680760544, 0.43005047978788574, 0.4256693562566108, 0.4180095783584061, 0.41552258436965656]}, {\"categories\": [\"0\", \"6\", \"11\", \"16\", \"20\", \"23\", \"25\", \"26\", \"28\", \"29\", \"30\", \"31\", \"32\", \"33\", \"37\"], \"mode\": \"lines\", \"name\": \"log_loss_min\", \"stepped\": true, \"type\": \"scatter\", \"data\": [0.5646708972227602, 0.5171128589213557, 0.46740105134656246, 0.46740105134656246, 0.46740105134656246, 0.44674623358730586, 0.44674623358730586, 0.44674623358730586, 0.4309250414035586, 0.4309250414035586, 0.40745657680760544, 0.40745657680760544, 0.40745657680760544, 0.40745657680760544, 0.40745657680760544]}], \"weighted_accuracy\": [{\"categories\": [\"0\", \"6\", \"11\", \"16\", \"20\", \"23\", \"25\", \"26\", \"28\", \"29\", \"30\", \"31\", \"32\", \"33\", \"37\"], \"mode\": \"markers\", \"name\": \"weighted_accuracy\", \"stepped\": false, \"type\": \"scatter\", \"data\": [0.8375149892175466, 0.772809578105052, 0.8302968561339141, 0.8212400378713788, 0.8309758030835693, 0.8306140865833266, 0.8344475526010017, 0.8401449266761757, 0.8288657023486324, 0.8793344968006408, 0.8569259452907261, 0.8408412349955462, 0.8853106726870132, 0.8581785291775961, 0.8897873448195064]}, {\"categories\": [\"0\", \"6\", \"11\", \"16\", \"20\", \"23\", \"25\", \"26\", \"28\", \"29\", \"30\", \"31\", \"32\", \"33\", \"37\"], \"mode\": \"lines\", \"name\": \"weighted_accuracy_max\", \"stepped\": true, \"type\": \"scatter\", \"data\": [0.8375149892175466, 0.8375149892175466, 0.8375149892175466, 0.8375149892175466, 0.8375149892175466, 0.8375149892175466, 0.8375149892175466, 0.8401449266761757, 0.8401449266761757, 0.8793344968006408, 0.8793344968006408, 0.8793344968006408, 0.8853106726870132, 0.8853106726870132, 0.8897873448195064]}], \"matthews_correlation\": [{\"categories\": [\"0\", \"6\", \"11\", \"16\", \"20\", \"23\", \"25\", \"26\", \"28\", \"29\", \"30\", \"31\", \"32\", \"33\", \"37\"], \"mode\": \"markers\", \"name\": \"matthews_correlation\", \"stepped\": false, \"type\": \"scatter\", \"data\": [0.5599809494302588, 0.5325759455847078, 0.6162442668176499, 0.3583389725951234, 0.5498460219699872, 0.4364860470296903, 0.5573558503125343, 0.5671843207766906, 0.5841598346168918, 0.642838939443174, 0.6072506880632881, 0.5799775157188111, 0.6390225537155206, 0.5746532571837615, 0.6757879301394585]}, {\"categories\": [\"0\", \"6\", \"11\", \"16\", \"20\", \"23\", \"25\", \"26\", \"28\", \"29\", \"30\", \"31\", \"32\", \"33\", \"37\"], \"mode\": \"lines\", \"name\": \"matthews_correlation_max\", \"stepped\": true, \"type\": \"scatter\", \"data\": [0.5599809494302588, 0.5599809494302588, 0.6162442668176499, 0.6162442668176499, 0.6162442668176499, 0.6162442668176499, 0.6162442668176499, 0.6162442668176499, 0.6162442668176499, 0.642838939443174, 0.642838939443174, 0.642838939443174, 0.642838939443174, 0.642838939443174, 0.6757879301394585]}], \"accuracy\": [{\"categories\": [\"0\", \"6\", \"11\", \"16\", \"20\", \"23\", \"25\", \"26\", \"28\", \"29\", \"30\", \"31\", \"32\", \"33\", \"37\"], \"mode\": \"markers\", \"name\": \"accuracy\", \"stepped\": false, \"type\": \"scatter\", \"data\": [0.8092592592592592, 0.7758249158249159, 0.8225589225589225, 0.7425252525252525, 0.8024915824915825, 0.7658922558922558, 0.8059259259259259, 0.8127946127946127, 0.8091919191919192, 0.8460942760942761, 0.8292929292929294, 0.8159595959595961, 0.8460942760942761, 0.8192592592592592, 0.8595286195286196]}, {\"categories\": [\"0\", \"6\", \"11\", \"16\", \"20\", \"23\", \"25\", \"26\", \"28\", \"29\", \"30\", \"31\", \"32\", \"33\", \"37\"], \"mode\": \"lines\", \"name\": \"accuracy_max\", \"stepped\": true, \"type\": \"scatter\", \"data\": [0.8092592592592592, 0.8092592592592592, 0.8225589225589225, 0.8225589225589225, 0.8225589225589225, 0.8225589225589225, 0.8225589225589225, 0.8225589225589225, 0.8225589225589225, 0.8460942760942761, 0.8460942760942761, 0.8460942760942761, 0.8460942760942761, 0.8460942760942761, 0.8595286195286196]}], \"recall_score_macro\": [{\"categories\": [\"0\", \"6\", \"11\", \"16\", \"20\", \"23\", \"25\", \"26\", \"28\", \"29\", \"30\", \"31\", \"32\", \"33\", \"37\"], \"mode\": \"markers\", \"name\": \"recall_score_macro\", \"stepped\": false, \"type\": \"scatter\", \"data\": [0.7731751455889387, 0.7810470569091259, 0.8141816693540832, 0.6383634866393487, 0.7664812595847078, 0.6816767506422678, 0.7701778132812617, 0.7781527833251971, 0.7860234618855308, 0.8034524672455707, 0.7942661873696357, 0.7846693984625018, 0.7953830677968609, 0.7688165998510826, 0.8213546058373645]}, {\"categories\": [\"0\", \"6\", \"11\", \"16\", \"20\", \"23\", \"25\", \"26\", \"28\", \"29\", \"30\", \"31\", \"32\", \"33\", \"37\"], \"mode\": \"lines\", \"name\": \"recall_score_macro_max\", \"stepped\": true, \"type\": \"scatter\", \"data\": [0.7731751455889387, 0.7810470569091259, 0.8141816693540832, 0.8141816693540832, 0.8141816693540832, 0.8141816693540832, 0.8141816693540832, 0.8141816693540832, 0.8141816693540832, 0.8141816693540832, 0.8141816693540832, 0.8141816693540832, 0.8141816693540832, 0.8141816693540832, 0.8213546058373645]}], \"norm_macro_recall\": [{\"categories\": [\"0\", \"6\", \"11\", \"16\", \"20\", \"23\", \"25\", \"26\", \"28\", \"29\", \"30\", \"31\", \"32\", \"33\", \"37\"], \"mode\": \"markers\", \"name\": \"norm_macro_recall\", \"stepped\": false, \"type\": \"scatter\", \"data\": [0.5463502911778774, 0.5620941138182518, 0.6283633387081663, 0.27672697327869744, 0.5329625191694157, 0.36335350128453575, 0.540355626562523, 0.5563055666503943, 0.5720469237710617, 0.6069049344911415, 0.5885323747392712, 0.5693387969250039, 0.5907661355937217, 0.5376331997021652, 0.6427092116747289]}, {\"categories\": [\"0\", \"6\", \"11\", \"16\", \"20\", \"23\", \"25\", \"26\", \"28\", \"29\", \"30\", \"31\", \"32\", \"33\", \"37\"], \"mode\": \"lines\", \"name\": \"norm_macro_recall_max\", \"stepped\": true, \"type\": \"scatter\", \"data\": [0.5463502911778774, 0.5620941138182518, 0.6283633387081663, 0.6283633387081663, 0.6283633387081663, 0.6283633387081663, 0.6283633387081663, 0.6283633387081663, 0.6283633387081663, 0.6283633387081663, 0.6283633387081663, 0.6283633387081663, 0.6283633387081663, 0.6283633387081663, 0.6427092116747289]}], \"AUC_weighted\": [{\"categories\": [\"0\", \"6\", \"11\", \"16\", \"20\", \"23\", \"25\", \"26\", \"28\", \"29\", \"30\", \"31\", \"32\", \"33\", \"37\"], \"mode\": \"markers\", \"name\": \"AUC_weighted\", \"stepped\": false, \"type\": \"scatter\", \"data\": [0.8636422629526077, 0.8444876896601036, 0.906895171033102, 0.7425737067116378, 0.8466784025404716, 0.8755517093448129, 0.8747962741066191, 0.8522084153118636, 0.8777143399557193, 0.8987423383975108, 0.8898986178296523, 0.8692394857912099, 0.8692810791086653, 0.8802664733699217, 0.8999929979240324]}, {\"categories\": [\"0\", \"6\", \"11\", \"16\", \"20\", \"23\", \"25\", \"26\", \"28\", \"29\", \"30\", \"31\", \"32\", \"33\", \"37\"], \"mode\": \"lines\", \"name\": \"AUC_weighted_max\", \"stepped\": true, \"type\": \"scatter\", \"data\": [0.8636422629526077, 0.8636422629526077, 0.906895171033102, 0.906895171033102, 0.906895171033102, 0.906895171033102, 0.906895171033102, 0.906895171033102, 0.906895171033102, 0.906895171033102, 0.906895171033102, 0.906895171033102, 0.906895171033102, 0.906895171033102, 0.906895171033102]}]}, \"metricName\": null, \"primaryMetricName\": \"accuracy\", \"showLegend\": false}, \"run_metrics\": [{\"name\": \"experiment_status\", \"run_id\": \"AutoML_aef658ec-40b2-4036-b15c-0d4f4eedb798\", \"categories\": [0, 1, 2, 3, 4, 5, 6, 7, 8, 9, 10, 11, 12, 13], \"series\": [{\"data\": [\"DatasetEvaluation\", \"FeaturesGeneration\", \"DatasetFeaturization\", \"DatasetFeaturizationCompleted\", \"DatasetCrossValidationSplit\", \"ModelSelection\", \"BestRunExplainModel\", \"ModelExplanationDataSetSetup\", \"PickSurrogateModel\", \"EngineeredFeatureExplanations\", \"EngineeredFeatureExplanations\", \"RawFeaturesExplanations\", \"RawFeaturesExplanations\", \"BestRunExplainModel\"]}]}, {\"name\": \"experiment_status_description\", \"run_id\": \"AutoML_aef658ec-40b2-4036-b15c-0d4f4eedb798\", \"categories\": [0, 1, 2, 3, 4, 5, 6, 7, 8, 9, 10, 11, 12, 13], \"series\": [{\"data\": [\"Gathering dataset statistics.\", \"Generating features for the dataset.\", \"Beginning to fit featurizers and featurize the dataset.\", \"Completed fit featurizers and featurizing the dataset.\", \"Generating individually featurized CV splits.\", \"Beginning model selection.\", \"Best run model explanations started\", \"Model explanations data setup completed\", \"Choosing LightGBM as the surrogate model for explanations\", \"Computation of engineered features started\", \"Computation of engineered features completed\", \"Computation of raw features started\", \"Computation of raw features completed\", \"Best run model explanations completed\"]}]}, {\"name\": \"log_loss\", \"run_id\": \"AutoML_aef658ec-40b2-4036-b15c-0d4f4eedb798\", \"categories\": [0], \"series\": [{\"data\": [0.41552258436965656]}]}, {\"name\": \"precision_score_weighted\", \"run_id\": \"AutoML_aef658ec-40b2-4036-b15c-0d4f4eedb798\", \"categories\": [0], \"series\": [{\"data\": [0.8633436421194771]}]}, {\"name\": \"average_precision_score_macro\", \"run_id\": \"AutoML_aef658ec-40b2-4036-b15c-0d4f4eedb798\", \"categories\": [0], \"series\": [{\"data\": [0.8852512127689834]}]}, {\"name\": \"weighted_accuracy\", \"run_id\": \"AutoML_aef658ec-40b2-4036-b15c-0d4f4eedb798\", \"categories\": [0], \"series\": [{\"data\": [0.8897873448195064]}]}, {\"name\": \"recall_score_micro\", \"run_id\": \"AutoML_aef658ec-40b2-4036-b15c-0d4f4eedb798\", \"categories\": [0], \"series\": [{\"data\": [0.8595286195286196]}]}, {\"name\": \"recall_score_macro\", \"run_id\": \"AutoML_aef658ec-40b2-4036-b15c-0d4f4eedb798\", \"categories\": [0], \"series\": [{\"data\": [0.8213546058373645]}]}, {\"name\": \"accuracy\", \"run_id\": \"AutoML_aef658ec-40b2-4036-b15c-0d4f4eedb798\", \"categories\": [0], \"series\": [{\"data\": [0.8595286195286196]}]}, {\"name\": \"precision_score_micro\", \"run_id\": \"AutoML_aef658ec-40b2-4036-b15c-0d4f4eedb798\", \"categories\": [0], \"series\": [{\"data\": [0.8595286195286196]}]}, {\"name\": \"matthews_correlation\", \"run_id\": \"AutoML_aef658ec-40b2-4036-b15c-0d4f4eedb798\", \"categories\": [0], \"series\": [{\"data\": [0.6757879301394585]}]}, {\"name\": \"AUC_weighted\", \"run_id\": \"AutoML_aef658ec-40b2-4036-b15c-0d4f4eedb798\", \"categories\": [0], \"series\": [{\"data\": [0.8999929979240324]}]}, {\"name\": \"norm_macro_recall\", \"run_id\": \"AutoML_aef658ec-40b2-4036-b15c-0d4f4eedb798\", \"categories\": [0], \"series\": [{\"data\": [0.6427092116747289]}]}, {\"name\": \"AUC_micro\", \"run_id\": \"AutoML_aef658ec-40b2-4036-b15c-0d4f4eedb798\", \"categories\": [0], \"series\": [{\"data\": [0.9087137230894807]}]}, {\"name\": \"recall_score_weighted\", \"run_id\": \"AutoML_aef658ec-40b2-4036-b15c-0d4f4eedb798\", \"categories\": [0], \"series\": [{\"data\": [0.8595286195286196]}]}, {\"name\": \"precision_score_macro\", \"run_id\": \"AutoML_aef658ec-40b2-4036-b15c-0d4f4eedb798\", \"categories\": [0], \"series\": [{\"data\": [0.856624582583786]}]}, {\"name\": \"average_precision_score_micro\", \"run_id\": \"AutoML_aef658ec-40b2-4036-b15c-0d4f4eedb798\", \"categories\": [0], \"series\": [{\"data\": [0.9090721226893348]}]}, {\"name\": \"f1_score_weighted\", \"run_id\": \"AutoML_aef658ec-40b2-4036-b15c-0d4f4eedb798\", \"categories\": [0], \"series\": [{\"data\": [0.8537289281396695]}]}, {\"name\": \"f1_score_macro\", \"run_id\": \"AutoML_aef658ec-40b2-4036-b15c-0d4f4eedb798\", \"categories\": [0], \"series\": [{\"data\": [0.8297084365390162]}]}, {\"name\": \"average_precision_score_weighted\", \"run_id\": \"AutoML_aef658ec-40b2-4036-b15c-0d4f4eedb798\", \"categories\": [0], \"series\": [{\"data\": [0.9081776662917459]}]}, {\"name\": \"AUC_macro\", \"run_id\": \"AutoML_aef658ec-40b2-4036-b15c-0d4f4eedb798\", \"categories\": [0], \"series\": [{\"data\": [0.8999929979240324]}]}, {\"name\": \"f1_score_micro\", \"run_id\": \"AutoML_aef658ec-40b2-4036-b15c-0d4f4eedb798\", \"categories\": [0], \"series\": [{\"data\": [0.8595286195286196]}]}, {\"name\": \"balanced_accuracy\", \"run_id\": \"AutoML_aef658ec-40b2-4036-b15c-0d4f4eedb798\", \"categories\": [0], \"series\": [{\"data\": [0.8213546058373645]}]}], \"run_logs\": \"\\nRun is completed.\", \"graph\": {}, \"widget_settings\": {\"childWidgetDisplay\": \"popup\", \"send_telemetry\": false, \"log_level\": \"INFO\", \"sdk_version\": \"1.42.0\"}, \"loading\": false}"
          },
          "metadata": {}
        }
      ],
      "execution_count": 8,
      "metadata": {
        "gather": {
          "logged": 1659377792661
        },
        "jupyter": {
          "outputs_hidden": false,
          "source_hidden": false
        },
        "nteract": {
          "transient": {
            "deleting": false
          }
        },
        "vscode": {
          "languageId": "python"
        }
      }
    },
    {
      "cell_type": "markdown",
      "source": [
        "## Best Model"
      ],
      "metadata": {}
    },
    {
      "cell_type": "code",
      "source": [
        "best_run, fitted_model = remote_run.get_output()"
      ],
      "outputs": [
        {
          "output_type": "stream",
          "name": "stderr",
          "text": "WARNING:root:The version of the SDK does not match the version the model was trained on.\nWARNING:root:The consistency in the result may not be guaranteed.\nWARNING:root:Package:azureml-automl-core, training version:1.43.0.post2, current version:1.42.0\nPackage:azureml-automl-runtime, training version:1.43.0, current version:1.42.0\nPackage:azureml-core, training version:1.43.0, current version:1.42.0\nPackage:azureml-dataset-runtime, training version:1.43.0, current version:1.42.0\nPackage:azureml-defaults, training version:1.43.0, current version:1.42.0\nPackage:azureml-interpret, training version:1.43.0, current version:1.42.0\nPackage:azureml-mlflow, training version:1.43.0.post1, current version:1.42.0\nPackage:azureml-pipeline-core, training version:1.43.0, current version:1.42.0\nPackage:azureml-responsibleai, training version:1.43.0, current version:1.42.0\nPackage:azureml-telemetry, training version:1.43.0, current version:1.42.0\nPackage:azureml-train-automl-client, training version:1.43.0, current version:1.42.0\nPackage:azureml-train-automl-runtime, training version:1.43.0.post1, current version:1.42.0\nPackage:azureml-train-core, training version:1.43.0, current version:1.42.0\nPackage:azureml-train-restclients-hyperdrive, training version:1.43.0, current version:1.42.0\nPackage:azureml-training-tabular, training version:1.43.0, current version:1.42.0\nWARNING:root:Please ensure the version of your local conda dependencies match the version on which your model was trained in order to properly retrieve your model.\n"
        }
      ],
      "execution_count": 10,
      "metadata": {
        "gather": {
          "logged": 1659377907020
        },
        "jupyter": {
          "outputs_hidden": false,
          "source_hidden": false
        },
        "nteract": {
          "transient": {
            "deleting": false
          }
        },
        "vscode": {
          "languageId": "python"
        }
      }
    },
    {
      "cell_type": "code",
      "source": [
        "best_metrics = best_run.get_metrics()\n",
        "print(f\"Best Run Id: {best_run.id}\", \n",
        "      f\"Accuracy: {best_metrics['accuracy']}\",\n",
        "      f\"Best Metrics: {best_metrics}\",\n",
        "      f\"Best Model: {fitted_model}\")\n"
      ],
      "outputs": [
        {
          "output_type": "stream",
          "name": "stdout",
          "text": "Best Run Id: AutoML_aef658ec-40b2-4036-b15c-0d4f4eedb798_37 Accuracy: 0.8595286195286196 Best Metrics: {'f1_score_macro': 0.8297084365390162, 'balanced_accuracy': 0.8213546058373645, 'precision_score_micro': 0.8595286195286196, 'average_precision_score_micro': 0.9090721226893348, 'f1_score_weighted': 0.8537289281396695, 'recall_score_weighted': 0.8595286195286196, 'accuracy': 0.8595286195286196, 'AUC_macro': 0.8999929979240324, 'f1_score_micro': 0.8595286195286196, 'precision_score_macro': 0.856624582583786, 'recall_score_macro': 0.8213546058373645, 'weighted_accuracy': 0.8897873448195064, 'AUC_weighted': 0.8999929979240324, 'matthews_correlation': 0.6757879301394585, 'average_precision_score_macro': 0.8852512127689834, 'recall_score_micro': 0.8595286195286196, 'AUC_micro': 0.9087137230894807, 'average_precision_score_weighted': 0.9081776662917459, 'log_loss': 0.41552258436965656, 'precision_score_weighted': 0.8633436421194771, 'norm_macro_recall': 0.6427092116747289, 'accuracy_table': 'aml://artifactId/ExperimentRun/dcid.AutoML_aef658ec-40b2-4036-b15c-0d4f4eedb798_37/accuracy_table', 'confusion_matrix': 'aml://artifactId/ExperimentRun/dcid.AutoML_aef658ec-40b2-4036-b15c-0d4f4eedb798_37/confusion_matrix'} Best Model: Pipeline(memory=None,\n         steps=[('datatransformer',\n                 DataTransformer(enable_dnn=False, enable_feature_sweeping=True, feature_sweeping_config={}, feature_sweeping_timeout=86400, featurization_config=None, force_text_dnn=False, is_cross_validation=True, is_onnx_compatible=False, observer=None, task='classification', working_dir='/mnt/batch/tasks/shared/LS_root/mount...\n                 PreFittedSoftVotingClassifier(classification_labels=array([0, 1]), estimators=[('21', Pipeline(memory=None, steps=[('standardscalerwrapper', StandardScalerWrapper(copy=True, with_mean=False, with_std=False)), ('xgboostclassifier', XGBoostClassifier(booster='gbtree', colsample_bytree=1, eta=0.3, gamma=0, max_depth=10, max_leaves=511, n_estimators=10, n_jobs=1, objective='reg:logistic', problem_info=ProblemInfo(gpu_training_param_dict={'processing_unit_type': 'cpu'}), random_state=0, reg_alpha=2.1875, reg_lambda=0.4166666666666667, subsample=0.5, tree_method='auto'))], verbose=False)), ('32', Pipeline(memory=None, steps=[('standardscalerwrapper', StandardScalerWrapper(copy=True, with_mean=False, with_std=False)), ('xgboostclassifier', XGBoostClassifier(booster='gbtree', colsample_bytree=0.9, eta=0.3, gamma=10, max_depth=8, max_leaves=127, n_estimators=100, n_jobs=1, objective='reg:logistic', problem_info=ProblemInfo(gpu_training_param_dict={'processing_unit_type': 'cpu'}), random_state=0, reg_alpha=0, reg_lambda=2.3958333333333335, subsample=0.5, tree_method='auto'))], verbose=False)), ('29', Pipeline(memory=None, steps=[('standardscalerwrapper', StandardScalerWrapper(copy=True, with_mean=True, with_std=True)), ('randomforestclassifier', RandomForestClassifier(bootstrap=False, ccp_alpha=0.0, class_weight=None, criterion='gini', max_depth=None, max_features=0.2, max_leaf_nodes=None, max_samples=None, min_impurity_decrease=0.0, min_impurity_split=None, min_samples_leaf=0.01, min_samples_split=0.2442105263157895, min_weight_fraction_leaf=0.0, n_estimators=400, n_jobs=1, oob_score=False, random_state=None, verbose=0, warm_start=False))], verbose=False)), ('5', Pipeline(memory=None, steps=[('maxabsscaler', MaxAbsScaler(copy=True)), ('lightgbmclassifier', LightGBMClassifier(boosting_type='gbdt', colsample_bytree=0.6933333333333332, learning_rate=0.09473736842105263, max_bin=110, max_depth=8, min_child_weight=6, min_data_in_leaf=0.003457931034482759, min_split_gain=1, n_estimators=25, n_jobs=1, num_leaves=227, problem_info=ProblemInfo(gpu_training_param_dict={'processing_unit_type': 'cpu'}), random_state=None, reg_alpha=0.9473684210526315, reg_lambda=0.42105263157894735, subsample=0.49526315789473685))], verbose=False)), ('24', Pipeline(memory=None, steps=[('standardscalerwrapper', StandardScalerWrapper(copy=True, with_mean=False, with_std=False)), ('xgboostclassifier', XGBoostClassifier(booster='gbtree', colsample_bytree=0.7, eta=0.1, gamma=0.1, max_depth=9, max_leaves=511, n_estimators=25, n_jobs=1, objective='reg:logistic', problem_info=ProblemInfo(gpu_training_param_dict={'processing_unit_type': 'cpu'}), random_state=0, reg_alpha=0, reg_lambda=1.7708333333333335, subsample=0.9, tree_method='auto'))], verbose=False)), ('22', Pipeline(memory=None, steps=[('sparsenormalizer', Normalizer(copy=True, norm='l2')), ('randomforestclassifier', RandomForestClassifier(bootstrap=True, ccp_alpha=0.0, class_weight='balanced', criterion='gini', max_depth=None, max_features='sqrt', max_leaf_nodes=None, max_samples=None, min_impurity_decrease=0.0, min_impurity_split=None, min_samples_leaf=0.01, min_samples_split=0.01, min_weight_fraction_leaf=0.0, n_estimators=100, n_jobs=1, oob_score=True, random_state=None, verbose=0, warm_start=False))], verbose=False)), ('16', Pipeline(memory=None, steps=[('sparsenormalizer', Normalizer(copy=True, norm='max')), ('kneighborsclassifier', KNeighborsClassifier(algorithm='auto', leaf_size=30, metric='manhattan', metric_params=None, n_jobs=1, n_neighbors=10, p=2, weights='distance'))], verbose=False)), ('12', Pipeline(memory=None, steps=[('standardscalerwrapper', StandardScalerWrapper(copy=True, with_mean=True, with_std=False)), ('logisticregression', LogisticRegression(C=16.768329368110066, class_weight=None, dual=False, fit_intercept=True, intercept_scaling=1, l1_ratio=None, max_iter=100, multi_class='multinomial', n_jobs=1, penalty='l2', random_state=None, solver='lbfgs', tol=0.0001, verbose=0, warm_start=False))], verbose=False))], flatten_transform=None, weights=[0.16666666666666666, 0.08333333333333333, 0.25, 0.08333333333333333, 0.08333333333333333, 0.16666666666666666, 0.08333333333333333, 0.08333333333333333]))],\n         verbose=False)\n"
        }
      ],
      "execution_count": 11,
      "metadata": {
        "gather": {
          "logged": 1659377915995
        },
        "jupyter": {
          "outputs_hidden": false,
          "source_hidden": false
        },
        "nteract": {
          "transient": {
            "deleting": false
          }
        },
        "vscode": {
          "languageId": "python"
        }
      }
    },
    {
      "cell_type": "code",
      "source": [
        "print(fitted_model._final_estimator)"
      ],
      "outputs": [
        {
          "output_type": "stream",
          "name": "stdout",
          "text": "PreFittedSoftVotingClassifier(classification_labels=numpy.array([0, 1]), estimators=[('21', Pipeline(memory=None, steps=[('standardscalerwrapper', StandardScalerWrapper(copy=True, with_mean=False, with_std=False)), ('xgboostclassifier', XGBoostClassifier(booster='gbtree', colsample_bytree=1, eta=0.3, gamma=0, max_depth=10, max_leaves=511, n_estimators=10, n_jobs=1, objective='reg:logistic', problem_info=ProblemInfo(gpu_training_param_dict={'processing_unit_type': 'cpu'}), random_state=0, reg_alpha=2.1875, reg_lambda=0.4166666666666667, subsample=0.5, tree_method='auto'))], verbose=False)), ('32', Pipeline(memory=None, steps=[('standardscalerwrapper', StandardScalerWrapper(copy=True, with_mean=False, with_std=False)), ('xgboostclassifier', XGBoostClassifier(booster='gbtree', colsample_bytree=0.9, eta=0.3, gamma=10, max_depth=8, max_leaves=127, n_estimators=100, n_jobs=1, objective='reg:logistic', problem_info=ProblemInfo(gpu_training_param_dict={'processing_unit_type': 'cpu'}), random_state=0, reg_alpha=0, reg_lambda=2.3958333333333335, subsample=0.5, tree_method='auto'))], verbose=False)), ('29', Pipeline(memory=None, steps=[('standardscalerwrapper', StandardScalerWrapper(copy=True, with_mean=True, with_std=True)), ('randomforestclassifier', RandomForestClassifier(bootstrap=False, ccp_alpha=0.0, class_weight=None, criterion='gini', max_depth=None, max_features=0.2, max_leaf_nodes=None, max_samples=None, min_impurity_decrease=0.0, min_impurity_split=None, min_samples_leaf=0.01, min_samples_split=0.2442105263157895, min_weight_fraction_leaf=0.0, n_estimators=400, n_jobs=1, oob_score=False, random_state=None, verbose=0, warm_start=False))], verbose=False)), ('5', Pipeline(memory=None, steps=[('maxabsscaler', MaxAbsScaler(copy=True)), ('lightgbmclassifier', LightGBMClassifier(boosting_type='gbdt', colsample_bytree=0.6933333333333332, learning_rate=0.09473736842105263, max_bin=110, max_depth=8, min_child_weight=6, min_data_in_leaf=0.003457931034482759, min_split_gain=1, n_estimators=25, n_jobs=1, num_leaves=227, problem_info=ProblemInfo(gpu_training_param_dict={'processing_unit_type': 'cpu'}), random_state=None, reg_alpha=0.9473684210526315, reg_lambda=0.42105263157894735, subsample=0.49526315789473685))], verbose=False)), ('24', Pipeline(memory=None, steps=[('standardscalerwrapper', StandardScalerWrapper(copy=True, with_mean=False, with_std=False)), ('xgboostclassifier', XGBoostClassifier(booster='gbtree', colsample_bytree=0.7, eta=0.1, gamma=0.1, max_depth=9, max_leaves=511, n_estimators=25, n_jobs=1, objective='reg:logistic', problem_info=ProblemInfo(gpu_training_param_dict={'processing_unit_type': 'cpu'}), random_state=0, reg_alpha=0, reg_lambda=1.7708333333333335, subsample=0.9, tree_method='auto'))], verbose=False)), ('22', Pipeline(memory=None, steps=[('sparsenormalizer', Normalizer(copy=True, norm='l2')), ('randomforestclassifier', RandomForestClassifier(bootstrap=True, ccp_alpha=0.0, class_weight='balanced', criterion='gini', max_depth=None, max_features='sqrt', max_leaf_nodes=None, max_samples=None, min_impurity_decrease=0.0, min_impurity_split=None, min_samples_leaf=0.01, min_samples_split=0.01, min_weight_fraction_leaf=0.0, n_estimators=100, n_jobs=1, oob_score=True, random_state=None, verbose=0, warm_start=False))], verbose=False)), ('16', Pipeline(memory=None, steps=[('sparsenormalizer', Normalizer(copy=True, norm='max')), ('kneighborsclassifier', KNeighborsClassifier(algorithm='auto', leaf_size=30, metric='manhattan', metric_params=None, n_jobs=1, n_neighbors=10, p=2, weights='distance'))], verbose=False)), ('12', Pipeline(memory=None, steps=[('standardscalerwrapper', StandardScalerWrapper(copy=True, with_mean=True, with_std=False)), ('logisticregression', LogisticRegression(C=16.768329368110066, class_weight=None, dual=False, fit_intercept=True, intercept_scaling=1, l1_ratio=None, max_iter=100, multi_class='multinomial', n_jobs=1, penalty='l2', random_state=None, solver='lbfgs', tol=0.0001, verbose=0, warm_start=False))], verbose=False))], flatten_transform=None, weights=[0.16666666666666666, 0.08333333333333333, 0.25, 0.08333333333333333, 0.08333333333333333, 0.16666666666666666, 0.08333333333333333, 0.08333333333333333])\n"
        }
      ],
      "execution_count": 12,
      "metadata": {
        "vscode": {
          "languageId": "python"
        },
        "gather": {
          "logged": 1659377924896
        }
      }
    },
    {
      "cell_type": "code",
      "source": [
        "# Save the best model\n",
        "model = best_run.register_model(\n",
        "    model_name = 'heart-failure-best-model-automl',\n",
        "    model_path = './outputs/model.pkl'\n",
        ")\n",
        "print(model)"
      ],
      "outputs": [
        {
          "output_type": "stream",
          "name": "stdout",
          "text": "Model(workspace=Workspace.create(name='quick-starts-ws-202911', subscription_id='1b944a9b-fdae-4f97-aeb1-b7eea0beac53', resource_group='aml-quickstarts-202911'), name=heart-failure-best-model-automl, id=heart-failure-best-model-automl:5, version=5, tags={}, properties={})\n"
        }
      ],
      "execution_count": 13,
      "metadata": {
        "vscode": {
          "languageId": "python"
        },
        "gather": {
          "logged": 1659377931013
        }
      }
    },
    {
      "cell_type": "code",
      "source": [
        "for model in Model.list(ws):\n",
        "    print(model.name, 'Version:', model.version)"
      ],
      "outputs": [
        {
          "output_type": "stream",
          "name": "stdout",
          "text": "heart-failure-best-model-automl Version: 5\nheart-failure-best-model-automl Version: 4\n"
        }
      ],
      "execution_count": 14,
      "metadata": {
        "vscode": {
          "languageId": "python"
        },
        "gather": {
          "logged": 1659377937995
        }
      }
    },
    {
      "cell_type": "markdown",
      "source": [
        "## Model Deployment\n",
        "\n",
        "Deploy the model using azure container instance"
      ],
      "metadata": {}
    },
    {
      "cell_type": "code",
      "source": [
        "import os\n",
        "os.makedirs('./aml-model', exist_ok=True)\n",
        "best_run.download_file(\n",
        "    '/outputs/model.pkl',\n",
        "    os.path.join('./aml-model','heart-failure-best-model-automl.pkl'))\n",
        "\n",
        "for f in best_run.get_file_names():\n",
        "    if f.startswith('outputs'):\n",
        "        output_file_path = os.path.join('./aml-model', f.split('/')[-1])\n",
        "        print(f\"Downloading the {f} to {output_file_path} \")\n",
        "        best_run.download_file(\n",
        "            name = f,\n",
        "            output_file_path = output_file_path\n",
        "        )"
      ],
      "outputs": [
        {
          "output_type": "stream",
          "name": "stdout",
          "text": "Downloading the outputs/conda_env_v_1_0_0.yml to ./aml-model/conda_env_v_1_0_0.yml \nDownloading the outputs/engineered_feature_names.json to ./aml-model/engineered_feature_names.json \nDownloading the outputs/env_dependencies.json to ./aml-model/env_dependencies.json \nDownloading the outputs/featurization_summary.json to ./aml-model/featurization_summary.json \nDownloading the outputs/generated_code/conda_environment.yaml to ./aml-model/conda_environment.yaml \nDownloading the outputs/generated_code/script.py to ./aml-model/script.py \nDownloading the outputs/generated_code/script_run_notebook.ipynb to ./aml-model/script_run_notebook.ipynb \nDownloading the outputs/internal_cross_validated_models.pkl to ./aml-model/internal_cross_validated_models.pkl \nDownloading the outputs/model.pkl to ./aml-model/model.pkl \nDownloading the outputs/pipeline_graph.json to ./aml-model/pipeline_graph.json \nDownloading the outputs/run_id.txt to ./aml-model/run_id.txt \nDownloading the outputs/scoring_file_pbi_v_1_0_0.py to ./aml-model/scoring_file_pbi_v_1_0_0.py \nDownloading the outputs/scoring_file_v_1_0_0.py to ./aml-model/scoring_file_v_1_0_0.py \nDownloading the outputs/scoring_file_v_2_0_0.py to ./aml-model/scoring_file_v_2_0_0.py \n"
        }
      ],
      "execution_count": 15,
      "metadata": {
        "vscode": {
          "languageId": "python"
        },
        "gather": {
          "logged": 1659377950500
        }
      }
    },
    {
      "cell_type": "code",
      "source": [
        "# Define the environment\n",
        "best_run.download_file('outputs/conda_env_v_1_0_0.yml', 'conda_env.yml')\n",
        "environment = Environment.from_conda_specification(\n",
        "    name = 'heart-failure-env',\n",
        "    file_path = 'conda_env.yml'\n",
        ")"
      ],
      "outputs": [],
      "execution_count": 16,
      "metadata": {
        "vscode": {
          "languageId": "python"
        },
        "gather": {
          "logged": 1659377963312
        }
      }
    },
    {
      "cell_type": "code",
      "source": [
        "# Download the scoring file\n",
        "\n",
        "model1 = best_run.download_file('outputs/scoring_file_v_1_0_0.py', 'score.py')"
      ],
      "outputs": [],
      "execution_count": 17,
      "metadata": {
        "gather": {
          "logged": 1659377968291
        },
        "jupyter": {
          "outputs_hidden": false,
          "source_hidden": false
        },
        "nteract": {
          "transient": {
            "deleting": false
          }
        },
        "vscode": {
          "languageId": "python"
        }
      }
    },
    {
      "cell_type": "code",
      "source": [
        "# Inference configuration\n",
        "inference_config = InferenceConfig(\n",
        "    entry_script = 'score.py',\n",
        "    environment = environment\n",
        ")"
      ],
      "outputs": [],
      "execution_count": 18,
      "metadata": {
        "vscode": {
          "languageId": "python"
        },
        "gather": {
          "logged": 1659377972733
        }
      }
    },
    {
      "cell_type": "code",
      "source": [
        "# ACI configuration\n",
        "aci_config = AciWebservice.deploy_configuration(\n",
        "    cpu_cores = 1,\n",
        "    memory_gb = 1,\n",
        "    # auth_enabled = True,\n",
        "    enable_app_insights = True\n",
        ")"
      ],
      "outputs": [],
      "execution_count": 19,
      "metadata": {
        "vscode": {
          "languageId": "python"
        },
        "gather": {
          "logged": 1659377977140
        }
      }
    },
    {
      "cell_type": "code",
      "source": [
        "# Deploy\n",
        "webservice = Model.deploy(\n",
        "    workspace = ws,\n",
        "    name = 'heart-failure-ws',\n",
        "    models = [model],\n",
        "    inference_config = inference_config,\n",
        "    deployment_config = aci_config,\n",
        "    overwrite=True\n",
        ")\n",
        "\n",
        "print('****'*20)"
      ],
      "outputs": [
        {
          "output_type": "stream",
          "name": "stdout",
          "text": "********************************************************************************\n"
        }
      ],
      "execution_count": 20,
      "metadata": {
        "jupyter": {
          "outputs_hidden": false,
          "source_hidden": false
        },
        "nteract": {
          "transient": {
            "deleting": false
          }
        },
        "vscode": {
          "languageId": "python"
        },
        "gather": {
          "logged": 1659377991264
        }
      }
    },
    {
      "cell_type": "code",
      "source": [
        "webservice.wait_for_deployment(show_output=True)"
      ],
      "outputs": [
        {
          "output_type": "stream",
          "name": "stdout",
          "text": "Tips: You can try get_logs(): https://aka.ms/debugimage#dockerlog or local deployment: https://aka.ms/debugimage#debug-locally to debug if deployment takes longer than 10 minutes.\nRunning\n2022-08-01 18:19:44+00:00 Creating Container Registry if not exists.\n2022-08-01 18:19:44+00:00 Registering the environment.\n2022-08-01 18:19:45+00:00 Use the existing image.\n2022-08-01 18:19:46+00:00 Generating deployment configuration.\n2022-08-01 18:19:46+00:00 Submitting deployment to compute.\n2022-08-01 18:19:49+00:00 Checking the status of deployment heart-failure-ws..\n2022-08-01 18:22:25+00:00 Checking the status of inference endpoint heart-failure-ws.\nSucceeded\nACI service creation operation finished, operation \"Succeeded\"\n"
        }
      ],
      "execution_count": 21,
      "metadata": {
        "jupyter": {
          "source_hidden": false,
          "outputs_hidden": false
        },
        "nteract": {
          "transient": {
            "deleting": false
          }
        },
        "gather": {
          "logged": 1659378176068
        }
      }
    },
    {
      "cell_type": "markdown",
      "source": [
        "## Consume"
      ],
      "metadata": {}
    },
    {
      "cell_type": "code",
      "source": [
        "data = ('{\"data\": [{\"age\": 70.0, \"anaemia\": 0, \"creatinine_phosphokinase\": 582, '\n",
        " '\"diabetes\": 0, \"ejection_fraction\": 40, \"high_blood_pressure\": 0, '\n",
        " '\"platelets\": 51000.0, \"serum_creatinine\": 2.7, \"serum_sodium\": 136, \"sex\": '\n",
        " '1, \"smoking\": 1, \"time\": 250}, {\"age\": 62.0, \"anaemia\": 1, '\n",
        " '\"creatinine_phosphokinase\": 655, \"diabetes\": 0, \"ejection_fraction\": 40, '\n",
        " '\"high_blood_pressure\": 0, \"platelets\": 283000.0, \"serum_creatinine\": 0.7, '\n",
        " '\"serum_sodium\": 133, \"sex\": 0, \"smoking\": 0, \"time\": 233}, {\"age\": 65.0, '\n",
        " '\"anaemia\": 0, \"creatinine_phosphokinase\": 582, \"diabetes\": 1, '\n",
        " '\"ejection_fraction\": 40, \"high_blood_pressure\": 0, \"platelets\": 270000.0, '\n",
        " '\"serum_creatinine\": 1.0, \"serum_sodium\": 138, \"sex\": 0, \"smoking\": 0, '\n",
        " '\"time\": 140}, {\"age\": 42.0, \"anaemia\": 0, \"creatinine_phosphokinase\": 5209, '\n",
        " '\"diabetes\": 0, \"ejection_fraction\": 30, \"high_blood_pressure\": 0, '\n",
        " '\"platelets\": 226000.0, \"serum_creatinine\": 1.0, \"serum_sodium\": 140, \"sex\": '\n",
        " '1, \"smoking\": 1, \"time\": 87}, {\"age\": 85.0, \"anaemia\": 1, '\n",
        " '\"creatinine_phosphokinase\": 910, \"diabetes\": 0, \"ejection_fraction\": 50, '\n",
        " '\"high_blood_pressure\": 0, \"platelets\": 235000.0, \"serum_creatinine\": 1.3, '\n",
        " '\"serum_sodium\": 134, \"sex\": 1, \"smoking\": 0, \"time\": 121}]}')\n"
      ],
      "outputs": [],
      "execution_count": 23,
      "metadata": {
        "vscode": {
          "languageId": "python"
        },
        "gather": {
          "logged": 1659378452385
        }
      }
    },
    {
      "cell_type": "code",
      "source": [
        "# Predictions\n",
        "output = webservice.run(data)\n",
        "print(output)"
      ],
      "outputs": [
        {
          "output_type": "stream",
          "name": "stdout",
          "text": "{\"result\": [0, 0, 0, 0, 0]}\n"
        }
      ],
      "execution_count": 24,
      "metadata": {
        "vscode": {
          "languageId": "python"
        },
        "gather": {
          "logged": 1659378461010
        }
      }
    },
    {
      "cell_type": "code",
      "source": [
        "webservice.get_logs()"
      ],
      "outputs": [
        {
          "output_type": "execute_result",
          "execution_count": 25,
          "data": {
            "text/plain": "'/bin/bash: /azureml-envs/azureml_01cff5d1570c760e840399cd816552f4/lib/libtinfo.so.6: no version information available (required by /bin/bash)\\n/bin/bash: /azureml-envs/azureml_01cff5d1570c760e840399cd816552f4/lib/libtinfo.so.6: no version information available (required by /bin/bash)\\n/bin/bash: /azureml-envs/azureml_01cff5d1570c760e840399cd816552f4/lib/libtinfo.so.6: no version information available (required by /bin/bash)\\n/bin/bash: /azureml-envs/azureml_01cff5d1570c760e840399cd816552f4/lib/libtinfo.so.6: no version information available (required by /bin/bash)\\n2022-08-01T18:22:18,066667300+00:00 - iot-server/run \\n2022-08-01T18:22:18,071010400+00:00 - gunicorn/run \\n2022-08-01T18:22:18,072700700+00:00 | gunicorn/run | \\n2022-08-01T18:22:18,067060500+00:00 - rsyslog/run \\n2022-08-01T18:22:18,085939800+00:00 | gunicorn/run | ###############################################\\nbash: /azureml-envs/azureml_01cff5d1570c760e840399cd816552f4/lib/libtinfo.so.6: no version information available (required by bash)\\n2022-08-01T18:22:18,100496700+00:00 | gunicorn/run | AzureML Container Runtime Information\\n2022-08-01T18:22:18,125530800+00:00 - nginx/run \\n2022-08-01T18:22:18,134566200+00:00 | gunicorn/run | ###############################################\\n2022-08-01T18:22:18,148096200+00:00 | gunicorn/run | \\n2022-08-01T18:22:18,161241200+00:00 | gunicorn/run | \\n2022-08-01T18:22:18,174310200+00:00 | gunicorn/run | PATH environment variable: /azureml-envs/azureml_01cff5d1570c760e840399cd816552f4/bin:/opt/miniconda/bin:/usr/local/sbin:/usr/local/bin:/usr/sbin:/usr/bin:/sbin:/bin\\n2022-08-01T18:22:18,219245800+00:00 | gunicorn/run | PYTHONPATH environment variable: \\n2022-08-01T18:22:18,229260900+00:00 | gunicorn/run | \\n2022-08-01T18:22:18,246070900+00:00 | gunicorn/run | Pip Dependencies (before dynamic installation)\\n\\nEdgeHubConnectionString and IOTEDGE_IOTHUBHOSTNAME are not set. Exiting...\\n/bin/bash: /azureml-envs/azureml_01cff5d1570c760e840399cd816552f4/lib/libtinfo.so.6: no version information available (required by /bin/bash)\\n2022-08-01T18:22:18,568193900+00:00 - iot-server/finish 1 0\\n2022-08-01T18:22:18,574880300+00:00 - Exit code 1 is normal. Not restarting iot-server.\\nadal==1.2.7\\napplicationinsights==0.11.10\\nargcomplete==2.0.0\\narviz @ file:///tmp/build/80754af9/arviz_1614019183254/work\\nattrs==22.1.0\\nazure-common==1.1.28\\nazure-core==1.24.2\\nazure-graphrbac==0.61.1\\nazure-identity==1.7.0\\nazure-mgmt-authorization==2.0.0\\nazure-mgmt-containerregistry==10.0.0\\nazure-mgmt-core==1.3.0\\nazure-mgmt-keyvault==10.0.0\\nazure-mgmt-resource==21.1.0\\nazure-mgmt-storage==20.0.0\\nazure-storage-blob==12.9.0\\nazure-storage-queue==12.4.0\\nazureml-automl-core==1.43.0.post2\\nazureml-automl-runtime==1.43.0\\nazureml-core==1.43.0\\nazureml-dataprep==4.0.4\\nazureml-dataprep-native==38.0.0\\nazureml-dataprep-rslex==2.6.3\\nazureml-dataset-runtime==1.43.0.post2\\nazureml-defaults==1.43.0\\nazureml-inference-server-http==0.4.13\\nazureml-interpret==1.43.0\\nazureml-mlflow==1.43.0.post1\\nazureml-telemetry==1.43.0\\nazureml-train-automl-client==1.43.0\\nazureml-train-automl-runtime==1.43.0.post1\\nazureml-train-core==1.43.0\\nazureml-train-restclients-hyperdrive==1.43.0\\nazureml-training-tabular==1.43.0\\nbackports.tempfile==1.0\\nbackports.weakref==1.0.post1\\nbcrypt==3.2.2\\nbokeh==2.4.3\\nboto==2.49.0\\nboto3==1.20.19\\nbotocore==1.23.19\\ncachetools==5.2.0\\ncertifi @ file:///opt/conda/conda-bld/certifi_1655968806487/work/certifi\\ncffi==1.15.1\\ncftime @ file:///tmp/build/80754af9/cftime_1638345281172/work\\ncharset-normalizer==2.1.0\\nclick==7.1.2\\ncloudpickle==2.1.0\\nconfigparser==3.7.4\\ncontextlib2==21.6.0\\nconvertdate @ file:///tmp/build/80754af9/convertdate_1634070773133/work\\ncryptography==37.0.4\\ncycler @ file:///tmp/build/80754af9/cycler_1637851556182/work\\nCython==0.29.17\\ndask==2.30.0\\ndatabricks-cli==0.17.0\\ndataclasses==0.6\\ndill==0.3.5.1\\ndistributed==2.30.1\\ndistro==1.7.0\\ndocker==5.0.3\\ndotnetcore2==3.1.23\\nentrypoints==0.4\\nephem @ file:///tmp/build/80754af9/ephem_1638960312619/work\\nfbprophet @ file:///home/conda/feedstock_root/build_artifacts/fbprophet_1599365534439/work\\nfire==0.4.0\\nFlask==1.0.3\\nflatbuffers==2.0\\nfonttools==4.25.0\\nfsspec==2022.7.1\\nfusepy==3.0.1\\ngensim==3.8.3\\ngitdb==4.0.9\\nGitPython==3.1.27\\ngoogle-api-core==2.8.2\\ngoogle-auth==2.9.1\\ngoogleapis-common-protos==1.56.4\\ngunicorn==20.1.0\\nHeapDict==1.0.1\\nholidays @ file:///home/conda/feedstock_root/build_artifacts/holidays_1595448845196/work\\nhumanfriendly==10.0\\nidna==3.3\\nimportlib-metadata==4.12.0\\nimportlib-resources==5.9.0\\ninference-schema==1.3.0\\ninterpret-community==0.26.0\\ninterpret-core==0.2.7\\nisodate==0.6.1\\nitsdangerous==1.1.0\\njeepney==0.8.0\\nJinja2==2.11.2\\njmespath==0.10.0\\njoblib==0.14.1\\njson-logging-py==0.2\\njsonpickle==2.2.0\\njsonschema==4.9.0\\nkeras2onnx==1.6.0\\nkiwisolver @ file:///opt/conda/conda-bld/kiwisolver_1653292039266/work\\nknack==0.9.0\\nkorean-lunar-calendar @ file:///tmp/build/80754af9/korean_lunar_calendar_1634063020401/work\\nlightgbm==3.2.1\\nllvmlite==0.36.0\\nlocket==1.0.0\\nLunarCalendar @ file:///tmp/build/80754af9/lunarcalendar_1646383991234/work\\nMarkupSafe==2.0.1\\nmatplotlib @ file:///tmp/build/80754af9/matplotlib-suite_1634667019719/work\\nmkl-fft==1.3.0\\nmkl-random==1.1.0\\nmkl-service==2.3.0\\nml-wrappers==0.2.0\\nmlflow-skinny==1.27.0\\nmsal==1.18.0\\nmsal-extensions==0.3.1\\nmsgpack==1.0.4\\nmsrest==0.6.21\\nmsrestazure==0.6.4\\nmunkres==1.1.4\\nndg-httpsclient==0.5.1\\nnetCDF4==1.5.7\\nnimbusml==1.8.0\\nnumba==0.53.1\\nnumpy==1.18.5\\noauthlib==3.2.0\\nonnx==1.7.0\\nonnxconverter-common==1.6.0\\nonnxmltools==1.4.1\\nonnxruntime==1.8.1\\nopencensus==0.10.0\\nopencensus-context==0.1.2\\nopencensus-ext-azure==1.1.5\\npackaging @ file:///tmp/build/80754af9/packaging_1637314298585/work\\npandas==1.1.5\\nparamiko==2.11.0\\npartd==1.2.0\\npathspec==0.9.0\\npatsy==0.5.2\\nPillow==9.0.1\\npkginfo==1.8.3\\npkgutil_resolve_name==1.3.10\\npmdarima==1.7.1\\nportalocker==2.5.1\\nprotobuf==3.20.1\\npsutil @ file:///tmp/build/80754af9/psutil_1612298016854/work\\npyarrow==3.0.0\\npyasn1==0.4.8\\npyasn1-modules==0.2.8\\npycparser==2.21\\nPygments==2.12.0\\nPyJWT==2.4.0\\nPyMeeus @ file:///tmp/build/80754af9/pymeeus_1634069098549/work\\nPyNaCl==1.5.0\\npyOpenSSL==22.0.0\\npyparsing @ file:///tmp/build/80754af9/pyparsing_1635766073266/work\\npyrsistent==0.18.1\\nPySocks==1.7.1\\npystan @ file:///tmp/build/80754af9/pystan_1613565226242/work\\npython-dateutil @ file:///tmp/build/80754af9/python-dateutil_1626374649649/work\\npytz @ file:///opt/conda/conda-bld/pytz_1654762638606/work\\nPyYAML==6.0\\nrequests==2.28.1\\nrequests-oauthlib==1.3.1\\nrsa==4.9\\ns3transfer==0.5.2\\nscikit-learn==0.22.1\\nscipy==1.5.3\\nSecretStorage==3.3.2\\nshap==0.39.0\\nsix @ file:///tmp/build/80754af9/six_1644875935023/work\\nskl2onnx==1.4.9\\nsklearn-pandas==1.7.0\\nslicer==0.0.7\\nsmart-open==1.9.0\\nsmmap==5.0.0\\nsortedcontainers==2.4.0\\nstatsmodels==0.11.1\\ntabulate==0.8.10\\ntblib==1.7.0\\ntermcolor==1.1.0\\ntoolz==0.12.0\\ntornado @ file:///tmp/build/80754af9/tornado_1606942283357/work\\ntqdm @ file:///opt/conda/conda-bld/tqdm_1650891076910/work\\ntyping_extensions @ file:///opt/conda/conda-bld/typing_extensions_1647553014482/work\\nurllib3==1.26.9\\nwebsocket-client==1.3.3\\nWerkzeug==1.0.1\\nwrapt==1.12.1\\nxarray @ file:///opt/conda/conda-bld/xarray_1639166117697/work\\nxgboost==1.3.3\\nzict==2.2.0\\nzipp==3.8.1\\n\\n2022-08-01T18:22:20,868703000+00:00 | gunicorn/run | \\n2022-08-01T18:22:20,875182800+00:00 | gunicorn/run | ###############################################\\n2022-08-01T18:22:20,879891900+00:00 | gunicorn/run | AzureML Inference Server\\n2022-08-01T18:22:20,883657000+00:00 | gunicorn/run | ###############################################\\n2022-08-01T18:22:20,888448100+00:00 | gunicorn/run | \\n2022-08-01T18:22:20,892240100+00:00 | gunicorn/run | \\n2022-08-01T18:22:20,893891900+00:00 | gunicorn/run | Starting HTTP server\\n2022-08-01T18:22:20,895425000+00:00 | gunicorn/run | \\nStarting gunicorn 20.1.0\\nListening at: http://127.0.0.1:31311 (71)\\nUsing worker: sync\\nworker timeout is set to 300\\nBooting worker with pid: 118\\nSPARK_HOME not set. Skipping PySpark Initialization.\\nInitializing logger\\n2022-08-01 18:22:23,724 | root | INFO | Starting up app insights client\\nDeprecationWarning: Explicitly using instrumentation key isdeprecated. Please use a connection string instead.\\nDeprecationWarning: Explicitly using instrumentation key isdeprecated. Please use a connection string instead.\\nDeprecationWarning: Explicitly using instrumentation key isdeprecated. Please use a connection string instead.\\nlogging socket was found. logging is available.\\nlogging socket was found. logging is available.\\n2022-08-01 18:22:23,736 | root | INFO | Starting up request id generator\\n2022-08-01 18:22:23,736 | root | INFO | Starting up app insight hooks\\n2022-08-01 18:22:23,736 | root | INFO | Invoking user\\'s init function\\n2022-08-01 18:22:42,030 | root | INFO | Users\\'s init has completed successfully\\n2022-08-01 18:22:42,070 | root | INFO | Skipping middleware: dbg_model_info as it\\'s not enabled.\\n2022-08-01 18:22:42,071 | root | INFO | Skipping middleware: dbg_resource_usage as it\\'s not enabled.\\nGenerating swagger file: /tmp/tmpbxl7b8rc\\n2022-08-01 18:22:42,081 | root | INFO | Scoring timeout is found from os.environ: 60000 ms\\n2022-08-01 18:22:53,771 | root | INFO | 200\\n127.0.0.1 - - [01/Aug/2022:18:22:53 +0000] \"GET /swagger.json HTTP/1.0\" 200 3086 \"-\" \"Go-http-client/1.1\"\\n2022-08-01 18:22:55,550 | root | INFO | 200\\n127.0.0.1 - - [01/Aug/2022:18:22:55 +0000] \"GET /swagger.json HTTP/1.0\" 200 3086 \"-\" \"Go-http-client/1.1\"\\n2022-08-01 18:27:40,267 | root | INFO | Validation Request Content-Type\\n2022-08-01 18:27:40,280 | root | INFO | Scoring Timer is set to 60.0 seconds\\n2022-08-01 18:27:40,526 | root | INFO | 200\\n127.0.0.1 - - [01/Aug/2022:18:27:40 +0000] \"POST /score HTTP/1.0\" 200 31 \"-\" \"python-requests/2.27.1\"\\n'"
          },
          "metadata": {}
        }
      ],
      "execution_count": 25,
      "metadata": {
        "vscode": {
          "languageId": "python"
        },
        "gather": {
          "logged": 1659378474279
        }
      }
    },
    {
      "cell_type": "code",
      "source": [
        "# webservice.delete()\n",
        "# compute_target.delete()"
      ],
      "outputs": [],
      "execution_count": null,
      "metadata": {
        "vscode": {
          "languageId": "python"
        },
        "gather": {
          "logged": 1659377896650
        }
      }
    },
    {
      "cell_type": "markdown",
      "source": [
        "**Submission Checklist**\n",
        "- I have registered the model.\n",
        "- I have deployed the model with the best accuracy as a webservice.\n",
        "- I have tested the webservice by sending a request to the model endpoint.\n",
        "- I have deleted the webservice and shutdown all the computes that I have used.\n",
        "- I have taken a screenshot showing the model endpoint as active.\n",
        "- The project includes a file containing the environment details.\n"
      ],
      "metadata": {}
    },
    {
      "cell_type": "markdown",
      "source": [],
      "metadata": {}
    }
  ],
  "metadata": {
    "kernel_info": {
      "name": "python38-azureml"
    },
    "kernelspec": {
      "name": "python38-azureml",
      "language": "python",
      "display_name": "Python 3.8 - AzureML"
    },
    "nteract": {
      "version": "nteract-front-end@1.0.0"
    },
    "vscode": {
      "interpreter": {
        "hash": "31f2aee4e71d21fbe5cf8b01ff0e069b9275f58929596ceb00d14d90e3e16cd6"
      }
    },
    "language_info": {
      "name": "python",
      "version": "3.8.5",
      "mimetype": "text/x-python",
      "codemirror_mode": {
        "name": "ipython",
        "version": 3
      },
      "pygments_lexer": "ipython3",
      "nbconvert_exporter": "python",
      "file_extension": ".py"
    },
    "microsoft": {
      "host": {
        "AzureML": {
          "notebookHasBeenCompleted": true
        }
      }
    }
  },
  "nbformat": 4,
  "nbformat_minor": 2
}