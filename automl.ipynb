{
  "cells": [
    {
      "cell_type": "markdown",
      "source": [
        "# Automated ML\n",
        "\n",
        "Import all dependencies"
      ],
      "metadata": {}
    },
    {
      "cell_type": "code",
      "source": [
        "import json\n",
        "import azureml.core\n",
        "from azureml.core import Workspace, Experiment, Model\n",
        "from azureml.core.compute import ComputeTarget, AmlCompute\n",
        "from azureml.core.compute_target import ComputeTargetException\n",
        "from azureml.widgets import RunDetails\n",
        "from azureml.train.automl import AutoMLConfig\n",
        "from azureml.core.environment import Environment\n",
        "from azureml.core.model import InferenceConfig\n",
        "from azureml.core.webservice import AciWebservice, Webservice\n",
        "from azureml.core.dataset import Dataset\n",
        "\n",
        "\n",
        "print('SDK version:', azureml.core.VERSION)\n",
        "\n"
      ],
      "outputs": [
        {
          "output_type": "stream",
          "name": "stdout",
          "text": "SDK version: 1.42.0\n"
        }
      ],
      "execution_count": 1,
      "metadata": {
        "gather": {
          "logged": 1659371132477
        },
        "jupyter": {
          "outputs_hidden": false,
          "source_hidden": false
        },
        "nteract": {
          "transient": {
            "deleting": false
          }
        },
        "vscode": {
          "languageId": "python"
        }
      }
    },
    {
      "cell_type": "markdown",
      "source": [
        "## Initialize workspace\n",
        "Initialize a workspace from configuration"
      ],
      "metadata": {}
    },
    {
      "cell_type": "code",
      "source": [
        "ws = Workspace.from_config()\n",
        "print(ws.name, ws.resource_group, ws.location, ws.subscription_id, sep='\\n')\n",
        "\n",
        "# choose a name for experiment\n",
        "experiment_name = 'automl-heart-experiment'\n",
        "\n",
        "experiment=Experiment(ws, experiment_name)\n",
        "\n",
        "run = experiment.start_logging()"
      ],
      "outputs": [
        {
          "output_type": "stream",
          "name": "stdout",
          "text": "quick-starts-ws-202911\naml-quickstarts-202911\nsouthcentralus\n1b944a9b-fdae-4f97-aeb1-b7eea0beac53\n"
        }
      ],
      "execution_count": 2,
      "metadata": {
        "gather": {
          "logged": 1659371136994
        },
        "jupyter": {
          "outputs_hidden": false,
          "source_hidden": false
        },
        "nteract": {
          "transient": {
            "deleting": false
          }
        },
        "vscode": {
          "languageId": "python"
        }
      }
    },
    {
      "cell_type": "markdown",
      "source": [
        "## Create Compute Cluster"
      ],
      "metadata": {}
    },
    {
      "cell_type": "code",
      "source": [
        "amlcompute_cluster_name = \"auto-ml\"\n",
        "\n",
        "# Verify if the cluster does not exist\n",
        "try:\n",
        "    compute_target = ComputeTarget(\n",
        "        workspace = ws,\n",
        "        name = amlcompute_cluster_name\n",
        "    )\n",
        "    print('Found Existing cluster, use it')\n",
        "except ComputeTargetException:\n",
        "    compute_config = AmlCompute.provisioning_configuration(\n",
        "        vm_size = 'STANDARD_D2_V2',\n",
        "        max_nodes = 4\n",
        "    )\n",
        "    compute_target = ComputeTarget.create(\n",
        "        ws, \n",
        "        amlcompute_cluster_name,\n",
        "        compute_config\n",
        "    )\n",
        "compute_target.wait_for_completion(\n",
        "    show_output = True,\n",
        "    min_node_count = 1,\n",
        "    timeout_in_minutes = 3\n",
        ")"
      ],
      "outputs": [
        {
          "output_type": "stream",
          "name": "stdout",
          "text": "Found Existing cluster, use it\nSucceeded...................................\nAmlCompute wait for completion finished\n\nWait timeout has been reached\nCurrent provisioning state of AmlCompute is \"Succeeded\" and current node count is \"0\"\n"
        }
      ],
      "execution_count": 3,
      "metadata": {
        "vscode": {
          "languageId": "python"
        },
        "gather": {
          "logged": 1659371318047
        }
      }
    },
    {
      "cell_type": "markdown",
      "source": [
        "## Dataset\n",
        "I used the Heart Failure Dataset from kaggle.\n",
        "Cardiovascular diseases (CVDs) are the number 1 cause of death globally, taking an estimated 17.9 million lives each year, which accounts for 31% of all deaths worlwide.\n",
        "Heart failure is a common event caused by CVDs and this dataset contains 12 features that can be used to predict mortality by heart failure.\n",
        "\n",
        "Most cardiovascular diseases can be prevented by addressing behavioural risk factors such as tobacco use, unhealthy diet and obesity, physical inactivity and harmful use of alcohol using population-wide strategies.\n",
        "\n",
        "People with cardiovascular disease or who are at high cardiovascular risk (due to the presence of one or more risk factors such as hypertension, diabetes, hyperlipidaemia or already established disease) need early detection and management wherein a machine learning model can be of great help.\n",
        "\n",
        "I want to create a model to a model to predict mortality by heart failure."
      ],
      "metadata": {}
    },
    {
      "cell_type": "code",
      "source": [
        "key = \"heart-failure\"\n",
        "\n",
        "dataset = ws.datasets[key]\n",
        "\n",
        "df = dataset.to_pandas_dataframe()\n",
        "df.describe()"
      ],
      "outputs": [
        {
          "output_type": "execute_result",
          "execution_count": 4,
          "data": {
            "text/plain": "              age     anaemia  creatinine_phosphokinase    diabetes  \\\ncount  299.000000  299.000000                299.000000  299.000000   \nmean    60.833893    0.431438                581.839465    0.418060   \nstd     11.894809    0.496107                970.287881    0.494067   \nmin     40.000000    0.000000                 23.000000    0.000000   \n25%     51.000000    0.000000                116.500000    0.000000   \n50%     60.000000    0.000000                250.000000    0.000000   \n75%     70.000000    1.000000                582.000000    1.000000   \nmax     95.000000    1.000000               7861.000000    1.000000   \n\n       ejection_fraction  high_blood_pressure      platelets  \\\ncount         299.000000           299.000000     299.000000   \nmean           38.083612             0.351171  263358.029264   \nstd            11.834841             0.478136   97804.236869   \nmin            14.000000             0.000000   25100.000000   \n25%            30.000000             0.000000  212500.000000   \n50%            38.000000             0.000000  262000.000000   \n75%            45.000000             1.000000  303500.000000   \nmax            80.000000             1.000000  850000.000000   \n\n       serum_creatinine  serum_sodium         sex    smoking        time  \\\ncount         299.00000    299.000000  299.000000  299.00000  299.000000   \nmean            1.39388    136.625418    0.648829    0.32107  130.260870   \nstd             1.03451      4.412477    0.478136    0.46767   77.614208   \nmin             0.50000    113.000000    0.000000    0.00000    4.000000   \n25%             0.90000    134.000000    0.000000    0.00000   73.000000   \n50%             1.10000    137.000000    1.000000    0.00000  115.000000   \n75%             1.40000    140.000000    1.000000    1.00000  203.000000   \nmax             9.40000    148.000000    1.000000    1.00000  285.000000   \n\n       DEATH_EVENT  \ncount    299.00000  \nmean       0.32107  \nstd        0.46767  \nmin        0.00000  \n25%        0.00000  \n50%        0.00000  \n75%        1.00000  \nmax        1.00000  ",
            "text/html": "<div>\n<style scoped>\n    .dataframe tbody tr th:only-of-type {\n        vertical-align: middle;\n    }\n\n    .dataframe tbody tr th {\n        vertical-align: top;\n    }\n\n    .dataframe thead th {\n        text-align: right;\n    }\n</style>\n<table border=\"1\" class=\"dataframe\">\n  <thead>\n    <tr style=\"text-align: right;\">\n      <th></th>\n      <th>age</th>\n      <th>anaemia</th>\n      <th>creatinine_phosphokinase</th>\n      <th>diabetes</th>\n      <th>ejection_fraction</th>\n      <th>high_blood_pressure</th>\n      <th>platelets</th>\n      <th>serum_creatinine</th>\n      <th>serum_sodium</th>\n      <th>sex</th>\n      <th>smoking</th>\n      <th>time</th>\n      <th>DEATH_EVENT</th>\n    </tr>\n  </thead>\n  <tbody>\n    <tr>\n      <th>count</th>\n      <td>299.000000</td>\n      <td>299.000000</td>\n      <td>299.000000</td>\n      <td>299.000000</td>\n      <td>299.000000</td>\n      <td>299.000000</td>\n      <td>299.000000</td>\n      <td>299.00000</td>\n      <td>299.000000</td>\n      <td>299.000000</td>\n      <td>299.00000</td>\n      <td>299.000000</td>\n      <td>299.00000</td>\n    </tr>\n    <tr>\n      <th>mean</th>\n      <td>60.833893</td>\n      <td>0.431438</td>\n      <td>581.839465</td>\n      <td>0.418060</td>\n      <td>38.083612</td>\n      <td>0.351171</td>\n      <td>263358.029264</td>\n      <td>1.39388</td>\n      <td>136.625418</td>\n      <td>0.648829</td>\n      <td>0.32107</td>\n      <td>130.260870</td>\n      <td>0.32107</td>\n    </tr>\n    <tr>\n      <th>std</th>\n      <td>11.894809</td>\n      <td>0.496107</td>\n      <td>970.287881</td>\n      <td>0.494067</td>\n      <td>11.834841</td>\n      <td>0.478136</td>\n      <td>97804.236869</td>\n      <td>1.03451</td>\n      <td>4.412477</td>\n      <td>0.478136</td>\n      <td>0.46767</td>\n      <td>77.614208</td>\n      <td>0.46767</td>\n    </tr>\n    <tr>\n      <th>min</th>\n      <td>40.000000</td>\n      <td>0.000000</td>\n      <td>23.000000</td>\n      <td>0.000000</td>\n      <td>14.000000</td>\n      <td>0.000000</td>\n      <td>25100.000000</td>\n      <td>0.50000</td>\n      <td>113.000000</td>\n      <td>0.000000</td>\n      <td>0.00000</td>\n      <td>4.000000</td>\n      <td>0.00000</td>\n    </tr>\n    <tr>\n      <th>25%</th>\n      <td>51.000000</td>\n      <td>0.000000</td>\n      <td>116.500000</td>\n      <td>0.000000</td>\n      <td>30.000000</td>\n      <td>0.000000</td>\n      <td>212500.000000</td>\n      <td>0.90000</td>\n      <td>134.000000</td>\n      <td>0.000000</td>\n      <td>0.00000</td>\n      <td>73.000000</td>\n      <td>0.00000</td>\n    </tr>\n    <tr>\n      <th>50%</th>\n      <td>60.000000</td>\n      <td>0.000000</td>\n      <td>250.000000</td>\n      <td>0.000000</td>\n      <td>38.000000</td>\n      <td>0.000000</td>\n      <td>262000.000000</td>\n      <td>1.10000</td>\n      <td>137.000000</td>\n      <td>1.000000</td>\n      <td>0.00000</td>\n      <td>115.000000</td>\n      <td>0.00000</td>\n    </tr>\n    <tr>\n      <th>75%</th>\n      <td>70.000000</td>\n      <td>1.000000</td>\n      <td>582.000000</td>\n      <td>1.000000</td>\n      <td>45.000000</td>\n      <td>1.000000</td>\n      <td>303500.000000</td>\n      <td>1.40000</td>\n      <td>140.000000</td>\n      <td>1.000000</td>\n      <td>1.00000</td>\n      <td>203.000000</td>\n      <td>1.00000</td>\n    </tr>\n    <tr>\n      <th>max</th>\n      <td>95.000000</td>\n      <td>1.000000</td>\n      <td>7861.000000</td>\n      <td>1.000000</td>\n      <td>80.000000</td>\n      <td>1.000000</td>\n      <td>850000.000000</td>\n      <td>9.40000</td>\n      <td>148.000000</td>\n      <td>1.000000</td>\n      <td>1.00000</td>\n      <td>285.000000</td>\n      <td>1.00000</td>\n    </tr>\n  </tbody>\n</table>\n</div>"
          },
          "metadata": {}
        }
      ],
      "execution_count": 4,
      "metadata": {
        "vscode": {
          "languageId": "python"
        },
        "gather": {
          "logged": 1659371320536
        }
      }
    },
    {
      "cell_type": "code",
      "source": [
        "dataset.take(5).to_pandas_dataframe()"
      ],
      "outputs": [
        {
          "output_type": "execute_result",
          "execution_count": 5,
          "data": {
            "text/plain": "    age  anaemia  creatinine_phosphokinase  diabetes  ejection_fraction  \\\n0  75.0        0                       582         0                 20   \n1  55.0        0                      7861         0                 38   \n2  65.0        0                       146         0                 20   \n3  50.0        1                       111         0                 20   \n4  65.0        1                       160         1                 20   \n\n   high_blood_pressure  platelets  serum_creatinine  serum_sodium  sex  \\\n0                    1  265000.00               1.9           130    1   \n1                    0  263358.03               1.1           136    1   \n2                    0  162000.00               1.3           129    1   \n3                    0  210000.00               1.9           137    1   \n4                    0  327000.00               2.7           116    0   \n\n   smoking  time  DEATH_EVENT  \n0        0     4            1  \n1        0     6            1  \n2        1     7            1  \n3        0     7            1  \n4        0     8            1  ",
            "text/html": "<div>\n<style scoped>\n    .dataframe tbody tr th:only-of-type {\n        vertical-align: middle;\n    }\n\n    .dataframe tbody tr th {\n        vertical-align: top;\n    }\n\n    .dataframe thead th {\n        text-align: right;\n    }\n</style>\n<table border=\"1\" class=\"dataframe\">\n  <thead>\n    <tr style=\"text-align: right;\">\n      <th></th>\n      <th>age</th>\n      <th>anaemia</th>\n      <th>creatinine_phosphokinase</th>\n      <th>diabetes</th>\n      <th>ejection_fraction</th>\n      <th>high_blood_pressure</th>\n      <th>platelets</th>\n      <th>serum_creatinine</th>\n      <th>serum_sodium</th>\n      <th>sex</th>\n      <th>smoking</th>\n      <th>time</th>\n      <th>DEATH_EVENT</th>\n    </tr>\n  </thead>\n  <tbody>\n    <tr>\n      <th>0</th>\n      <td>75.0</td>\n      <td>0</td>\n      <td>582</td>\n      <td>0</td>\n      <td>20</td>\n      <td>1</td>\n      <td>265000.00</td>\n      <td>1.9</td>\n      <td>130</td>\n      <td>1</td>\n      <td>0</td>\n      <td>4</td>\n      <td>1</td>\n    </tr>\n    <tr>\n      <th>1</th>\n      <td>55.0</td>\n      <td>0</td>\n      <td>7861</td>\n      <td>0</td>\n      <td>38</td>\n      <td>0</td>\n      <td>263358.03</td>\n      <td>1.1</td>\n      <td>136</td>\n      <td>1</td>\n      <td>0</td>\n      <td>6</td>\n      <td>1</td>\n    </tr>\n    <tr>\n      <th>2</th>\n      <td>65.0</td>\n      <td>0</td>\n      <td>146</td>\n      <td>0</td>\n      <td>20</td>\n      <td>0</td>\n      <td>162000.00</td>\n      <td>1.3</td>\n      <td>129</td>\n      <td>1</td>\n      <td>1</td>\n      <td>7</td>\n      <td>1</td>\n    </tr>\n    <tr>\n      <th>3</th>\n      <td>50.0</td>\n      <td>1</td>\n      <td>111</td>\n      <td>0</td>\n      <td>20</td>\n      <td>0</td>\n      <td>210000.00</td>\n      <td>1.9</td>\n      <td>137</td>\n      <td>1</td>\n      <td>0</td>\n      <td>7</td>\n      <td>1</td>\n    </tr>\n    <tr>\n      <th>4</th>\n      <td>65.0</td>\n      <td>1</td>\n      <td>160</td>\n      <td>1</td>\n      <td>20</td>\n      <td>0</td>\n      <td>327000.00</td>\n      <td>2.7</td>\n      <td>116</td>\n      <td>0</td>\n      <td>0</td>\n      <td>8</td>\n      <td>1</td>\n    </tr>\n  </tbody>\n</table>\n</div>"
          },
          "metadata": {}
        }
      ],
      "execution_count": 5,
      "metadata": {
        "vscode": {
          "languageId": "python"
        },
        "gather": {
          "logged": 1659371321118
        }
      }
    },
    {
      "cell_type": "markdown",
      "source": [
        "## AutoML Configuration\n",
        "\n",
        "Here are the automl configurations:\n",
        "* **max_concurrent_iterations:** Represents the maximum number of iterations that would be executed in parallel. The default value is 1.\n",
        "* **experiment_timeout_minutes:** The minutes before experiment terminates\n",
        "* **n_cross_validations:** To avoid overfitting, we need to use cross validation\n",
        "* **primary_metric:** Accuracy\n",
        "* **task:** Classification"
      ],
      "metadata": {}
    },
    {
      "cell_type": "code",
      "source": [
        "# automl settings\n",
        "automl_settings = {\n",
        "    \"experiment_timeout_minutes\": 15,\n",
        "    \"iterations\": 40,\n",
        "    \"max_concurrent_iterations\": 4,\n",
        "    \"n_cross_validations\": 3,\n",
        "    \"primary_metric\": \"accuracy\"\n",
        "}\n",
        "\n",
        "# automl config\n",
        "automl_config = AutoMLConfig(\n",
        "    compute_target = compute_target,\n",
        "    task = \"classification\",\n",
        "    training_data = dataset,\n",
        "    label_column_name = 'DEATH_EVENT',\n",
        "    enable_early_stopping = True,\n",
        "    debug_log = 'automl_errors.log',\n",
        "    **automl_settings\n",
        ")"
      ],
      "outputs": [],
      "execution_count": 6,
      "metadata": {
        "gather": {
          "logged": 1659371321434
        },
        "jupyter": {
          "outputs_hidden": false,
          "source_hidden": false
        },
        "nteract": {
          "transient": {
            "deleting": false
          }
        },
        "vscode": {
          "languageId": "python"
        }
      }
    },
    {
      "cell_type": "code",
      "source": [
        "# Submit your experiment\n",
        "remote_run = experiment.submit(automl_config, show_output = True)"
      ],
      "outputs": [
        {
          "output_type": "stream",
          "name": "stdout",
          "text": "Submitting remote run.\nNo run_configuration provided, running on auto-ml with default configuration\nRunning on remote compute: auto-ml\n"
        },
        {
          "output_type": "display_data",
          "data": {
            "text/plain": "<IPython.core.display.HTML object>",
            "text/html": "<table style=\"width:100%\"><tr><th>Experiment</th><th>Id</th><th>Type</th><th>Status</th><th>Details Page</th><th>Docs Page</th></tr><tr><td>automl-heart-experiment</td><td>AutoML_bce1af5e-626e-4799-9e6d-086334a99398</td><td>automl</td><td>NotStarted</td><td><a href=\"https://ml.azure.com/runs/AutoML_bce1af5e-626e-4799-9e6d-086334a99398?wsid=/subscriptions/1b944a9b-fdae-4f97-aeb1-b7eea0beac53/resourcegroups/aml-quickstarts-202911/workspaces/quick-starts-ws-202911&amp;tid=660b3398-b80e-49d2-bc5b-ac1dc93b5254\" target=\"_blank\" rel=\"noopener\">Link to Azure Machine Learning studio</a></td><td><a href=\"https://docs.microsoft.com/en-us/python/api/overview/azure/ml/intro?view=azure-ml-py\" target=\"_blank\" rel=\"noopener\">Link to Documentation</a></td></tr></table>"
          },
          "metadata": {}
        },
        {
          "output_type": "stream",
          "name": "stdout",
          "text": "\nCurrent status: FeaturesGeneration. Generating features for the dataset.\nCurrent status: DatasetCrossValidationSplit. Generating individually featurized CV splits.\nCurrent status: ModelSelection. Beginning model selection.\n\n********************************************************************************************\nDATA GUARDRAILS: \n\nTYPE:         Class balancing detection\nSTATUS:       PASSED\nDESCRIPTION:  Your inputs were analyzed, and all classes are balanced in your training data.\n              Learn more about imbalanced data: https://aka.ms/AutomatedMLImbalancedData\n\n********************************************************************************************\n\nTYPE:         Missing feature values imputation\nSTATUS:       PASSED\nDESCRIPTION:  No feature missing values were detected in the training data.\n              Learn more about missing value imputation: https://aka.ms/AutomatedMLFeaturization\n\n********************************************************************************************\n\nTYPE:         High cardinality feature detection\nSTATUS:       PASSED\nDESCRIPTION:  Your inputs were analyzed, and no high cardinality features were detected.\n              Learn more about high cardinality feature handling: https://aka.ms/AutomatedMLFeaturization\n\n********************************************************************************************\n\n********************************************************************************************\nITER: The iteration being evaluated.\nPIPELINE: A summary description of the pipeline being evaluated.\nDURATION: Time taken for the current iteration.\nMETRIC: The result of computing score on the fitted pipeline.\nBEST: The best observed score thus far.\n********************************************************************************************\n\n ITER   PIPELINE                                       DURATION            METRIC      BEST\n    0   MaxAbsScaler LightGBM                          0:00:08             0.8093    0.8093\n    1   MaxAbsScaler XGBoostClassifier                 0:00:08             0.8227    0.8227\n    2   MaxAbsScaler ExtremeRandomTrees                0:00:08             0.8091    0.8227\n    3   SparseNormalizer XGBoostClassifier             0:00:07             0.7893    0.8227\n    4   StandardScalerWrapper KNN                      0:00:08             0.6087    0.8227\n    5   MaxAbsScaler LightGBM                          0:00:07             0.8428    0.8428\n    6   RobustScaler LogisticRegression                0:00:08             0.7758    0.8428\n    7   MaxAbsScaler LightGBM                          0:00:07             0.7993    0.8428\n    8   StandardScalerWrapper KNN                      0:00:08             0.6053    0.8428\n    9   StandardScalerWrapper SVM                      0:00:12             0.7223    0.8428\n   10   StandardScalerWrapper XGBoostClassifier        0:00:12             0.8326    0.8428\n   11   MinMaxScaler RandomForest                      0:00:13             0.8326    0.8428\n   12   StandardScalerWrapper LogisticRegression       0:00:12             0.7190    0.8428\n   13   StandardScalerWrapper KNN                      0:00:08             0.7125    0.8428\n   15   MinMaxScaler KNN                               0:00:07             0.7057    0.8428\n   14   RobustScaler KNN                               0:00:12             0.7056    0.8428\n   16   SparseNormalizer KNN                           0:00:12             0.7425    0.8428\n   17   MaxAbsScaler LogisticRegression                0:00:12             0.8193    0.8428\n   18   StandardScalerWrapper XGBoostClassifier        0:00:07             0.8294    0.8428\n   19   StandardScalerWrapper XGBoostClassifier        0:00:12             0.8193    0.8428\n   20   MaxAbsScaler LogisticRegression                0:00:20             0.8025    0.8428\n   22   SparseNormalizer RandomForest                  0:00:25             0.8194    0.8428\n   23   StandardScalerWrapper RandomForest             0:00:25             0.8093    0.8428\n   24   StandardScalerWrapper XGBoostClassifier        0:00:25             0.8393    0.8428\n   25   RobustScaler LightGBM                          0:00:20             0.8293    0.8428\n   21   StandardScalerWrapper XGBoostClassifier        0:01:14             0.8494    0.8494\n   26   MinMaxScaler LightGBM                          0:00:20             0.8260    0.8494\n   27   SparseNormalizer XGBoostClassifier             0:00:19             0.8059    0.8494\n   28   RobustScaler LightGBM                          0:00:22             0.8360    0.8494\n   29   MinMaxScaler RandomForest                      0:00:20             0.8192    0.8494\n   30   SparseNormalizer XGBoostClassifier             0:00:20             0.7827    0.8494\n   31   RobustScaler RandomForest                      0:00:25             0.8193    0.8494\n   32   StandardScalerWrapper XGBoostClassifier        0:00:24             0.8293    0.8494\n   33   StandardScalerWrapper XGBoostClassifier        0:00:19             0.8461    0.8494\n   34   StandardScalerWrapper RandomForest             0:00:24             0.8059    0.8494\n   35   StandardScalerWrapper XGBoostClassifier        0:00:20             0.8360    0.8494\n   36   StandardScalerWrapper XGBoostClassifier        0:00:24             0.8327    0.8494\n   37   MinMaxScaler RandomForest                      0:00:24             0.8225    0.8494\n   38    VotingEnsemble                                0:00:34             0.8629    0.8629\n   39    StackEnsemble                                 0:00:35             0.8192    0.8629\n"
        }
      ],
      "execution_count": 7,
      "metadata": {
        "gather": {
          "logged": 1659372101059
        },
        "jupyter": {
          "outputs_hidden": false,
          "source_hidden": false
        },
        "nteract": {
          "transient": {
            "deleting": false
          }
        },
        "vscode": {
          "languageId": "python"
        }
      }
    },
    {
      "cell_type": "markdown",
      "source": [
        "## Run Details"
      ],
      "metadata": {}
    },
    {
      "cell_type": "code",
      "source": [
        "RunDetails(remote_run).show()"
      ],
      "outputs": [
        {
          "output_type": "display_data",
          "data": {
            "text/plain": "_AutoMLWidget(widget_settings={'childWidgetDisplay': 'popup', 'send_telemetry': False, 'log_level': 'INFO', 's…",
            "application/vnd.jupyter.widget-view+json": {
              "version_major": 2,
              "version_minor": 0,
              "model_id": "6668c1ba5a2d40548fb74f9803f1dc3d"
            }
          },
          "metadata": {}
        },
        {
          "output_type": "display_data",
          "data": {
            "application/aml.mini.widget.v1": "{\"status\": \"Completed\", \"workbench_run_details_uri\": \"https://ml.azure.com/runs/AutoML_bce1af5e-626e-4799-9e6d-086334a99398?wsid=/subscriptions/1b944a9b-fdae-4f97-aeb1-b7eea0beac53/resourcegroups/aml-quickstarts-202911/workspaces/quick-starts-ws-202911&tid=660b3398-b80e-49d2-bc5b-ac1dc93b5254\", \"run_id\": \"AutoML_bce1af5e-626e-4799-9e6d-086334a99398\", \"run_properties\": {\"run_id\": \"AutoML_bce1af5e-626e-4799-9e6d-086334a99398\", \"created_utc\": \"2022-08-01T16:28:43.433762Z\", \"properties\": {\"num_iterations\": \"40\", \"training_type\": \"TrainFull\", \"acquisition_function\": \"EI\", \"primary_metric\": \"accuracy\", \"train_split\": \"0\", \"acquisition_parameter\": \"0\", \"num_cross_validation\": \"3\", \"target\": \"auto-ml\", \"AMLSettingsJsonString\": \"{\\\"path\\\":null,\\\"name\\\":\\\"automl-heart-experiment\\\",\\\"subscription_id\\\":\\\"1b944a9b-fdae-4f97-aeb1-b7eea0beac53\\\",\\\"resource_group\\\":\\\"aml-quickstarts-202911\\\",\\\"workspace_name\\\":\\\"quick-starts-ws-202911\\\",\\\"region\\\":\\\"southcentralus\\\",\\\"compute_target\\\":\\\"auto-ml\\\",\\\"spark_service\\\":null,\\\"azure_service\\\":\\\"remote\\\",\\\"many_models\\\":false,\\\"pipeline_fetch_max_batch_size\\\":1,\\\"enable_batch_run\\\":true,\\\"enable_run_restructure\\\":false,\\\"start_auxiliary_runs_before_parent_complete\\\":false,\\\"enable_code_generation\\\":true,\\\"iterations\\\":40,\\\"primary_metric\\\":\\\"accuracy\\\",\\\"task_type\\\":\\\"classification\\\",\\\"positive_label\\\":null,\\\"data_script\\\":null,\\\"test_size\\\":0.0,\\\"test_include_predictions_only\\\":false,\\\"validation_size\\\":0.0,\\\"n_cross_validations\\\":3,\\\"y_min\\\":null,\\\"y_max\\\":null,\\\"num_classes\\\":null,\\\"featurization\\\":\\\"auto\\\",\\\"_ignore_package_version_incompatibilities\\\":false,\\\"is_timeseries\\\":false,\\\"max_cores_per_iteration\\\":1,\\\"max_concurrent_iterations\\\":4,\\\"iteration_timeout_minutes\\\":null,\\\"mem_in_mb\\\":null,\\\"enforce_time_on_windows\\\":false,\\\"experiment_timeout_minutes\\\":15,\\\"experiment_exit_score\\\":null,\\\"partition_column_names\\\":null,\\\"whitelist_models\\\":null,\\\"blacklist_algos\\\":[\\\"TensorFlowLinearClassifier\\\",\\\"TensorFlowDNN\\\"],\\\"supported_models\\\":[\\\"LinearSVM\\\",\\\"AveragedPerceptronClassifier\\\",\\\"ExtremeRandomTrees\\\",\\\"MultinomialNaiveBayes\\\",\\\"SGD\\\",\\\"SVM\\\",\\\"TensorFlowDNN\\\",\\\"BernoulliNaiveBayes\\\",\\\"LogisticRegression\\\",\\\"KNN\\\",\\\"GradientBoosting\\\",\\\"TabnetClassifier\\\",\\\"RandomForest\\\",\\\"TensorFlowLinearClassifier\\\",\\\"XGBoostClassifier\\\",\\\"LightGBM\\\",\\\"DecisionTree\\\"],\\\"private_models\\\":[],\\\"auto_blacklist\\\":true,\\\"blacklist_samples_reached\\\":false,\\\"exclude_nan_labels\\\":true,\\\"verbosity\\\":20,\\\"_debug_log\\\":\\\"azureml_automl.log\\\",\\\"show_warnings\\\":false,\\\"model_explainability\\\":true,\\\"service_url\\\":null,\\\"sdk_url\\\":null,\\\"sdk_packages\\\":null,\\\"enable_onnx_compatible_models\\\":false,\\\"enable_split_onnx_featurizer_estimator_models\\\":false,\\\"vm_type\\\":\\\"STANDARD_DS12_V2\\\",\\\"telemetry_verbosity\\\":20,\\\"send_telemetry\\\":true,\\\"enable_dnn\\\":false,\\\"scenario\\\":\\\"SDK-1.13.0\\\",\\\"environment_label\\\":null,\\\"save_mlflow\\\":false,\\\"enable_categorical_indicators\\\":false,\\\"force_text_dnn\\\":false,\\\"enable_feature_sweeping\\\":true,\\\"enable_early_stopping\\\":true,\\\"early_stopping_n_iters\\\":10,\\\"arguments\\\":null,\\\"dataset_id\\\":\\\"18482520-b0ea-4fca-94e6-5d00fcfff885\\\",\\\"hyperdrive_config\\\":null,\\\"validation_dataset_id\\\":null,\\\"run_source\\\":null,\\\"metrics\\\":null,\\\"enable_metric_confidence\\\":false,\\\"enable_ensembling\\\":true,\\\"enable_stack_ensembling\\\":true,\\\"ensemble_iterations\\\":15,\\\"enable_tf\\\":false,\\\"enable_subsampling\\\":false,\\\"subsample_seed\\\":null,\\\"enable_nimbusml\\\":false,\\\"enable_streaming\\\":false,\\\"force_streaming\\\":false,\\\"track_child_runs\\\":true,\\\"allowed_private_models\\\":[],\\\"label_column_name\\\":\\\"DEATH_EVENT\\\",\\\"weight_column_name\\\":null,\\\"cv_split_column_names\\\":null,\\\"enable_local_managed\\\":false,\\\"_local_managed_run_id\\\":null,\\\"cost_mode\\\":1,\\\"lag_length\\\":0,\\\"metric_operation\\\":\\\"maximize\\\",\\\"preprocess\\\":true}\", \"DataPrepJsonString\": \"{\\\\\\\"training_data\\\\\\\": {\\\\\\\"datasetId\\\\\\\": \\\\\\\"18482520-b0ea-4fca-94e6-5d00fcfff885\\\\\\\"}, \\\\\\\"datasets\\\\\\\": 0}\", \"EnableSubsampling\": \"False\", \"runTemplate\": \"AutoML\", \"azureml.runsource\": \"automl\", \"display_task_type\": \"classification\", \"dependencies_versions\": \"{\\\"azureml-widgets\\\": \\\"1.42.0\\\", \\\"azureml-training-tabular\\\": \\\"1.42.0\\\", \\\"azureml-train\\\": \\\"1.42.0\\\", \\\"azureml-train-restclients-hyperdrive\\\": \\\"1.42.0\\\", \\\"azureml-train-core\\\": \\\"1.42.0\\\", \\\"azureml-train-automl\\\": \\\"1.42.0\\\", \\\"azureml-train-automl-runtime\\\": \\\"1.42.0\\\", \\\"azureml-train-automl-client\\\": \\\"1.42.0\\\", \\\"azureml-tensorboard\\\": \\\"1.42.0\\\", \\\"azureml-telemetry\\\": \\\"1.42.0\\\", \\\"azureml-sdk\\\": \\\"1.42.0\\\", \\\"azureml-samples\\\": \\\"0+unknown\\\", \\\"azureml-responsibleai\\\": \\\"1.42.0\\\", \\\"azureml-pipeline\\\": \\\"1.42.0\\\", \\\"azureml-pipeline-steps\\\": \\\"1.42.0\\\", \\\"azureml-pipeline-core\\\": \\\"1.42.0\\\", \\\"azureml-opendatasets\\\": \\\"1.42.0\\\", \\\"azureml-mlflow\\\": \\\"1.42.0\\\", \\\"azureml-interpret\\\": \\\"1.42.0\\\", \\\"azureml-inference-server-http\\\": \\\"0.4.13\\\", \\\"azureml-explain-model\\\": \\\"1.42.0\\\", \\\"azureml-defaults\\\": \\\"1.42.0\\\", \\\"azureml-dataset-runtime\\\": \\\"1.42.0\\\", \\\"azureml-dataprep\\\": \\\"4.0.1\\\", \\\"azureml-dataprep-rslex\\\": \\\"2.6.1\\\", \\\"azureml-dataprep-native\\\": \\\"38.0.0\\\", \\\"azureml-datadrift\\\": \\\"1.42.0\\\", \\\"azureml-core\\\": \\\"1.42.0\\\", \\\"azureml-contrib-services\\\": \\\"1.42.0\\\", \\\"azureml-contrib-server\\\": \\\"1.42.0\\\", \\\"azureml-contrib-reinforcementlearning\\\": \\\"1.42.0\\\", \\\"azureml-contrib-pipeline-steps\\\": \\\"1.42.0\\\", \\\"azureml-contrib-notebook\\\": \\\"1.42.0\\\", \\\"azureml-contrib-fairness\\\": \\\"1.42.0\\\", \\\"azureml-contrib-dataset\\\": \\\"1.42.0\\\", \\\"azureml-contrib-automl-pipeline-steps\\\": \\\"1.42.0\\\", \\\"azureml-cli-common\\\": \\\"1.42.0\\\", \\\"azureml-automl-runtime\\\": \\\"1.42.0\\\", \\\"azureml-automl-dnn-nlp\\\": \\\"1.42.0\\\", \\\"azureml-automl-core\\\": \\\"1.42.0\\\", \\\"azureml-accel-models\\\": \\\"1.42.0\\\"}\", \"_aml_system_scenario_identification\": \"Remote.Parent\", \"ClientType\": \"SDK\", \"environment_cpu_name\": \"AzureML-AutoML\", \"environment_cpu_label\": \"prod\", \"environment_gpu_name\": \"AzureML-AutoML-GPU\", \"environment_gpu_label\": \"prod\", \"root_attribution\": \"automl\", \"attribution\": \"AutoML\", \"Orchestrator\": \"AutoML\", \"CancelUri\": \"https://southcentralus.api.azureml.ms/jasmine/v1.0/subscriptions/1b944a9b-fdae-4f97-aeb1-b7eea0beac53/resourceGroups/aml-quickstarts-202911/providers/Microsoft.MachineLearningServices/workspaces/quick-starts-ws-202911/experimentids/ba349e4f-3b59-4c47-b4ca-4e096c20e139/cancel/AutoML_bce1af5e-626e-4799-9e6d-086334a99398\", \"ClientSdkVersion\": \"1.43.0.post1\", \"snapshotId\": \"00000000-0000-0000-0000-000000000000\", \"SetupRunId\": \"AutoML_bce1af5e-626e-4799-9e6d-086334a99398_setup\", \"SetupRunContainerId\": \"dcid.AutoML_bce1af5e-626e-4799-9e6d-086334a99398_setup\", \"FeaturizationRunJsonPath\": \"featurizer_container.json\", \"FeaturizationRunId\": \"AutoML_bce1af5e-626e-4799-9e6d-086334a99398_featurize\", \"ProblemInfoJsonString\": \"{\\\"dataset_num_categorical\\\": 0, \\\"is_sparse\\\": false, \\\"subsampling\\\": false, \\\"has_extra_col\\\": true, \\\"dataset_classes\\\": 2, \\\"dataset_features\\\": 12, \\\"dataset_samples\\\": 299, \\\"single_frequency_class_detected\\\": false}\", \"ModelExplainRunId\": \"AutoML_bce1af5e-626e-4799-9e6d-086334a99398_ModelExplain\"}, \"tags\": {\"model_explain_run\": \"best_run\", \"_aml_system_automl_run_workspace_id\": \"2cd2c77c-e04b-4109-8395-539faabb7ebf\", \"_aml_system_azureml.automlComponent\": \"AutoML\", \"pipeline_id\": \"\", \"score\": \"\", \"predicted_cost\": \"\", \"fit_time\": \"\", \"training_percent\": \"\", \"iteration\": \"\", \"run_preprocessor\": \"\", \"run_algorithm\": \"\", \"dynamic_allowlisting_iterations\": \"<25>;<30>;<35>;\", \"automl_best_child_run_id\": \"AutoML_bce1af5e-626e-4799-9e6d-086334a99398_38\", \"model_explain_best_run_child_id\": \"AutoML_bce1af5e-626e-4799-9e6d-086334a99398_38\"}, \"end_time_utc\": \"2022-08-01T16:41:18.052039Z\", \"status\": \"Completed\", \"log_files\": {}, \"log_groups\": [], \"run_duration\": \"0:12:34\", \"run_number\": \"1659371323\", \"run_queued_details\": {\"status\": \"Completed\", \"details\": null}}, \"child_runs\": [{\"run_id\": \"AutoML_bce1af5e-626e-4799-9e6d-086334a99398_setup\", \"run_number\": 1659371342, \"metric\": null, \"status\": \"Completed\", \"run_type\": \"azureml.scriptrun\", \"training_percent\": null, \"start_time\": \"2022-08-01T16:32:10.554614Z\", \"end_time\": \"2022-08-01T16:33:26.373253Z\", \"created_time\": \"2022-08-01T16:29:02.402259Z\", \"created_time_dt\": \"2022-08-01T16:29:02.402259Z\", \"duration\": \"0:04:23\", \"iteration\": null, \"goal\": null, \"run_name\": \"Completed\", \"run_properties\": null}, {\"run_id\": \"AutoML_bce1af5e-626e-4799-9e6d-086334a99398_featurize\", \"run_number\": 1659371606, \"metric\": null, \"status\": \"Completed\", \"run_type\": \"automl.featurization\", \"training_percent\": null, \"start_time\": \"2022-08-01T16:33:26.962521Z\", \"end_time\": \"2022-08-01T16:33:57.30945Z\", \"created_time\": \"2022-08-01T16:33:26.692857Z\", \"created_time_dt\": \"2022-08-01T16:33:26.692857Z\", \"duration\": \"0:00:30\", \"iteration\": null, \"goal\": null, \"run_name\": \"Completed\", \"run_properties\": null}, {\"run_id\": \"AutoML_bce1af5e-626e-4799-9e6d-086334a99398_0\", \"run_number\": 1659371638, \"metric\": null, \"status\": \"Completed\", \"run_type\": null, \"training_percent\": \"100\", \"start_time\": \"2022-08-01T16:34:17.855998Z\", \"end_time\": \"2022-08-01T16:34:25.677435Z\", \"created_time\": \"2022-08-01T16:33:58.468501Z\", \"created_time_dt\": \"2022-08-01T16:33:58.468501Z\", \"duration\": \"0:00:27\", \"iteration\": \"0\", \"goal\": \"accuracy_max\", \"run_name\": \"MaxAbsScaler, LightGBM\", \"run_properties\": \"copy=True\", \"primary_metric\": 0.80925926, \"best_metric\": 0.80925926}, {\"run_id\": \"AutoML_bce1af5e-626e-4799-9e6d-086334a99398_2\", \"run_number\": 1659371639, \"metric\": null, \"status\": \"Completed\", \"run_type\": null, \"training_percent\": \"100\", \"start_time\": \"2022-08-01T16:34:34.308613Z\", \"end_time\": \"2022-08-01T16:34:42.461784Z\", \"created_time\": \"2022-08-01T16:33:59.139428Z\", \"created_time_dt\": \"2022-08-01T16:33:59.139428Z\", \"duration\": \"0:00:43\", \"iteration\": \"2\", \"goal\": \"accuracy_max\", \"run_name\": \"MaxAbsScaler, ExtremeRandomTrees\", \"run_properties\": \"copy=True\", \"primary_metric\": 0.80912458, \"best_metric\": 0.80925926}, {\"run_id\": \"AutoML_bce1af5e-626e-4799-9e6d-086334a99398_worker_0\", \"run_number\": 1659371640, \"metric\": null, \"status\": \"Completed\", \"run_type\": \"azureml.scriptrun\", \"training_percent\": null, \"start_time\": \"2022-08-01T16:34:09.826391Z\", \"end_time\": \"2022-08-01T16:35:04.111374Z\", \"created_time\": \"2022-08-01T16:34:00.130191Z\", \"created_time_dt\": \"2022-08-01T16:34:00.130191Z\", \"duration\": \"0:01:03\", \"iteration\": null, \"goal\": null, \"run_name\": \"Completed\", \"run_properties\": null}, {\"run_id\": \"AutoML_bce1af5e-626e-4799-9e6d-086334a99398_7\", \"run_number\": 1659371641, \"metric\": null, \"status\": \"Completed\", \"run_type\": null, \"training_percent\": \"100\", \"start_time\": \"2022-08-01T16:35:38.703399Z\", \"end_time\": \"2022-08-01T16:35:46.148841Z\", \"created_time\": \"2022-08-01T16:34:01.027082Z\", \"created_time_dt\": \"2022-08-01T16:34:01.027082Z\", \"duration\": \"0:01:45\", \"iteration\": \"7\", \"goal\": \"accuracy_max\", \"run_name\": \"MaxAbsScaler, LightGBM\", \"run_properties\": \"copy=True\", \"primary_metric\": 0.79929293, \"best_metric\": 0.80925926}, {\"run_id\": \"AutoML_bce1af5e-626e-4799-9e6d-086334a99398_worker_1\", \"run_number\": 1659371642, \"metric\": null, \"status\": \"Completed\", \"run_type\": \"azureml.scriptrun\", \"training_percent\": null, \"start_time\": \"2022-08-01T16:35:13.682008Z\", \"end_time\": \"2022-08-01T16:36:12.647894Z\", \"created_time\": \"2022-08-01T16:34:02.001908Z\", \"created_time_dt\": \"2022-08-01T16:34:02.001908Z\", \"duration\": \"0:02:10\", \"iteration\": null, \"goal\": null, \"run_name\": \"Completed\", \"run_properties\": null}, {\"run_id\": \"AutoML_bce1af5e-626e-4799-9e6d-086334a99398_worker_2\", \"run_number\": 1659371643, \"metric\": null, \"status\": \"Completed\", \"run_type\": \"azureml.scriptrun\", \"training_percent\": null, \"start_time\": \"2022-08-01T16:35:57.21159Z\", \"end_time\": \"2022-08-01T16:38:01.26571Z\", \"created_time\": \"2022-08-01T16:34:03.647057Z\", \"created_time_dt\": \"2022-08-01T16:34:03.647057Z\", \"duration\": \"0:03:57\", \"iteration\": null, \"goal\": null, \"run_name\": \"Completed\", \"run_properties\": null}, {\"run_id\": \"AutoML_bce1af5e-626e-4799-9e6d-086334a99398_16\", \"run_number\": 1659371644, \"metric\": null, \"status\": \"Completed\", \"run_type\": null, \"training_percent\": \"100\", \"start_time\": \"2022-08-01T16:37:02.891869Z\", \"end_time\": \"2022-08-01T16:37:15.082194Z\", \"created_time\": \"2022-08-01T16:34:04.16352Z\", \"created_time_dt\": \"2022-08-01T16:34:04.16352Z\", \"duration\": \"0:03:10\", \"iteration\": \"16\", \"goal\": \"accuracy_max\", \"run_name\": \"SparseNormalizer, KNN\", \"run_properties\": \"copy=True, norm='max'\", \"primary_metric\": 0.74252525, \"best_metric\": 0.80925926}, {\"run_id\": \"AutoML_bce1af5e-626e-4799-9e6d-086334a99398_worker_3\", \"run_number\": 1659371645, \"metric\": null, \"status\": \"Completed\", \"run_type\": \"azureml.scriptrun\", \"training_percent\": null, \"start_time\": \"2022-08-01T16:35:56.0306Z\", \"end_time\": \"2022-08-01T16:37:52.822761Z\", \"created_time\": \"2022-08-01T16:34:05.524512Z\", \"created_time_dt\": \"2022-08-01T16:34:05.524512Z\", \"duration\": \"0:03:47\", \"iteration\": null, \"goal\": null, \"run_name\": \"Completed\", \"run_properties\": null}, {\"run_id\": \"AutoML_bce1af5e-626e-4799-9e6d-086334a99398_20\", \"run_number\": 1659371858, \"metric\": null, \"status\": \"Completed\", \"run_type\": \"azureml.scriptrun\", \"training_percent\": \"100\", \"start_time\": \"2022-08-01T16:37:52.736112Z\", \"end_time\": \"2022-08-01T16:38:12.581506Z\", \"created_time\": \"2022-08-01T16:37:38.296915Z\", \"created_time_dt\": \"2022-08-01T16:37:38.296915Z\", \"duration\": \"0:00:34\", \"iteration\": \"20\", \"goal\": \"accuracy_max\", \"run_name\": \"MaxAbsScaler, LogisticRegression\", \"run_properties\": \"copy=True\", \"primary_metric\": 0.80249158, \"best_metric\": 0.80925926}, {\"run_id\": \"AutoML_bce1af5e-626e-4799-9e6d-086334a99398_22\", \"run_number\": 1659371877, \"metric\": null, \"status\": \"Completed\", \"run_type\": \"azureml.scriptrun\", \"training_percent\": \"100\", \"start_time\": \"2022-08-01T16:38:03.0227Z\", \"end_time\": \"2022-08-01T16:38:27.799696Z\", \"created_time\": \"2022-08-01T16:37:57.970146Z\", \"created_time_dt\": \"2022-08-01T16:37:57.970146Z\", \"duration\": \"0:00:29\", \"iteration\": \"22\", \"goal\": \"accuracy_max\", \"run_name\": \"SparseNormalizer, RandomForest\", \"run_properties\": \"copy=True, norm='l2'\", \"primary_metric\": 0.81939394, \"best_metric\": 0.81939394}, {\"run_id\": \"AutoML_bce1af5e-626e-4799-9e6d-086334a99398_24\", \"run_number\": 1659371896, \"metric\": null, \"status\": \"Completed\", \"run_type\": \"azureml.scriptrun\", \"training_percent\": \"100\", \"start_time\": \"2022-08-01T16:38:21.108255Z\", \"end_time\": \"2022-08-01T16:38:46.18955Z\", \"created_time\": \"2022-08-01T16:38:16.485432Z\", \"created_time_dt\": \"2022-08-01T16:38:16.485432Z\", \"duration\": \"0:00:29\", \"iteration\": \"24\", \"goal\": \"accuracy_max\", \"run_name\": \"StandardScalerWrapper, XGBoostClassifier\", \"run_properties\": \"copy=True, with_mean=False, with_std=False\", \"primary_metric\": 0.8393266, \"best_metric\": 0.8393266}, {\"run_id\": \"AutoML_bce1af5e-626e-4799-9e6d-086334a99398_25\", \"run_number\": 1659371911, \"metric\": null, \"status\": \"Completed\", \"run_type\": \"azureml.scriptrun\", \"training_percent\": \"100\", \"start_time\": \"2022-08-01T16:38:36.45932Z\", \"end_time\": \"2022-08-01T16:38:56.907913Z\", \"created_time\": \"2022-08-01T16:38:31.4206Z\", \"created_time_dt\": \"2022-08-01T16:38:31.4206Z\", \"duration\": \"0:00:25\", \"iteration\": \"25\", \"goal\": \"accuracy_max\", \"run_name\": \"RobustScaler, LightGBM\", \"run_properties\": \"copy=True, quantile_range=[25, 75], with_centering=True,\\n             with_scaling=True\", \"primary_metric\": 0.8293266, \"best_metric\": 0.8393266}, {\"run_id\": \"AutoML_bce1af5e-626e-4799-9e6d-086334a99398_27\", \"run_number\": 1659371927, \"metric\": null, \"status\": \"Completed\", \"run_type\": \"azureml.scriptrun\", \"training_percent\": \"100\", \"start_time\": \"2022-08-01T16:38:54.478312Z\", \"end_time\": \"2022-08-01T16:39:13.464973Z\", \"created_time\": \"2022-08-01T16:38:47.671404Z\", \"created_time_dt\": \"2022-08-01T16:38:47.671404Z\", \"duration\": \"0:00:25\", \"iteration\": \"27\", \"goal\": \"accuracy_max\", \"run_name\": \"SparseNormalizer, XGBoostClassifier\", \"run_properties\": \"copy=True, norm='l1'\", \"primary_metric\": 0.80592593, \"best_metric\": 0.8393266}, {\"run_id\": \"AutoML_bce1af5e-626e-4799-9e6d-086334a99398_28\", \"run_number\": 1659371938, \"metric\": null, \"status\": \"Completed\", \"run_type\": \"azureml.scriptrun\", \"training_percent\": \"100\", \"start_time\": \"2022-08-01T16:39:04.914231Z\", \"end_time\": \"2022-08-01T16:39:27.197619Z\", \"created_time\": \"2022-08-01T16:38:58.50635Z\", \"created_time_dt\": \"2022-08-01T16:38:58.50635Z\", \"duration\": \"0:00:28\", \"iteration\": \"28\", \"goal\": \"accuracy_max\", \"run_name\": \"RobustScaler, LightGBM\", \"run_properties\": \"copy=True, quantile_range=[25, 75], with_centering=True,\\n             with_scaling=False\", \"primary_metric\": 0.83602694, \"best_metric\": 0.8393266}, {\"run_id\": \"AutoML_bce1af5e-626e-4799-9e6d-086334a99398_29\", \"run_number\": 1659371950, \"metric\": null, \"status\": \"Completed\", \"run_type\": \"azureml.scriptrun\", \"training_percent\": \"100\", \"start_time\": \"2022-08-01T16:39:15.939736Z\", \"end_time\": \"2022-08-01T16:39:35.934785Z\", \"created_time\": \"2022-08-01T16:39:10.354965Z\", \"created_time_dt\": \"2022-08-01T16:39:10.354965Z\", \"duration\": \"0:00:25\", \"iteration\": \"29\", \"goal\": \"accuracy_max\", \"run_name\": \"MinMaxScaler, RandomForest\", \"run_properties\": \"copy=True, feature_range=(0, 1\", \"primary_metric\": 0.81922559, \"best_metric\": 0.8393266}, {\"run_id\": \"AutoML_bce1af5e-626e-4799-9e6d-086334a99398_30\", \"run_number\": 1659371956, \"metric\": null, \"status\": \"Completed\", \"run_type\": \"azureml.scriptrun\", \"training_percent\": \"100\", \"start_time\": \"2022-08-01T16:39:20.8921Z\", \"end_time\": \"2022-08-01T16:39:40.905232Z\", \"created_time\": \"2022-08-01T16:39:16.053419Z\", \"created_time_dt\": \"2022-08-01T16:39:16.053419Z\", \"duration\": \"0:00:24\", \"iteration\": \"30\", \"goal\": \"accuracy_max\", \"run_name\": \"SparseNormalizer, XGBoostClassifier\", \"run_properties\": \"copy=True, norm='l1'\", \"primary_metric\": 0.78272727, \"best_metric\": 0.8393266}, {\"run_id\": \"AutoML_bce1af5e-626e-4799-9e6d-086334a99398_31\", \"run_number\": 1659371958, \"metric\": null, \"status\": \"Completed\", \"run_type\": \"azureml.scriptrun\", \"training_percent\": \"100\", \"start_time\": \"2022-08-01T16:39:23.932749Z\", \"end_time\": \"2022-08-01T16:39:48.914225Z\", \"created_time\": \"2022-08-01T16:39:18.16404Z\", \"created_time_dt\": \"2022-08-01T16:39:18.16404Z\", \"duration\": \"0:00:30\", \"iteration\": \"31\", \"goal\": \"accuracy_max\", \"run_name\": \"RobustScaler, RandomForest\", \"run_properties\": \"copy=True, quantile_range=[25, 75], with_centering=True,\\n             with_scaling=False\", \"primary_metric\": 0.81929293, \"best_metric\": 0.8393266}, {\"run_id\": \"AutoML_bce1af5e-626e-4799-9e6d-086334a99398_32\", \"run_number\": 1659371968, \"metric\": null, \"status\": \"Completed\", \"run_type\": \"azureml.scriptrun\", \"training_percent\": \"100\", \"start_time\": \"2022-08-01T16:39:39.107181Z\", \"end_time\": \"2022-08-01T16:40:02.856477Z\", \"created_time\": \"2022-08-01T16:39:28.800252Z\", \"created_time_dt\": \"2022-08-01T16:39:28.800252Z\", \"duration\": \"0:00:34\", \"iteration\": \"32\", \"goal\": \"accuracy_max\", \"run_name\": \"StandardScalerWrapper, XGBoostClassifier\", \"run_properties\": \"copy=True, with_mean=False, with_std=False\", \"primary_metric\": 0.82929293, \"best_metric\": 0.8393266}, {\"run_id\": \"AutoML_bce1af5e-626e-4799-9e6d-086334a99398_33\", \"run_number\": 1659371977, \"metric\": null, \"status\": \"Completed\", \"run_type\": \"azureml.scriptrun\", \"training_percent\": \"100\", \"start_time\": \"2022-08-01T16:39:42.122238Z\", \"end_time\": \"2022-08-01T16:40:00.749232Z\", \"created_time\": \"2022-08-01T16:39:37.697898Z\", \"created_time_dt\": \"2022-08-01T16:39:37.697898Z\", \"duration\": \"0:00:23\", \"iteration\": \"33\", \"goal\": \"accuracy_max\", \"run_name\": \"StandardScalerWrapper, XGBoostClassifier\", \"run_properties\": \"copy=True, with_mean=False, with_std=False\", \"primary_metric\": 0.84609428, \"best_metric\": 0.84609428}, {\"run_id\": \"AutoML_bce1af5e-626e-4799-9e6d-086334a99398_34\", \"run_number\": 1659371982, \"metric\": null, \"status\": \"Completed\", \"run_type\": \"azureml.scriptrun\", \"training_percent\": \"100\", \"start_time\": \"2022-08-01T16:39:48.264774Z\", \"end_time\": \"2022-08-01T16:40:11.951961Z\", \"created_time\": \"2022-08-01T16:39:42.394792Z\", \"created_time_dt\": \"2022-08-01T16:39:42.394792Z\", \"duration\": \"0:00:29\", \"iteration\": \"34\", \"goal\": \"accuracy_max\", \"run_name\": \"StandardScalerWrapper, RandomForest\", \"run_properties\": \"copy=True, with_mean=True, with_std=False\", \"primary_metric\": 0.80585859, \"best_metric\": 0.84609428}, {\"run_id\": \"AutoML_bce1af5e-626e-4799-9e6d-086334a99398_35\", \"run_number\": 1659371991, \"metric\": null, \"status\": \"Completed\", \"run_type\": \"azureml.scriptrun\", \"training_percent\": \"100\", \"start_time\": \"2022-08-01T16:39:57.4179Z\", \"end_time\": \"2022-08-01T16:40:17.208761Z\", \"created_time\": \"2022-08-01T16:39:51.39701Z\", \"created_time_dt\": \"2022-08-01T16:39:51.39701Z\", \"duration\": \"0:00:25\", \"iteration\": \"35\", \"goal\": \"accuracy_max\", \"run_name\": \"StandardScalerWrapper, XGBoostClassifier\", \"run_properties\": \"copy=True, with_mean=False, with_std=False\", \"primary_metric\": 0.83599327, \"best_metric\": 0.84609428}, {\"run_id\": \"AutoML_bce1af5e-626e-4799-9e6d-086334a99398_36\", \"run_number\": 1659372002, \"metric\": null, \"status\": \"Completed\", \"run_type\": \"azureml.scriptrun\", \"training_percent\": \"100\", \"start_time\": \"2022-08-01T16:40:06.542366Z\", \"end_time\": \"2022-08-01T16:40:30.670123Z\", \"created_time\": \"2022-08-01T16:40:02.417036Z\", \"created_time_dt\": \"2022-08-01T16:40:02.417036Z\", \"duration\": \"0:00:28\", \"iteration\": \"36\", \"goal\": \"accuracy_max\", \"run_name\": \"StandardScalerWrapper, XGBoostClassifier\", \"run_properties\": \"copy=True, with_mean=False, with_std=False\", \"primary_metric\": 0.83265993, \"best_metric\": 0.84609428}, {\"run_id\": \"AutoML_bce1af5e-626e-4799-9e6d-086334a99398_37\", \"run_number\": 1659372004, \"metric\": null, \"status\": \"Completed\", \"run_type\": \"azureml.scriptrun\", \"training_percent\": \"100\", \"start_time\": \"2022-08-01T16:40:09.503406Z\", \"end_time\": \"2022-08-01T16:40:34.003216Z\", \"created_time\": \"2022-08-01T16:40:04.552892Z\", \"created_time_dt\": \"2022-08-01T16:40:04.552892Z\", \"duration\": \"0:00:29\", \"iteration\": \"37\", \"goal\": \"accuracy_max\", \"run_name\": \"MinMaxScaler, RandomForest\", \"run_properties\": \"copy=True, feature_range=(0, 1\", \"primary_metric\": 0.82252525, \"best_metric\": 0.84609428}, {\"run_id\": \"AutoML_bce1af5e-626e-4799-9e6d-086334a99398_38\", \"run_number\": 1659372034, \"metric\": null, \"status\": \"Completed\", \"run_type\": \"azureml.scriptrun\", \"training_percent\": \"100\", \"start_time\": \"2022-08-01T16:40:41.795866Z\", \"end_time\": \"2022-08-01T16:41:16.181207Z\", \"created_time\": \"2022-08-01T16:40:34.476795Z\", \"created_time_dt\": \"2022-08-01T16:40:34.476795Z\", \"duration\": \"0:00:41\", \"iteration\": \"38\", \"goal\": \"accuracy_max\", \"run_name\": \"VotingEnsemble\", \"run_properties\": \"classification_labels=numpy.array([0, 1]\", \"primary_metric\": 0.86286195, \"best_metric\": 0.86286195}], \"children_metrics\": {\"categories\": [0], \"series\": {\"AUC_micro\": [{\"categories\": [\"0\", \"2\", \"7\", \"16\", \"20\", \"22\", \"24\", \"25\", \"27\", \"28\", \"29\", \"30\", \"31\", \"32\", \"33\", \"34\", \"35\", \"36\", \"37\", \"38\"], \"mode\": \"markers\", \"name\": \"AUC_micro\", \"stepped\": false, \"type\": \"scatter\", \"data\": [0.8827037479168792, 0.8629308267863823, 0.8705277726762576, 0.8038174574023059, 0.8694759990477161, 0.8830233717647861, 0.9056303098323301, 0.8934878379757167, 0.8883081454273373, 0.8935352174948136, 0.8874204979083767, 0.8591384280515593, 0.9014866544230181, 0.9000110192837466, 0.8893365676971738, 0.8877825970139103, 0.9016367377478488, 0.8914142366425195, 0.9014286195286195, 0.8990235384144475]}, {\"categories\": [\"0\", \"2\", \"7\", \"16\", \"20\", \"22\", \"24\", \"25\", \"27\", \"28\", \"29\", \"30\", \"31\", \"32\", \"33\", \"34\", \"35\", \"36\", \"37\", \"38\"], \"mode\": \"lines\", \"name\": \"AUC_micro_max\", \"stepped\": true, \"type\": \"scatter\", \"data\": [0.8827037479168792, 0.8827037479168792, 0.8827037479168792, 0.8827037479168792, 0.8827037479168792, 0.8830233717647861, 0.9056303098323301, 0.9056303098323301, 0.9056303098323301, 0.9056303098323301, 0.9056303098323301, 0.9056303098323301, 0.9056303098323301, 0.9056303098323301, 0.9056303098323301, 0.9056303098323301, 0.9056303098323301, 0.9056303098323301, 0.9056303098323301, 0.9056303098323301]}], \"AUC_macro\": [{\"categories\": [\"0\", \"2\", \"7\", \"16\", \"20\", \"22\", \"24\", \"25\", \"27\", \"28\", \"29\", \"30\", \"31\", \"32\", \"33\", \"34\", \"35\", \"36\", \"37\", \"38\"], \"mode\": \"markers\", \"name\": \"AUC_macro\", \"stepped\": false, \"type\": \"scatter\", \"data\": [0.8636422629526077, 0.8539022273505031, 0.8733756169963067, 0.7425737067116378, 0.8466784025404716, 0.8643795026553648, 0.8945186072772281, 0.8797034966000483, 0.874796274106619, 0.8803623820865201, 0.8771539519815382, 0.8484349867108487, 0.8932531053220708, 0.8898986178296523, 0.8692810791086654, 0.8797115341942928, 0.8956563953115677, 0.8798678974541043, 0.8988439917750263, 0.8856757742964639]}, {\"categories\": [\"0\", \"2\", \"7\", \"16\", \"20\", \"22\", \"24\", \"25\", \"27\", \"28\", \"29\", \"30\", \"31\", \"32\", \"33\", \"34\", \"35\", \"36\", \"37\", \"38\"], \"mode\": \"lines\", \"name\": \"AUC_macro_max\", \"stepped\": true, \"type\": \"scatter\", \"data\": [0.8636422629526077, 0.8636422629526077, 0.8733756169963067, 0.8733756169963067, 0.8733756169963067, 0.8733756169963067, 0.8945186072772281, 0.8945186072772281, 0.8945186072772281, 0.8945186072772281, 0.8945186072772281, 0.8945186072772281, 0.8945186072772281, 0.8945186072772281, 0.8945186072772281, 0.8945186072772281, 0.8956563953115677, 0.8956563953115677, 0.8988439917750263, 0.8988439917750263]}], \"f1_score_macro\": [{\"categories\": [\"0\", \"2\", \"7\", \"16\", \"20\", \"22\", \"24\", \"25\", \"27\", \"28\", \"29\", \"30\", \"31\", \"32\", \"33\", \"34\", \"35\", \"36\", \"37\", \"38\"], \"mode\": \"markers\", \"name\": \"f1_score_macro\", \"stepped\": false, \"type\": \"scatter\", \"data\": [0.774742387907709, 0.7831986119363571, 0.7368427379966308, 0.6455558824305396, 0.7683517369342786, 0.7810537041215921, 0.8097716199155718, 0.799120960668484, 0.7702433967809226, 0.8088886459597289, 0.7921195095554731, 0.7317346039250431, 0.7884179072318113, 0.7975596738502503, 0.8097871386155381, 0.7685553536595758, 0.8028284511428622, 0.800124966724141, 0.7943442988849286, 0.8324552990045948]}, {\"categories\": [\"0\", \"2\", \"7\", \"16\", \"20\", \"22\", \"24\", \"25\", \"27\", \"28\", \"29\", \"30\", \"31\", \"32\", \"33\", \"34\", \"35\", \"36\", \"37\", \"38\"], \"mode\": \"lines\", \"name\": \"f1_score_macro_max\", \"stepped\": true, \"type\": \"scatter\", \"data\": [0.774742387907709, 0.7831986119363571, 0.7831986119363571, 0.7831986119363571, 0.7831986119363571, 0.7831986119363571, 0.8097716199155718, 0.8097716199155718, 0.8097716199155718, 0.8097716199155718, 0.8097716199155718, 0.8097716199155718, 0.8097716199155718, 0.8097716199155718, 0.8097871386155381, 0.8097871386155381, 0.8097871386155381, 0.8097871386155381, 0.8097871386155381, 0.8324552990045948]}], \"f1_score_weighted\": [{\"categories\": [\"0\", \"2\", \"7\", \"16\", \"20\", \"22\", \"24\", \"25\", \"27\", \"28\", \"29\", \"30\", \"31\", \"32\", \"33\", \"34\", \"35\", \"36\", \"37\", \"38\"], \"mode\": \"markers\", \"name\": \"f1_score_weighted\", \"stepped\": false, \"type\": \"scatter\", \"data\": [0.8063492280156729, 0.8101599495399631, 0.7831031491632588, 0.7119486284973049, 0.799873863320251, 0.8128571756921081, 0.8370542063033778, 0.8270146640582116, 0.8020918552800249, 0.8345370134472191, 0.8178208848872256, 0.7730812255259915, 0.8162762391102754, 0.8260194485549249, 0.8386242894499197, 0.8018286653349765, 0.8308183651638393, 0.8290892075408994, 0.8206675257725445, 0.8566722844187633]}, {\"categories\": [\"0\", \"2\", \"7\", \"16\", \"20\", \"22\", \"24\", \"25\", \"27\", \"28\", \"29\", \"30\", \"31\", \"32\", \"33\", \"34\", \"35\", \"36\", \"37\", \"38\"], \"mode\": \"lines\", \"name\": \"f1_score_weighted_max\", \"stepped\": true, \"type\": \"scatter\", \"data\": [0.8063492280156729, 0.8101599495399631, 0.8101599495399631, 0.8101599495399631, 0.8101599495399631, 0.8128571756921081, 0.8370542063033778, 0.8370542063033778, 0.8370542063033778, 0.8370542063033778, 0.8370542063033778, 0.8370542063033778, 0.8370542063033778, 0.8370542063033778, 0.8386242894499197, 0.8386242894499197, 0.8386242894499197, 0.8386242894499197, 0.8386242894499197, 0.8566722844187633]}], \"AUC_weighted\": [{\"categories\": [\"0\", \"2\", \"7\", \"16\", \"20\", \"22\", \"24\", \"25\", \"27\", \"28\", \"29\", \"30\", \"31\", \"32\", \"33\", \"34\", \"35\", \"36\", \"37\", \"38\"], \"mode\": \"markers\", \"name\": \"AUC_weighted\", \"stepped\": false, \"type\": \"scatter\", \"data\": [0.8636422629526077, 0.8539022273505031, 0.8733756169963067, 0.7425737067116378, 0.8466784025404716, 0.8643795026553648, 0.8945186072772279, 0.8797034966000483, 0.8747962741066191, 0.8803623820865201, 0.8771539519815382, 0.8484349867108487, 0.8932531053220708, 0.8898986178296523, 0.8692810791086653, 0.8797115341942927, 0.8956563953115677, 0.8798678974541043, 0.8988439917750263, 0.8856757742964639]}, {\"categories\": [\"0\", \"2\", \"7\", \"16\", \"20\", \"22\", \"24\", \"25\", \"27\", \"28\", \"29\", \"30\", \"31\", \"32\", \"33\", \"34\", \"35\", \"36\", \"37\", \"38\"], \"mode\": \"lines\", \"name\": \"AUC_weighted_max\", \"stepped\": true, \"type\": \"scatter\", \"data\": [0.8636422629526077, 0.8636422629526077, 0.8733756169963067, 0.8733756169963067, 0.8733756169963067, 0.8733756169963067, 0.8945186072772279, 0.8945186072772279, 0.8945186072772279, 0.8945186072772279, 0.8945186072772279, 0.8945186072772279, 0.8945186072772279, 0.8945186072772279, 0.8945186072772279, 0.8945186072772279, 0.8956563953115677, 0.8956563953115677, 0.8988439917750263, 0.8988439917750263]}], \"average_precision_score_weighted\": [{\"categories\": [\"0\", \"2\", \"7\", \"16\", \"20\", \"22\", \"24\", \"25\", \"27\", \"28\", \"29\", \"30\", \"31\", \"32\", \"33\", \"34\", \"35\", \"36\", \"37\", \"38\"], \"mode\": \"markers\", \"name\": \"average_precision_score_weighted\", \"stepped\": false, \"type\": \"scatter\", \"data\": [0.873538817783821, 0.8688808244053859, 0.8769483654972451, 0.7822909096120321, 0.8648440460321166, 0.8721135849972915, 0.901978369816157, 0.8889741473815386, 0.8806502384616303, 0.8872481874855401, 0.8828721030965777, 0.8496119059690533, 0.8988961794104645, 0.8950890645732944, 0.8671591724188318, 0.8809524783601792, 0.8930208015427546, 0.8847867556575627, 0.901163062268623, 0.8925987834628714]}, {\"categories\": [\"0\", \"2\", \"7\", \"16\", \"20\", \"22\", \"24\", \"25\", \"27\", \"28\", \"29\", \"30\", \"31\", \"32\", \"33\", \"34\", \"35\", \"36\", \"37\", \"38\"], \"mode\": \"lines\", \"name\": \"average_precision_score_weighted_max\", \"stepped\": true, \"type\": \"scatter\", \"data\": [0.873538817783821, 0.873538817783821, 0.8769483654972451, 0.8769483654972451, 0.8769483654972451, 0.8769483654972451, 0.901978369816157, 0.901978369816157, 0.901978369816157, 0.901978369816157, 0.901978369816157, 0.901978369816157, 0.901978369816157, 0.901978369816157, 0.901978369816157, 0.901978369816157, 0.901978369816157, 0.901978369816157, 0.901978369816157, 0.901978369816157]}], \"recall_score_micro\": [{\"categories\": [\"0\", \"2\", \"7\", \"16\", \"20\", \"22\", \"24\", \"25\", \"27\", \"28\", \"29\", \"30\", \"31\", \"32\", \"33\", \"34\", \"35\", \"36\", \"37\", \"38\"], \"mode\": \"markers\", \"name\": \"recall_score_micro\", \"stepped\": false, \"type\": \"scatter\", \"data\": [0.8092592592592592, 0.8091245791245791, 0.7992929292929292, 0.7425252525252525, 0.8024915824915825, 0.8193939393939395, 0.8393265993265994, 0.8293265993265994, 0.8059259259259259, 0.836026936026936, 0.8192255892255892, 0.7827272727272727, 0.8192929292929293, 0.8292929292929294, 0.8460942760942761, 0.8058585858585859, 0.835993265993266, 0.8326599326599325, 0.8225252525252525, 0.8628619528619529]}, {\"categories\": [\"0\", \"2\", \"7\", \"16\", \"20\", \"22\", \"24\", \"25\", \"27\", \"28\", \"29\", \"30\", \"31\", \"32\", \"33\", \"34\", \"35\", \"36\", \"37\", \"38\"], \"mode\": \"lines\", \"name\": \"recall_score_micro_max\", \"stepped\": true, \"type\": \"scatter\", \"data\": [0.8092592592592592, 0.8092592592592592, 0.8092592592592592, 0.8092592592592592, 0.8092592592592592, 0.8193939393939395, 0.8393265993265994, 0.8393265993265994, 0.8393265993265994, 0.8393265993265994, 0.8393265993265994, 0.8393265993265994, 0.8393265993265994, 0.8393265993265994, 0.8460942760942761, 0.8460942760942761, 0.8460942760942761, 0.8460942760942761, 0.8460942760942761, 0.8628619528619529]}], \"precision_score_micro\": [{\"categories\": [\"0\", \"2\", \"7\", \"16\", \"20\", \"22\", \"24\", \"25\", \"27\", \"28\", \"29\", \"30\", \"31\", \"32\", \"33\", \"34\", \"35\", \"36\", \"37\", \"38\"], \"mode\": \"markers\", \"name\": \"precision_score_micro\", \"stepped\": false, \"type\": \"scatter\", \"data\": [0.8092592592592592, 0.8091245791245791, 0.7992929292929292, 0.7425252525252525, 0.8024915824915825, 0.8193939393939395, 0.8393265993265994, 0.8293265993265994, 0.8059259259259259, 0.836026936026936, 0.8192255892255892, 0.7827272727272727, 0.8192929292929293, 0.8292929292929294, 0.8460942760942761, 0.8058585858585859, 0.835993265993266, 0.8326599326599325, 0.8225252525252525, 0.8628619528619529]}, {\"categories\": [\"0\", \"2\", \"7\", \"16\", \"20\", \"22\", \"24\", \"25\", \"27\", \"28\", \"29\", \"30\", \"31\", \"32\", \"33\", \"34\", \"35\", \"36\", \"37\", \"38\"], \"mode\": \"lines\", \"name\": \"precision_score_micro_max\", \"stepped\": true, \"type\": \"scatter\", \"data\": [0.8092592592592592, 0.8092592592592592, 0.8092592592592592, 0.8092592592592592, 0.8092592592592592, 0.8193939393939395, 0.8393265993265994, 0.8393265993265994, 0.8393265993265994, 0.8393265993265994, 0.8393265993265994, 0.8393265993265994, 0.8393265993265994, 0.8393265993265994, 0.8460942760942761, 0.8460942760942761, 0.8460942760942761, 0.8460942760942761, 0.8460942760942761, 0.8628619528619529]}], \"balanced_accuracy\": [{\"categories\": [\"0\", \"2\", \"7\", \"16\", \"20\", \"22\", \"24\", \"25\", \"27\", \"28\", \"29\", \"30\", \"31\", \"32\", \"33\", \"34\", \"35\", \"36\", \"37\", \"38\"], \"mode\": \"markers\", \"name\": \"balanced_accuracy\", \"stepped\": false, \"type\": \"scatter\", \"data\": [0.7731751455889387, 0.7905038042969078, 0.7190140879796053, 0.6383634866393487, 0.7664812595847078, 0.7741389172423655, 0.807588130001923, 0.7998288929323412, 0.7701778132812617, 0.8092868730799765, 0.7984644743265433, 0.7156348466693294, 0.7927831772659358, 0.7942661873696357, 0.7953830677968609, 0.7655690172931552, 0.7979555910590393, 0.7954045178183109, 0.7972876817704404, 0.8242646587474174]}, {\"categories\": [\"0\", \"2\", \"7\", \"16\", \"20\", \"22\", \"24\", \"25\", \"27\", \"28\", \"29\", \"30\", \"31\", \"32\", \"33\", \"34\", \"35\", \"36\", \"37\", \"38\"], \"mode\": \"lines\", \"name\": \"balanced_accuracy_max\", \"stepped\": true, \"type\": \"scatter\", \"data\": [0.7731751455889387, 0.7905038042969078, 0.7905038042969078, 0.7905038042969078, 0.7905038042969078, 0.7905038042969078, 0.807588130001923, 0.807588130001923, 0.807588130001923, 0.8092868730799765, 0.8092868730799765, 0.8092868730799765, 0.8092868730799765, 0.8092868730799765, 0.8092868730799765, 0.8092868730799765, 0.8092868730799765, 0.8092868730799765, 0.8092868730799765, 0.8242646587474174]}], \"precision_score_weighted\": [{\"categories\": [\"0\", \"2\", \"7\", \"16\", \"20\", \"22\", \"24\", \"25\", \"27\", \"28\", \"29\", \"30\", \"31\", \"32\", \"33\", \"34\", \"35\", \"36\", \"37\", \"38\"], \"mode\": \"markers\", \"name\": \"precision_score_weighted\", \"stepped\": false, \"type\": \"scatter\", \"data\": [0.8132243429318056, 0.8223050187934561, 0.8040422698701543, 0.7411765322907335, 0.8094385367703031, 0.8210615182662924, 0.8426722804491629, 0.8385736753499912, 0.8140943731616082, 0.8387104838024154, 0.8358195408014742, 0.778826701499208, 0.8307072992367109, 0.8341492814391795, 0.8491303774637108, 0.811153091012426, 0.8407135457135458, 0.8356122075878613, 0.8352581192693393, 0.8720303965581744]}, {\"categories\": [\"0\", \"2\", \"7\", \"16\", \"20\", \"22\", \"24\", \"25\", \"27\", \"28\", \"29\", \"30\", \"31\", \"32\", \"33\", \"34\", \"35\", \"36\", \"37\", \"38\"], \"mode\": \"lines\", \"name\": \"precision_score_weighted_max\", \"stepped\": true, \"type\": \"scatter\", \"data\": [0.8132243429318056, 0.8223050187934561, 0.8223050187934561, 0.8223050187934561, 0.8223050187934561, 0.8223050187934561, 0.8426722804491629, 0.8426722804491629, 0.8426722804491629, 0.8426722804491629, 0.8426722804491629, 0.8426722804491629, 0.8426722804491629, 0.8426722804491629, 0.8491303774637108, 0.8491303774637108, 0.8491303774637108, 0.8491303774637108, 0.8491303774637108, 0.8720303965581744]}], \"precision_score_macro\": [{\"categories\": [\"0\", \"2\", \"7\", \"16\", \"20\", \"22\", \"24\", \"25\", \"27\", \"28\", \"29\", \"30\", \"31\", \"32\", \"33\", \"34\", \"35\", \"36\", \"37\", \"38\"], \"mode\": \"markers\", \"name\": \"precision_score_macro\", \"stepped\": false, \"type\": \"scatter\", \"data\": [0.78798899219383, 0.7894614935784473, 0.8029135778969224, 0.7343305405057553, 0.7848563995587859, 0.8056531313978296, 0.8214659012906393, 0.8152226231287031, 0.7894053372684883, 0.8152322177305954, 0.809346487690855, 0.7694229188020353, 0.8052561817267699, 0.8144778876832098, 0.8463660513660515, 0.7875548379362649, 0.8257843688878171, 0.8169349128540304, 0.8113433281736228, 0.8668650793650793]}, {\"categories\": [\"0\", \"2\", \"7\", \"16\", \"20\", \"22\", \"24\", \"25\", \"27\", \"28\", \"29\", \"30\", \"31\", \"32\", \"33\", \"34\", \"35\", \"36\", \"37\", \"38\"], \"mode\": \"lines\", \"name\": \"precision_score_macro_max\", \"stepped\": true, \"type\": \"scatter\", \"data\": [0.78798899219383, 0.7894614935784473, 0.8029135778969224, 0.8029135778969224, 0.8029135778969224, 0.8056531313978296, 0.8214659012906393, 0.8214659012906393, 0.8214659012906393, 0.8214659012906393, 0.8214659012906393, 0.8214659012906393, 0.8214659012906393, 0.8214659012906393, 0.8463660513660515, 0.8463660513660515, 0.8463660513660515, 0.8463660513660515, 0.8463660513660515, 0.8668650793650793]}], \"accuracy\": [{\"categories\": [\"0\", \"2\", \"7\", \"16\", \"20\", \"22\", \"24\", \"25\", \"27\", \"28\", \"29\", \"30\", \"31\", \"32\", \"33\", \"34\", \"35\", \"36\", \"37\", \"38\"], \"mode\": \"markers\", \"name\": \"accuracy\", \"stepped\": false, \"type\": \"scatter\", \"data\": [0.8092592592592592, 0.8091245791245791, 0.7992929292929292, 0.7425252525252525, 0.8024915824915825, 0.8193939393939395, 0.8393265993265994, 0.8293265993265994, 0.8059259259259259, 0.836026936026936, 0.8192255892255892, 0.7827272727272727, 0.8192929292929293, 0.8292929292929294, 0.8460942760942761, 0.8058585858585859, 0.835993265993266, 0.8326599326599325, 0.8225252525252525, 0.8628619528619529]}, {\"categories\": [\"0\", \"2\", \"7\", \"16\", \"20\", \"22\", \"24\", \"25\", \"27\", \"28\", \"29\", \"30\", \"31\", \"32\", \"33\", \"34\", \"35\", \"36\", \"37\", \"38\"], \"mode\": \"lines\", \"name\": \"accuracy_max\", \"stepped\": true, \"type\": \"scatter\", \"data\": [0.8092592592592592, 0.8092592592592592, 0.8092592592592592, 0.8092592592592592, 0.8092592592592592, 0.8193939393939395, 0.8393265993265994, 0.8393265993265994, 0.8393265993265994, 0.8393265993265994, 0.8393265993265994, 0.8393265993265994, 0.8393265993265994, 0.8393265993265994, 0.8460942760942761, 0.8460942760942761, 0.8460942760942761, 0.8460942760942761, 0.8460942760942761, 0.8628619528619529]}], \"norm_macro_recall\": [{\"categories\": [\"0\", \"2\", \"7\", \"16\", \"20\", \"22\", \"24\", \"25\", \"27\", \"28\", \"29\", \"30\", \"31\", \"32\", \"33\", \"34\", \"35\", \"36\", \"37\", \"38\"], \"mode\": \"markers\", \"name\": \"norm_macro_recall\", \"stepped\": false, \"type\": \"scatter\", \"data\": [0.5463502911778774, 0.5810076085938155, 0.43802817595921045, 0.27672697327869744, 0.5329625191694157, 0.5482778344847311, 0.6151762600038462, 0.5996577858646824, 0.540355626562523, 0.6185737461599531, 0.5969289486530865, 0.43126969333865883, 0.5855663545318718, 0.5885323747392712, 0.5907661355937217, 0.5311380345863105, 0.5959111821180786, 0.5908090356366218, 0.5945753635408808, 0.6485293174948347]}, {\"categories\": [\"0\", \"2\", \"7\", \"16\", \"20\", \"22\", \"24\", \"25\", \"27\", \"28\", \"29\", \"30\", \"31\", \"32\", \"33\", \"34\", \"35\", \"36\", \"37\", \"38\"], \"mode\": \"lines\", \"name\": \"norm_macro_recall_max\", \"stepped\": true, \"type\": \"scatter\", \"data\": [0.5463502911778774, 0.5810076085938155, 0.5810076085938155, 0.5810076085938155, 0.5810076085938155, 0.5810076085938155, 0.6151762600038462, 0.6151762600038462, 0.6151762600038462, 0.6185737461599531, 0.6185737461599531, 0.6185737461599531, 0.6185737461599531, 0.6185737461599531, 0.6185737461599531, 0.6185737461599531, 0.6185737461599531, 0.6185737461599531, 0.6185737461599531, 0.6485293174948347]}], \"average_precision_score_macro\": [{\"categories\": [\"0\", \"2\", \"7\", \"16\", \"20\", \"22\", \"24\", \"25\", \"27\", \"28\", \"29\", \"30\", \"31\", \"32\", \"33\", \"34\", \"35\", \"36\", \"37\", \"38\"], \"mode\": \"markers\", \"name\": \"average_precision_score_macro\", \"stepped\": false, \"type\": \"scatter\", \"data\": [0.8418072253597559, 0.8378516220550182, 0.845933093915936, 0.7429084121107014, 0.8349509526139521, 0.8406562892289031, 0.8727654350564943, 0.861655132651871, 0.8488388811378194, 0.8583300067873468, 0.8554717909259048, 0.8206721522626671, 0.8719240029524175, 0.8647234403202947, 0.8426884617068825, 0.8470215590588955, 0.8670760019158186, 0.8502408334630273, 0.8743835092826142, 0.866935394557526]}, {\"categories\": [\"0\", \"2\", \"7\", \"16\", \"20\", \"22\", \"24\", \"25\", \"27\", \"28\", \"29\", \"30\", \"31\", \"32\", \"33\", \"34\", \"35\", \"36\", \"37\", \"38\"], \"mode\": \"lines\", \"name\": \"average_precision_score_macro_max\", \"stepped\": true, \"type\": \"scatter\", \"data\": [0.8418072253597559, 0.8418072253597559, 0.845933093915936, 0.845933093915936, 0.845933093915936, 0.845933093915936, 0.8727654350564943, 0.8727654350564943, 0.8727654350564943, 0.8727654350564943, 0.8727654350564943, 0.8727654350564943, 0.8727654350564943, 0.8727654350564943, 0.8727654350564943, 0.8727654350564943, 0.8727654350564943, 0.8727654350564943, 0.8743835092826142, 0.8743835092826142]}], \"recall_score_macro\": [{\"categories\": [\"0\", \"2\", \"7\", \"16\", \"20\", \"22\", \"24\", \"25\", \"27\", \"28\", \"29\", \"30\", \"31\", \"32\", \"33\", \"34\", \"35\", \"36\", \"37\", \"38\"], \"mode\": \"markers\", \"name\": \"recall_score_macro\", \"stepped\": false, \"type\": \"scatter\", \"data\": [0.7731751455889387, 0.7905038042969078, 0.7190140879796053, 0.6383634866393487, 0.7664812595847078, 0.7741389172423655, 0.807588130001923, 0.7998288929323412, 0.7701778132812617, 0.8092868730799765, 0.7984644743265433, 0.7156348466693294, 0.7927831772659358, 0.7942661873696357, 0.7953830677968609, 0.7655690172931552, 0.7979555910590393, 0.7954045178183109, 0.7972876817704404, 0.8242646587474174]}, {\"categories\": [\"0\", \"2\", \"7\", \"16\", \"20\", \"22\", \"24\", \"25\", \"27\", \"28\", \"29\", \"30\", \"31\", \"32\", \"33\", \"34\", \"35\", \"36\", \"37\", \"38\"], \"mode\": \"lines\", \"name\": \"recall_score_macro_max\", \"stepped\": true, \"type\": \"scatter\", \"data\": [0.7731751455889387, 0.7905038042969078, 0.7905038042969078, 0.7905038042969078, 0.7905038042969078, 0.7905038042969078, 0.807588130001923, 0.807588130001923, 0.807588130001923, 0.8092868730799765, 0.8092868730799765, 0.8092868730799765, 0.8092868730799765, 0.8092868730799765, 0.8092868730799765, 0.8092868730799765, 0.8092868730799765, 0.8092868730799765, 0.8092868730799765, 0.8242646587474174]}], \"log_loss\": [{\"categories\": [\"0\", \"2\", \"7\", \"16\", \"20\", \"22\", \"24\", \"25\", \"27\", \"28\", \"29\", \"30\", \"31\", \"32\", \"33\", \"34\", \"35\", \"36\", \"37\", \"38\"], \"mode\": \"markers\", \"name\": \"log_loss\", \"stepped\": false, \"type\": \"scatter\", \"data\": [0.5646708972227602, 0.5509067144830646, 0.48926447475649254, 0.658877554951693, 0.47948498747055535, 0.43588008721539784, 0.40044131224865337, 0.4128737414359049, 0.47443410798041435, 0.4187506312223379, 0.4330303756806799, 0.5106786430112519, 0.4013606526855662, 0.40745657680760544, 0.4256693562566108, 0.6317457109888531, 0.6889271723837885, 0.5046700646992209, 0.40481356146389064, 0.41245366816962]}, {\"categories\": [\"0\", \"2\", \"7\", \"16\", \"20\", \"22\", \"24\", \"25\", \"27\", \"28\", \"29\", \"30\", \"31\", \"32\", \"33\", \"34\", \"35\", \"36\", \"37\", \"38\"], \"mode\": \"lines\", \"name\": \"log_loss_min\", \"stepped\": true, \"type\": \"scatter\", \"data\": [0.5646708972227602, 0.5509067144830646, 0.48926447475649254, 0.48926447475649254, 0.47948498747055535, 0.43588008721539784, 0.40044131224865337, 0.40044131224865337, 0.40044131224865337, 0.40044131224865337, 0.40044131224865337, 0.40044131224865337, 0.40044131224865337, 0.40044131224865337, 0.40044131224865337, 0.40044131224865337, 0.40044131224865337, 0.40044131224865337, 0.40044131224865337, 0.40044131224865337]}], \"matthews_correlation\": [{\"categories\": [\"0\", \"2\", \"7\", \"16\", \"20\", \"22\", \"24\", \"25\", \"27\", \"28\", \"29\", \"30\", \"31\", \"32\", \"33\", \"34\", \"35\", \"36\", \"37\", \"38\"], \"mode\": \"markers\", \"name\": \"matthews_correlation\", \"stepped\": false, \"type\": \"scatter\", \"data\": [0.5599809494302588, 0.5788019721731704, 0.5147707612385117, 0.3583389725951234, 0.5498460219699872, 0.577806751558133, 0.6281144802191004, 0.6132071777378456, 0.5573558503125343, 0.6239155874849939, 0.605536307644224, 0.48161661672376493, 0.5956238943198228, 0.6072506880632881, 0.6390225537155206, 0.5513068374618857, 0.6216131173199912, 0.6110568359603573, 0.6065479118570777, 0.6875245295517036]}, {\"categories\": [\"0\", \"2\", \"7\", \"16\", \"20\", \"22\", \"24\", \"25\", \"27\", \"28\", \"29\", \"30\", \"31\", \"32\", \"33\", \"34\", \"35\", \"36\", \"37\", \"38\"], \"mode\": \"lines\", \"name\": \"matthews_correlation_max\", \"stepped\": true, \"type\": \"scatter\", \"data\": [0.5599809494302588, 0.5788019721731704, 0.5788019721731704, 0.5788019721731704, 0.5788019721731704, 0.5788019721731704, 0.6281144802191004, 0.6281144802191004, 0.6281144802191004, 0.6281144802191004, 0.6281144802191004, 0.6281144802191004, 0.6281144802191004, 0.6281144802191004, 0.6390225537155206, 0.6390225537155206, 0.6390225537155206, 0.6390225537155206, 0.6390225537155206, 0.6875245295517036]}], \"weighted_accuracy\": [{\"categories\": [\"0\", \"2\", \"7\", \"16\", \"20\", \"22\", \"24\", \"25\", \"27\", \"28\", \"29\", \"30\", \"31\", \"32\", \"33\", \"34\", \"35\", \"36\", \"37\", \"38\"], \"mode\": \"markers\", \"name\": \"weighted_accuracy\", \"stepped\": false, \"type\": \"scatter\", \"data\": [0.8375149892175466, 0.8245658161221443, 0.8601541891464469, 0.8212400378713788, 0.8309758030835693, 0.8548051744703503, 0.8639804114363132, 0.8528669978082735, 0.8344475526010017, 0.8571280634838265, 0.8369646511896557, 0.8327848041651217, 0.8412220742410699, 0.8569259452907261, 0.8853106726870132, 0.8374134295874277, 0.8661394361488636, 0.8616583053481058, 0.8434085203541851, 0.8936324717127851]}, {\"categories\": [\"0\", \"2\", \"7\", \"16\", \"20\", \"22\", \"24\", \"25\", \"27\", \"28\", \"29\", \"30\", \"31\", \"32\", \"33\", \"34\", \"35\", \"36\", \"37\", \"38\"], \"mode\": \"lines\", \"name\": \"weighted_accuracy_max\", \"stepped\": true, \"type\": \"scatter\", \"data\": [0.8375149892175466, 0.8375149892175466, 0.8601541891464469, 0.8601541891464469, 0.8601541891464469, 0.8601541891464469, 0.8639804114363132, 0.8639804114363132, 0.8639804114363132, 0.8639804114363132, 0.8639804114363132, 0.8639804114363132, 0.8639804114363132, 0.8639804114363132, 0.8853106726870132, 0.8853106726870132, 0.8853106726870132, 0.8853106726870132, 0.8853106726870132, 0.8936324717127851]}], \"average_precision_score_micro\": [{\"categories\": [\"0\", \"2\", \"7\", \"16\", \"20\", \"22\", \"24\", \"25\", \"27\", \"28\", \"29\", \"30\", \"31\", \"32\", \"33\", \"34\", \"35\", \"36\", \"37\", \"38\"], \"mode\": \"markers\", \"name\": \"average_precision_score_micro\", \"stepped\": false, \"type\": \"scatter\", \"data\": [0.8778369826502578, 0.8618243702667686, 0.8684936921823403, 0.7996509217195085, 0.869663552919974, 0.8805949712273672, 0.9080469256884536, 0.8914376642986293, 0.8867909288722874, 0.8908802963639674, 0.8851335320109225, 0.8475057042085753, 0.9015170034888998, 0.9014494949390081, 0.8742334819533818, 0.8868871260880024, 0.895277426024731, 0.89211439091947, 0.9028204059565651, 0.8958187795469623]}, {\"categories\": [\"0\", \"2\", \"7\", \"16\", \"20\", \"22\", \"24\", \"25\", \"27\", \"28\", \"29\", \"30\", \"31\", \"32\", \"33\", \"34\", \"35\", \"36\", \"37\", \"38\"], \"mode\": \"lines\", \"name\": \"average_precision_score_micro_max\", \"stepped\": true, \"type\": \"scatter\", \"data\": [0.8778369826502578, 0.8778369826502578, 0.8778369826502578, 0.8778369826502578, 0.8778369826502578, 0.8805949712273672, 0.9080469256884536, 0.9080469256884536, 0.9080469256884536, 0.9080469256884536, 0.9080469256884536, 0.9080469256884536, 0.9080469256884536, 0.9080469256884536, 0.9080469256884536, 0.9080469256884536, 0.9080469256884536, 0.9080469256884536, 0.9080469256884536, 0.9080469256884536]}], \"recall_score_weighted\": [{\"categories\": [\"0\", \"2\", \"7\", \"16\", \"20\", \"22\", \"24\", \"25\", \"27\", \"28\", \"29\", \"30\", \"31\", \"32\", \"33\", \"34\", \"35\", \"36\", \"37\", \"38\"], \"mode\": \"markers\", \"name\": \"recall_score_weighted\", \"stepped\": false, \"type\": \"scatter\", \"data\": [0.8092592592592592, 0.8091245791245791, 0.7992929292929292, 0.7425252525252525, 0.8024915824915825, 0.8193939393939395, 0.8393265993265994, 0.8293265993265994, 0.8059259259259259, 0.836026936026936, 0.8192255892255892, 0.7827272727272727, 0.8192929292929293, 0.8292929292929294, 0.8460942760942761, 0.8058585858585859, 0.835993265993266, 0.8326599326599325, 0.8225252525252525, 0.8628619528619529]}, {\"categories\": [\"0\", \"2\", \"7\", \"16\", \"20\", \"22\", \"24\", \"25\", \"27\", \"28\", \"29\", \"30\", \"31\", \"32\", \"33\", \"34\", \"35\", \"36\", \"37\", \"38\"], \"mode\": \"lines\", \"name\": \"recall_score_weighted_max\", \"stepped\": true, \"type\": \"scatter\", \"data\": [0.8092592592592592, 0.8092592592592592, 0.8092592592592592, 0.8092592592592592, 0.8092592592592592, 0.8193939393939395, 0.8393265993265994, 0.8393265993265994, 0.8393265993265994, 0.8393265993265994, 0.8393265993265994, 0.8393265993265994, 0.8393265993265994, 0.8393265993265994, 0.8460942760942761, 0.8460942760942761, 0.8460942760942761, 0.8460942760942761, 0.8460942760942761, 0.8628619528619529]}], \"f1_score_micro\": [{\"categories\": [\"0\", \"2\", \"7\", \"16\", \"20\", \"22\", \"24\", \"25\", \"27\", \"28\", \"29\", \"30\", \"31\", \"32\", \"33\", \"34\", \"35\", \"36\", \"37\", \"38\"], \"mode\": \"markers\", \"name\": \"f1_score_micro\", \"stepped\": false, \"type\": \"scatter\", \"data\": [0.8092592592592593, 0.8091245791245791, 0.7992929292929292, 0.7425252525252525, 0.8024915824915825, 0.8193939393939393, 0.8393265993265993, 0.8293265993265994, 0.8059259259259259, 0.836026936026936, 0.8192255892255892, 0.7827272727272727, 0.8192929292929293, 0.8292929292929294, 0.8460942760942761, 0.8058585858585859, 0.835993265993266, 0.8326599326599325, 0.8225252525252525, 0.8628619528619529]}, {\"categories\": [\"0\", \"2\", \"7\", \"16\", \"20\", \"22\", \"24\", \"25\", \"27\", \"28\", \"29\", \"30\", \"31\", \"32\", \"33\", \"34\", \"35\", \"36\", \"37\", \"38\"], \"mode\": \"lines\", \"name\": \"f1_score_micro_max\", \"stepped\": true, \"type\": \"scatter\", \"data\": [0.8092592592592593, 0.8092592592592593, 0.8092592592592593, 0.8092592592592593, 0.8092592592592593, 0.8193939393939393, 0.8393265993265993, 0.8393265993265993, 0.8393265993265993, 0.8393265993265993, 0.8393265993265993, 0.8393265993265993, 0.8393265993265993, 0.8393265993265993, 0.8460942760942761, 0.8460942760942761, 0.8460942760942761, 0.8460942760942761, 0.8460942760942761, 0.8628619528619529]}]}, \"metricName\": null, \"primaryMetricName\": \"accuracy\", \"showLegend\": false}, \"run_metrics\": [{\"name\": \"experiment_status\", \"run_id\": \"AutoML_bce1af5e-626e-4799-9e6d-086334a99398\", \"categories\": [0, 1, 2, 3, 4, 5, 6, 7, 8, 9, 10, 11, 12, 13], \"series\": [{\"data\": [\"DatasetEvaluation\", \"FeaturesGeneration\", \"DatasetFeaturization\", \"DatasetFeaturizationCompleted\", \"DatasetCrossValidationSplit\", \"ModelSelection\", \"BestRunExplainModel\", \"ModelExplanationDataSetSetup\", \"PickSurrogateModel\", \"EngineeredFeatureExplanations\", \"EngineeredFeatureExplanations\", \"RawFeaturesExplanations\", \"RawFeaturesExplanations\", \"BestRunExplainModel\"]}]}, {\"name\": \"experiment_status_description\", \"run_id\": \"AutoML_bce1af5e-626e-4799-9e6d-086334a99398\", \"categories\": [0, 1, 2, 3, 4, 5, 6, 7, 8, 9, 10, 11, 12, 13], \"series\": [{\"data\": [\"Gathering dataset statistics.\", \"Generating features for the dataset.\", \"Beginning to fit featurizers and featurize the dataset.\", \"Completed fit featurizers and featurizing the dataset.\", \"Generating individually featurized CV splits.\", \"Beginning model selection.\", \"Best run model explanations started\", \"Model explanations data setup completed\", \"Choosing LightGBM as the surrogate model for explanations\", \"Computation of engineered features started\", \"Computation of engineered features completed\", \"Computation of raw features started\", \"Computation of raw features completed\", \"Best run model explanations completed\"]}]}, {\"name\": \"AUC_weighted\", \"run_id\": \"AutoML_bce1af5e-626e-4799-9e6d-086334a99398\", \"categories\": [0], \"series\": [{\"data\": [0.8856757742964639]}]}, {\"name\": \"precision_score_weighted\", \"run_id\": \"AutoML_bce1af5e-626e-4799-9e6d-086334a99398\", \"categories\": [0], \"series\": [{\"data\": [0.8720303965581744]}]}, {\"name\": \"average_precision_score_weighted\", \"run_id\": \"AutoML_bce1af5e-626e-4799-9e6d-086334a99398\", \"categories\": [0], \"series\": [{\"data\": [0.8925987834628714]}]}, {\"name\": \"accuracy\", \"run_id\": \"AutoML_bce1af5e-626e-4799-9e6d-086334a99398\", \"categories\": [0], \"series\": [{\"data\": [0.8628619528619529]}]}, {\"name\": \"matthews_correlation\", \"run_id\": \"AutoML_bce1af5e-626e-4799-9e6d-086334a99398\", \"categories\": [0], \"series\": [{\"data\": [0.6875245295517036]}]}, {\"name\": \"recall_score_micro\", \"run_id\": \"AutoML_bce1af5e-626e-4799-9e6d-086334a99398\", \"categories\": [0], \"series\": [{\"data\": [0.8628619528619529]}]}, {\"name\": \"f1_score_micro\", \"run_id\": \"AutoML_bce1af5e-626e-4799-9e6d-086334a99398\", \"categories\": [0], \"series\": [{\"data\": [0.8628619528619529]}]}, {\"name\": \"precision_score_macro\", \"run_id\": \"AutoML_bce1af5e-626e-4799-9e6d-086334a99398\", \"categories\": [0], \"series\": [{\"data\": [0.8668650793650793]}]}, {\"name\": \"average_precision_score_micro\", \"run_id\": \"AutoML_bce1af5e-626e-4799-9e6d-086334a99398\", \"categories\": [0], \"series\": [{\"data\": [0.8958187795469623]}]}, {\"name\": \"recall_score_macro\", \"run_id\": \"AutoML_bce1af5e-626e-4799-9e6d-086334a99398\", \"categories\": [0], \"series\": [{\"data\": [0.8242646587474174]}]}, {\"name\": \"f1_score_macro\", \"run_id\": \"AutoML_bce1af5e-626e-4799-9e6d-086334a99398\", \"categories\": [0], \"series\": [{\"data\": [0.8324552990045948]}]}, {\"name\": \"AUC_micro\", \"run_id\": \"AutoML_bce1af5e-626e-4799-9e6d-086334a99398\", \"categories\": [0], \"series\": [{\"data\": [0.8990235384144475]}]}, {\"name\": \"precision_score_micro\", \"run_id\": \"AutoML_bce1af5e-626e-4799-9e6d-086334a99398\", \"categories\": [0], \"series\": [{\"data\": [0.8628619528619529]}]}, {\"name\": \"AUC_macro\", \"run_id\": \"AutoML_bce1af5e-626e-4799-9e6d-086334a99398\", \"categories\": [0], \"series\": [{\"data\": [0.8856757742964639]}]}, {\"name\": \"average_precision_score_macro\", \"run_id\": \"AutoML_bce1af5e-626e-4799-9e6d-086334a99398\", \"categories\": [0], \"series\": [{\"data\": [0.866935394557526]}]}, {\"name\": \"f1_score_weighted\", \"run_id\": \"AutoML_bce1af5e-626e-4799-9e6d-086334a99398\", \"categories\": [0], \"series\": [{\"data\": [0.8566722844187633]}]}, {\"name\": \"weighted_accuracy\", \"run_id\": \"AutoML_bce1af5e-626e-4799-9e6d-086334a99398\", \"categories\": [0], \"series\": [{\"data\": [0.8936324717127851]}]}, {\"name\": \"log_loss\", \"run_id\": \"AutoML_bce1af5e-626e-4799-9e6d-086334a99398\", \"categories\": [0], \"series\": [{\"data\": [0.41245366816962]}]}, {\"name\": \"recall_score_weighted\", \"run_id\": \"AutoML_bce1af5e-626e-4799-9e6d-086334a99398\", \"categories\": [0], \"series\": [{\"data\": [0.8628619528619529]}]}, {\"name\": \"balanced_accuracy\", \"run_id\": \"AutoML_bce1af5e-626e-4799-9e6d-086334a99398\", \"categories\": [0], \"series\": [{\"data\": [0.8242646587474174]}]}, {\"name\": \"norm_macro_recall\", \"run_id\": \"AutoML_bce1af5e-626e-4799-9e6d-086334a99398\", \"categories\": [0], \"series\": [{\"data\": [0.6485293174948347]}]}], \"run_logs\": \"\\nRun is completed.\", \"graph\": {}, \"widget_settings\": {\"childWidgetDisplay\": \"popup\", \"send_telemetry\": false, \"log_level\": \"INFO\", \"sdk_version\": \"1.42.0\"}, \"loading\": false}"
          },
          "metadata": {}
        }
      ],
      "execution_count": 8,
      "metadata": {
        "gather": {
          "logged": 1659372104134
        },
        "jupyter": {
          "outputs_hidden": false,
          "source_hidden": false
        },
        "nteract": {
          "transient": {
            "deleting": false
          }
        },
        "vscode": {
          "languageId": "python"
        }
      }
    },
    {
      "cell_type": "code",
      "source": [
        "remote_run.wait_for_completion(show_output=True)"
      ],
      "outputs": [
        {
          "output_type": "display_data",
          "data": {
            "text/plain": "<IPython.core.display.HTML object>",
            "text/html": "<table style=\"width:100%\"><tr><th>Experiment</th><th>Id</th><th>Type</th><th>Status</th><th>Details Page</th><th>Docs Page</th></tr><tr><td>automl-heart-experiment</td><td>AutoML_bce1af5e-626e-4799-9e6d-086334a99398</td><td>automl</td><td>Completed</td><td><a href=\"https://ml.azure.com/runs/AutoML_bce1af5e-626e-4799-9e6d-086334a99398?wsid=/subscriptions/1b944a9b-fdae-4f97-aeb1-b7eea0beac53/resourcegroups/aml-quickstarts-202911/workspaces/quick-starts-ws-202911&amp;tid=660b3398-b80e-49d2-bc5b-ac1dc93b5254\" target=\"_blank\" rel=\"noopener\">Link to Azure Machine Learning studio</a></td><td><a href=\"https://docs.microsoft.com/en-us/python/api/overview/azure/ml/intro?view=azure-ml-py\" target=\"_blank\" rel=\"noopener\">Link to Documentation</a></td></tr></table>"
          },
          "metadata": {}
        },
        {
          "output_type": "stream",
          "name": "stdout",
          "text": "\n\n********************************************************************************************\nDATA GUARDRAILS: \n\nTYPE:         Class balancing detection\nSTATUS:       PASSED\nDESCRIPTION:  Your inputs were analyzed, and all classes are balanced in your training data.\n              Learn more about imbalanced data: https://aka.ms/AutomatedMLImbalancedData\n\n********************************************************************************************\n\nTYPE:         Missing feature values imputation\nSTATUS:       PASSED\nDESCRIPTION:  No feature missing values were detected in the training data.\n              Learn more about missing value imputation: https://aka.ms/AutomatedMLFeaturization\n\n********************************************************************************************\n\nTYPE:         High cardinality feature detection\nSTATUS:       PASSED\nDESCRIPTION:  Your inputs were analyzed, and no high cardinality features were detected.\n              Learn more about high cardinality feature handling: https://aka.ms/AutomatedMLFeaturization\n\n********************************************************************************************\n\n********************************************************************************************\nITER: The iteration being evaluated.\nPIPELINE: A summary description of the pipeline being evaluated.\nDURATION: Time taken for the current iteration.\nMETRIC: The result of computing score on the fitted pipeline.\nBEST: The best observed score thus far.\n********************************************************************************************\n\n ITER   PIPELINE                                       DURATION            METRIC      BEST\n    0   MaxAbsScaler LightGBM                          0:00:08             0.8093    0.8093\n    1   MaxAbsScaler XGBoostClassifier                 0:00:08             0.8227    0.8227\n    2   MaxAbsScaler ExtremeRandomTrees                0:00:08             0.8091    0.8227\n    3   SparseNormalizer XGBoostClassifier             0:00:07             0.7893    0.8227\n    4   StandardScalerWrapper KNN                      0:00:08             0.6087    0.8227\n    5   MaxAbsScaler LightGBM                          0:00:07             0.8428    0.8428\n    6   RobustScaler LogisticRegression                0:00:08             0.7758    0.8428\n    7   MaxAbsScaler LightGBM                          0:00:07             0.7993    0.8428\n   10   StandardScalerWrapper XGBoostClassifier        0:00:12             0.8326    0.8428\n   11   MinMaxScaler RandomForest                      0:00:13             0.8326    0.8428\n    8   StandardScalerWrapper KNN                      0:00:08             0.6053    0.8428\n    9   StandardScalerWrapper SVM                      0:00:12             0.7223    0.8428\n   12   StandardScalerWrapper LogisticRegression       0:00:12             0.7190    0.8428\n   13   StandardScalerWrapper KNN                      0:00:08             0.7125    0.8428\n   14   RobustScaler KNN                               0:00:12             0.7056    0.8428\n   15   MinMaxScaler KNN                               0:00:07             0.7057    0.8428\n   16   SparseNormalizer KNN                           0:00:12             0.7425    0.8428\n   17   MaxAbsScaler LogisticRegression                0:00:12             0.8193    0.8428\n   18   StandardScalerWrapper XGBoostClassifier        0:00:07             0.8294    0.8428\n   19   StandardScalerWrapper XGBoostClassifier        0:00:12             0.8193    0.8428\n   20   MaxAbsScaler LogisticRegression                0:00:20             0.8025    0.8428\n   21   StandardScalerWrapper XGBoostClassifier        0:01:14             0.8494    0.8494\n   22   SparseNormalizer RandomForest                  0:00:25             0.8194    0.8494\n   23   StandardScalerWrapper RandomForest             0:00:25             0.8093    0.8494\n   24   StandardScalerWrapper XGBoostClassifier        0:00:25             0.8393    0.8494\n   25   RobustScaler LightGBM                          0:00:20             0.8293    0.8494\n   26   MinMaxScaler LightGBM                          0:00:20             0.8260    0.8494\n   27   SparseNormalizer XGBoostClassifier             0:00:19             0.8059    0.8494\n   28   RobustScaler LightGBM                          0:00:22             0.8360    0.8494\n   29   MinMaxScaler RandomForest                      0:00:20             0.8192    0.8494\n   30   SparseNormalizer XGBoostClassifier             0:00:20             0.7827    0.8494\n   31   RobustScaler RandomForest                      0:00:25             0.8193    0.8494\n   32   StandardScalerWrapper XGBoostClassifier        0:00:24             0.8293    0.8494\n   33   StandardScalerWrapper XGBoostClassifier        0:00:19             0.8461    0.8494\n   34   StandardScalerWrapper RandomForest             0:00:24             0.8059    0.8494\n   35   StandardScalerWrapper XGBoostClassifier        0:00:20             0.8360    0.8494\n   36   StandardScalerWrapper XGBoostClassifier        0:00:24             0.8327    0.8494\n   37   MinMaxScaler RandomForest                      0:00:24             0.8225    0.8494\n   38    VotingEnsemble                                0:00:34             0.8629    0.8629\n   39    StackEnsemble                                 0:00:35             0.8192    0.8629\n"
        },
        {
          "output_type": "execute_result",
          "execution_count": 9,
          "data": {
            "text/plain": "{'runId': 'AutoML_bce1af5e-626e-4799-9e6d-086334a99398',\n 'target': 'auto-ml',\n 'status': 'Completed',\n 'startTimeUtc': '2022-08-01T16:29:03.266158Z',\n 'endTimeUtc': '2022-08-01T16:41:18.052039Z',\n 'services': {},\n 'properties': {'num_iterations': '40',\n  'training_type': 'TrainFull',\n  'acquisition_function': 'EI',\n  'primary_metric': 'accuracy',\n  'train_split': '0',\n  'acquisition_parameter': '0',\n  'num_cross_validation': '3',\n  'target': 'auto-ml',\n  'AMLSettingsJsonString': '{\"path\":null,\"name\":\"automl-heart-experiment\",\"subscription_id\":\"1b944a9b-fdae-4f97-aeb1-b7eea0beac53\",\"resource_group\":\"aml-quickstarts-202911\",\"workspace_name\":\"quick-starts-ws-202911\",\"region\":\"southcentralus\",\"compute_target\":\"auto-ml\",\"spark_service\":null,\"azure_service\":\"remote\",\"many_models\":false,\"pipeline_fetch_max_batch_size\":1,\"enable_batch_run\":true,\"enable_run_restructure\":false,\"start_auxiliary_runs_before_parent_complete\":false,\"enable_code_generation\":true,\"iterations\":40,\"primary_metric\":\"accuracy\",\"task_type\":\"classification\",\"positive_label\":null,\"data_script\":null,\"test_size\":0.0,\"test_include_predictions_only\":false,\"validation_size\":0.0,\"n_cross_validations\":3,\"y_min\":null,\"y_max\":null,\"num_classes\":null,\"featurization\":\"auto\",\"_ignore_package_version_incompatibilities\":false,\"is_timeseries\":false,\"max_cores_per_iteration\":1,\"max_concurrent_iterations\":4,\"iteration_timeout_minutes\":null,\"mem_in_mb\":null,\"enforce_time_on_windows\":false,\"experiment_timeout_minutes\":15,\"experiment_exit_score\":null,\"partition_column_names\":null,\"whitelist_models\":null,\"blacklist_algos\":[\"TensorFlowLinearClassifier\",\"TensorFlowDNN\"],\"supported_models\":[\"LinearSVM\",\"AveragedPerceptronClassifier\",\"ExtremeRandomTrees\",\"MultinomialNaiveBayes\",\"SGD\",\"SVM\",\"TensorFlowDNN\",\"BernoulliNaiveBayes\",\"LogisticRegression\",\"KNN\",\"GradientBoosting\",\"TabnetClassifier\",\"RandomForest\",\"TensorFlowLinearClassifier\",\"XGBoostClassifier\",\"LightGBM\",\"DecisionTree\"],\"private_models\":[],\"auto_blacklist\":true,\"blacklist_samples_reached\":false,\"exclude_nan_labels\":true,\"verbosity\":20,\"_debug_log\":\"azureml_automl.log\",\"show_warnings\":false,\"model_explainability\":true,\"service_url\":null,\"sdk_url\":null,\"sdk_packages\":null,\"enable_onnx_compatible_models\":false,\"enable_split_onnx_featurizer_estimator_models\":false,\"vm_type\":\"STANDARD_DS12_V2\",\"telemetry_verbosity\":20,\"send_telemetry\":true,\"enable_dnn\":false,\"scenario\":\"SDK-1.13.0\",\"environment_label\":null,\"save_mlflow\":false,\"enable_categorical_indicators\":false,\"force_text_dnn\":false,\"enable_feature_sweeping\":true,\"enable_early_stopping\":true,\"early_stopping_n_iters\":10,\"arguments\":null,\"dataset_id\":\"18482520-b0ea-4fca-94e6-5d00fcfff885\",\"hyperdrive_config\":null,\"validation_dataset_id\":null,\"run_source\":null,\"metrics\":null,\"enable_metric_confidence\":false,\"enable_ensembling\":true,\"enable_stack_ensembling\":true,\"ensemble_iterations\":15,\"enable_tf\":false,\"enable_subsampling\":false,\"subsample_seed\":null,\"enable_nimbusml\":false,\"enable_streaming\":false,\"force_streaming\":false,\"track_child_runs\":true,\"allowed_private_models\":[],\"label_column_name\":\"DEATH_EVENT\",\"weight_column_name\":null,\"cv_split_column_names\":null,\"enable_local_managed\":false,\"_local_managed_run_id\":null,\"cost_mode\":1,\"lag_length\":0,\"metric_operation\":\"maximize\",\"preprocess\":true}',\n  'DataPrepJsonString': '{\\\\\"training_data\\\\\": {\\\\\"datasetId\\\\\": \\\\\"18482520-b0ea-4fca-94e6-5d00fcfff885\\\\\"}, \\\\\"datasets\\\\\": 0}',\n  'EnableSubsampling': 'False',\n  'runTemplate': 'AutoML',\n  'azureml.runsource': 'automl',\n  'display_task_type': 'classification',\n  'dependencies_versions': '{\"azureml-widgets\": \"1.42.0\", \"azureml-training-tabular\": \"1.42.0\", \"azureml-train\": \"1.42.0\", \"azureml-train-restclients-hyperdrive\": \"1.42.0\", \"azureml-train-core\": \"1.42.0\", \"azureml-train-automl\": \"1.42.0\", \"azureml-train-automl-runtime\": \"1.42.0\", \"azureml-train-automl-client\": \"1.42.0\", \"azureml-tensorboard\": \"1.42.0\", \"azureml-telemetry\": \"1.42.0\", \"azureml-sdk\": \"1.42.0\", \"azureml-samples\": \"0+unknown\", \"azureml-responsibleai\": \"1.42.0\", \"azureml-pipeline\": \"1.42.0\", \"azureml-pipeline-steps\": \"1.42.0\", \"azureml-pipeline-core\": \"1.42.0\", \"azureml-opendatasets\": \"1.42.0\", \"azureml-mlflow\": \"1.42.0\", \"azureml-interpret\": \"1.42.0\", \"azureml-inference-server-http\": \"0.4.13\", \"azureml-explain-model\": \"1.42.0\", \"azureml-defaults\": \"1.42.0\", \"azureml-dataset-runtime\": \"1.42.0\", \"azureml-dataprep\": \"4.0.1\", \"azureml-dataprep-rslex\": \"2.6.1\", \"azureml-dataprep-native\": \"38.0.0\", \"azureml-datadrift\": \"1.42.0\", \"azureml-core\": \"1.42.0\", \"azureml-contrib-services\": \"1.42.0\", \"azureml-contrib-server\": \"1.42.0\", \"azureml-contrib-reinforcementlearning\": \"1.42.0\", \"azureml-contrib-pipeline-steps\": \"1.42.0\", \"azureml-contrib-notebook\": \"1.42.0\", \"azureml-contrib-fairness\": \"1.42.0\", \"azureml-contrib-dataset\": \"1.42.0\", \"azureml-contrib-automl-pipeline-steps\": \"1.42.0\", \"azureml-cli-common\": \"1.42.0\", \"azureml-automl-runtime\": \"1.42.0\", \"azureml-automl-dnn-nlp\": \"1.42.0\", \"azureml-automl-core\": \"1.42.0\", \"azureml-accel-models\": \"1.42.0\"}',\n  '_aml_system_scenario_identification': 'Remote.Parent',\n  'ClientType': 'SDK',\n  'environment_cpu_name': 'AzureML-AutoML',\n  'environment_cpu_label': 'prod',\n  'environment_gpu_name': 'AzureML-AutoML-GPU',\n  'environment_gpu_label': 'prod',\n  'root_attribution': 'automl',\n  'attribution': 'AutoML',\n  'Orchestrator': 'AutoML',\n  'CancelUri': 'https://southcentralus.api.azureml.ms/jasmine/v1.0/subscriptions/1b944a9b-fdae-4f97-aeb1-b7eea0beac53/resourceGroups/aml-quickstarts-202911/providers/Microsoft.MachineLearningServices/workspaces/quick-starts-ws-202911/experimentids/ba349e4f-3b59-4c47-b4ca-4e096c20e139/cancel/AutoML_bce1af5e-626e-4799-9e6d-086334a99398',\n  'ClientSdkVersion': '1.43.0.post1',\n  'snapshotId': '00000000-0000-0000-0000-000000000000',\n  'SetupRunId': 'AutoML_bce1af5e-626e-4799-9e6d-086334a99398_setup',\n  'SetupRunContainerId': 'dcid.AutoML_bce1af5e-626e-4799-9e6d-086334a99398_setup',\n  'FeaturizationRunJsonPath': 'featurizer_container.json',\n  'FeaturizationRunId': 'AutoML_bce1af5e-626e-4799-9e6d-086334a99398_featurize',\n  'ProblemInfoJsonString': '{\"dataset_num_categorical\": 0, \"is_sparse\": false, \"subsampling\": false, \"has_extra_col\": true, \"dataset_classes\": 2, \"dataset_features\": 12, \"dataset_samples\": 299, \"single_frequency_class_detected\": false}',\n  'ModelExplainRunId': 'AutoML_bce1af5e-626e-4799-9e6d-086334a99398_ModelExplain'},\n 'inputDatasets': [{'dataset': {'id': '18482520-b0ea-4fca-94e6-5d00fcfff885'}, 'consumptionDetails': {'type': 'RunInput', 'inputName': 'training_data', 'mechanism': 'Direct'}}],\n 'outputDatasets': [{'identifier': {'savedId': '715ef861-213a-4ab0-8a6a-d0416b262b7f'},\n   'outputType': 'RunOutput',\n   'outputDetails': {'outputName': 'full_training_dataset'},\n   'dataset': {\n     \"source\": [\n       \"('workspaceartifactstore', 'ExperimentRun/dcid.AutoML_bce1af5e-626e-4799-9e6d-086334a99398/outputs/featurization/data/full_training_dataset.df.parquet')\"\n     ],\n     \"definition\": [\n       \"GetDatastoreFiles\",\n       \"ReadParquetFile\",\n       \"DropColumns\"\n     ],\n     \"registration\": {\n       \"id\": \"715ef861-213a-4ab0-8a6a-d0416b262b7f\",\n       \"name\": null,\n       \"version\": null,\n       \"workspace\": \"Workspace.create(name='quick-starts-ws-202911', subscription_id='1b944a9b-fdae-4f97-aeb1-b7eea0beac53', resource_group='aml-quickstarts-202911')\"\n     }\n   }}],\n 'logFiles': {},\n 'submittedBy': 'ODL_User 202911'}"
          },
          "metadata": {}
        }
      ],
      "execution_count": 9,
      "metadata": {
        "vscode": {
          "languageId": "python"
        },
        "gather": {
          "logged": 1659372308511
        }
      }
    },
    {
      "cell_type": "markdown",
      "source": [
        "## Best Model"
      ],
      "metadata": {}
    },
    {
      "cell_type": "code",
      "source": [
        "best_run, fitted_model = remote_run.get_output()"
      ],
      "outputs": [
        {
          "output_type": "stream",
          "name": "stderr",
          "text": "WARNING:root:The version of the SDK does not match the version the model was trained on.\nWARNING:root:The consistency in the result may not be guaranteed.\nWARNING:root:Package:azureml-automl-core, training version:1.43.0.post2, current version:1.42.0\nPackage:azureml-automl-runtime, training version:1.43.0, current version:1.42.0\nPackage:azureml-core, training version:1.43.0, current version:1.42.0\nPackage:azureml-dataset-runtime, training version:1.43.0, current version:1.42.0\nPackage:azureml-defaults, training version:1.43.0, current version:1.42.0\nPackage:azureml-interpret, training version:1.43.0, current version:1.42.0\nPackage:azureml-mlflow, training version:1.43.0.post1, current version:1.42.0\nPackage:azureml-pipeline-core, training version:1.43.0, current version:1.42.0\nPackage:azureml-responsibleai, training version:1.43.0, current version:1.42.0\nPackage:azureml-telemetry, training version:1.43.0, current version:1.42.0\nPackage:azureml-train-automl-client, training version:1.43.0, current version:1.42.0\nPackage:azureml-train-automl-runtime, training version:1.43.0.post1, current version:1.42.0\nPackage:azureml-train-core, training version:1.43.0, current version:1.42.0\nPackage:azureml-train-restclients-hyperdrive, training version:1.43.0, current version:1.42.0\nPackage:azureml-training-tabular, training version:1.43.0, current version:1.42.0\nWARNING:root:Please ensure the version of your local conda dependencies match the version on which your model was trained in order to properly retrieve your model.\n"
        }
      ],
      "execution_count": 17,
      "metadata": {
        "gather": {
          "logged": 1659372335194
        },
        "jupyter": {
          "outputs_hidden": false,
          "source_hidden": false
        },
        "nteract": {
          "transient": {
            "deleting": false
          }
        },
        "vscode": {
          "languageId": "python"
        }
      }
    },
    {
      "cell_type": "code",
      "source": [
        "best_metrics = best_run.get_metrics()\n",
        "print(f\"Best Run Id: {best_run.id}\", \n",
        "      f\"Accuracy: {best_metrics['accuracy']}\",\n",
        "      f\"Best Metrics: {best_metrics}\",\n",
        "      f\"Best Model: {fitted_model}\")\n"
      ],
      "outputs": [
        {
          "output_type": "stream",
          "name": "stdout",
          "text": "Best Run Id: AutoML_bce1af5e-626e-4799-9e6d-086334a99398_38 Accuracy: 0.8628619528619529 Best Metrics: {'balanced_accuracy': 0.8242646587474174, 'norm_macro_recall': 0.6485293174948347, 'weighted_accuracy': 0.8936324717127851, 'AUC_macro': 0.8856757742964639, 'f1_score_weighted': 0.8566722844187633, 'average_precision_score_macro': 0.866935394557526, 'precision_score_micro': 0.8628619528619529, 'recall_score_weighted': 0.8628619528619529, 'recall_score_macro': 0.8242646587474174, 'AUC_micro': 0.8990235384144475, 'matthews_correlation': 0.6875245295517036, 'f1_score_micro': 0.8628619528619529, 'average_precision_score_micro': 0.8958187795469623, 'precision_score_weighted': 0.8720303965581744, 'f1_score_macro': 0.8324552990045948, 'precision_score_macro': 0.8668650793650793, 'AUC_weighted': 0.8856757742964639, 'accuracy': 0.8628619528619529, 'recall_score_micro': 0.8628619528619529, 'log_loss': 0.41245366816962, 'average_precision_score_weighted': 0.8925987834628714, 'accuracy_table': 'aml://artifactId/ExperimentRun/dcid.AutoML_bce1af5e-626e-4799-9e6d-086334a99398_38/accuracy_table', 'confusion_matrix': 'aml://artifactId/ExperimentRun/dcid.AutoML_bce1af5e-626e-4799-9e6d-086334a99398_38/confusion_matrix'} Best Model: Pipeline(memory=None,\n         steps=[('datatransformer',\n                 DataTransformer(enable_dnn=False, enable_feature_sweeping=True, feature_sweeping_config={}, feature_sweeping_timeout=86400, featurization_config=None, force_text_dnn=False, is_cross_validation=True, is_onnx_compatible=False, observer=None, task='classification', working_dir='/mnt/batch/tasks/shared/LS_root/mount...\n                 PreFittedSoftVotingClassifier(classification_labels=array([0, 1]), estimators=[('21', Pipeline(memory=None, steps=[('standardscalerwrapper', StandardScalerWrapper(copy=True, with_mean=False, with_std=False)), ('xgboostclassifier', XGBoostClassifier(booster='gbtree', colsample_bytree=1, eta=0.3, gamma=0, max_depth=10, max_leaves=511, n_estimators=10, n_jobs=1, objective='reg:logistic', problem_info=ProblemInfo(gpu_training_param_dict={'processing_unit_type': 'cpu'}), random_state=0, reg_alpha=2.1875, reg_lambda=0.4166666666666667, subsample=0.5, tree_method='auto'))], verbose=False)), ('33', Pipeline(memory=None, steps=[('standardscalerwrapper', StandardScalerWrapper(copy=True, with_mean=False, with_std=False)), ('xgboostclassifier', XGBoostClassifier(booster='gbtree', colsample_bytree=0.9, eta=0.3, gamma=10, max_depth=8, max_leaves=127, n_estimators=100, n_jobs=1, objective='reg:logistic', problem_info=ProblemInfo(gpu_training_param_dict={'processing_unit_type': 'cpu'}), random_state=0, reg_alpha=0, reg_lambda=2.3958333333333335, subsample=0.5, tree_method='auto'))], verbose=False)), ('5', Pipeline(memory=None, steps=[('maxabsscaler', MaxAbsScaler(copy=True)), ('lightgbmclassifier', LightGBMClassifier(boosting_type='gbdt', colsample_bytree=0.6933333333333332, learning_rate=0.09473736842105263, max_bin=110, max_depth=8, min_child_weight=6, min_data_in_leaf=0.003457931034482759, min_split_gain=1, n_estimators=25, n_jobs=1, num_leaves=227, problem_info=ProblemInfo(gpu_training_param_dict={'processing_unit_type': 'cpu'}), random_state=None, reg_alpha=0.9473684210526315, reg_lambda=0.42105263157894735, subsample=0.49526315789473685))], verbose=False)), ('24', Pipeline(memory=None, steps=[('standardscalerwrapper', StandardScalerWrapper(copy=True, with_mean=False, with_std=False)), ('xgboostclassifier', XGBoostClassifier(booster='gbtree', colsample_bytree=0.7, eta=0.1, gamma=0.1, max_depth=9, max_leaves=511, n_estimators=25, n_jobs=1, objective='reg:logistic', problem_info=ProblemInfo(gpu_training_param_dict={'processing_unit_type': 'cpu'}), random_state=0, reg_alpha=0, reg_lambda=1.7708333333333335, subsample=0.9, tree_method='auto'))], verbose=False)), ('28', Pipeline(memory=None, steps=[('robustscaler', RobustScaler(copy=True, quantile_range=[25, 75], with_centering=True, with_scaling=False)), ('lightgbmclassifier', LightGBMClassifier(boosting_type='gbdt', colsample_bytree=0.99, learning_rate=0.04211105263157895, max_bin=110, max_depth=9, min_child_weight=0, min_data_in_leaf=0.07586448275862069, min_split_gain=0.10526315789473684, n_estimators=100, n_jobs=1, num_leaves=53, problem_info=ProblemInfo(gpu_training_param_dict={'processing_unit_type': 'cpu'}), random_state=None, reg_alpha=0.3157894736842105, reg_lambda=0.8421052631578947, subsample=0.6931578947368422))], verbose=False)), ('15', Pipeline(memory=None, steps=[('minmaxscaler', MinMaxScaler(copy=True, feature_range=(0, 1))), ('kneighborsclassifier', KNeighborsClassifier(algorithm='auto', leaf_size=30, metric='manhattan', metric_params=None, n_jobs=1, n_neighbors=6, p=2, weights='distance'))], verbose=False)), ('25', Pipeline(memory=None, steps=[('robustscaler', RobustScaler(copy=True, quantile_range=[25, 75], with_centering=True, with_scaling=True)), ('lightgbmclassifier', LightGBMClassifier(boosting_type='goss', colsample_bytree=0.6933333333333332, learning_rate=0.036848421052631586, max_bin=70, max_depth=2, min_child_weight=2, min_data_in_leaf=0.05862482758620691, min_split_gain=0, n_estimators=200, n_jobs=1, num_leaves=26, problem_info=ProblemInfo(gpu_training_param_dict={'processing_unit_type': 'cpu'}), random_state=None, reg_alpha=0.7368421052631579, reg_lambda=0.10526315789473684, subsample=1))], verbose=False)), ('22', Pipeline(memory=None, steps=[('sparsenormalizer', Normalizer(copy=True, norm='l2')), ('randomforestclassifier', RandomForestClassifier(bootstrap=True, ccp_alpha=0.0, class_weight='balanced', criterion='gini', max_depth=None, max_features='sqrt', max_leaf_nodes=None, max_samples=None, min_impurity_decrease=0.0, min_impurity_split=None, min_samples_leaf=0.01, min_samples_split=0.01, min_weight_fraction_leaf=0.0, n_estimators=100, n_jobs=1, oob_score=True, random_state=None, verbose=0, warm_start=False))], verbose=False))], flatten_transform=None, weights=[0.1111111111111111, 0.1111111111111111, 0.1111111111111111, 0.1111111111111111, 0.1111111111111111, 0.1111111111111111, 0.1111111111111111, 0.2222222222222222]))],\n         verbose=False)\n"
        }
      ],
      "execution_count": 18,
      "metadata": {
        "gather": {
          "logged": 1659372343041
        },
        "jupyter": {
          "outputs_hidden": false,
          "source_hidden": false
        },
        "nteract": {
          "transient": {
            "deleting": false
          }
        },
        "vscode": {
          "languageId": "python"
        }
      }
    },
    {
      "cell_type": "code",
      "source": [
        "print(fitted_model._final_estimator)"
      ],
      "outputs": [
        {
          "output_type": "stream",
          "name": "stdout",
          "text": "PreFittedSoftVotingClassifier(classification_labels=numpy.array([0, 1]), estimators=[('21', Pipeline(memory=None, steps=[('standardscalerwrapper', StandardScalerWrapper(copy=True, with_mean=False, with_std=False)), ('xgboostclassifier', XGBoostClassifier(booster='gbtree', colsample_bytree=1, eta=0.3, gamma=0, max_depth=10, max_leaves=511, n_estimators=10, n_jobs=1, objective='reg:logistic', problem_info=ProblemInfo(gpu_training_param_dict={'processing_unit_type': 'cpu'}), random_state=0, reg_alpha=2.1875, reg_lambda=0.4166666666666667, subsample=0.5, tree_method='auto'))], verbose=False)), ('33', Pipeline(memory=None, steps=[('standardscalerwrapper', StandardScalerWrapper(copy=True, with_mean=False, with_std=False)), ('xgboostclassifier', XGBoostClassifier(booster='gbtree', colsample_bytree=0.9, eta=0.3, gamma=10, max_depth=8, max_leaves=127, n_estimators=100, n_jobs=1, objective='reg:logistic', problem_info=ProblemInfo(gpu_training_param_dict={'processing_unit_type': 'cpu'}), random_state=0, reg_alpha=0, reg_lambda=2.3958333333333335, subsample=0.5, tree_method='auto'))], verbose=False)), ('5', Pipeline(memory=None, steps=[('maxabsscaler', MaxAbsScaler(copy=True)), ('lightgbmclassifier', LightGBMClassifier(boosting_type='gbdt', colsample_bytree=0.6933333333333332, learning_rate=0.09473736842105263, max_bin=110, max_depth=8, min_child_weight=6, min_data_in_leaf=0.003457931034482759, min_split_gain=1, n_estimators=25, n_jobs=1, num_leaves=227, problem_info=ProblemInfo(gpu_training_param_dict={'processing_unit_type': 'cpu'}), random_state=None, reg_alpha=0.9473684210526315, reg_lambda=0.42105263157894735, subsample=0.49526315789473685))], verbose=False)), ('24', Pipeline(memory=None, steps=[('standardscalerwrapper', StandardScalerWrapper(copy=True, with_mean=False, with_std=False)), ('xgboostclassifier', XGBoostClassifier(booster='gbtree', colsample_bytree=0.7, eta=0.1, gamma=0.1, max_depth=9, max_leaves=511, n_estimators=25, n_jobs=1, objective='reg:logistic', problem_info=ProblemInfo(gpu_training_param_dict={'processing_unit_type': 'cpu'}), random_state=0, reg_alpha=0, reg_lambda=1.7708333333333335, subsample=0.9, tree_method='auto'))], verbose=False)), ('28', Pipeline(memory=None, steps=[('robustscaler', RobustScaler(copy=True, quantile_range=[25, 75], with_centering=True, with_scaling=False)), ('lightgbmclassifier', LightGBMClassifier(boosting_type='gbdt', colsample_bytree=0.99, learning_rate=0.04211105263157895, max_bin=110, max_depth=9, min_child_weight=0, min_data_in_leaf=0.07586448275862069, min_split_gain=0.10526315789473684, n_estimators=100, n_jobs=1, num_leaves=53, problem_info=ProblemInfo(gpu_training_param_dict={'processing_unit_type': 'cpu'}), random_state=None, reg_alpha=0.3157894736842105, reg_lambda=0.8421052631578947, subsample=0.6931578947368422))], verbose=False)), ('15', Pipeline(memory=None, steps=[('minmaxscaler', MinMaxScaler(copy=True, feature_range=(0, 1))), ('kneighborsclassifier', KNeighborsClassifier(algorithm='auto', leaf_size=30, metric='manhattan', metric_params=None, n_jobs=1, n_neighbors=6, p=2, weights='distance'))], verbose=False)), ('25', Pipeline(memory=None, steps=[('robustscaler', RobustScaler(copy=True, quantile_range=[25, 75], with_centering=True, with_scaling=True)), ('lightgbmclassifier', LightGBMClassifier(boosting_type='goss', colsample_bytree=0.6933333333333332, learning_rate=0.036848421052631586, max_bin=70, max_depth=2, min_child_weight=2, min_data_in_leaf=0.05862482758620691, min_split_gain=0, n_estimators=200, n_jobs=1, num_leaves=26, problem_info=ProblemInfo(gpu_training_param_dict={'processing_unit_type': 'cpu'}), random_state=None, reg_alpha=0.7368421052631579, reg_lambda=0.10526315789473684, subsample=1))], verbose=False)), ('22', Pipeline(memory=None, steps=[('sparsenormalizer', Normalizer(copy=True, norm='l2')), ('randomforestclassifier', RandomForestClassifier(bootstrap=True, ccp_alpha=0.0, class_weight='balanced', criterion='gini', max_depth=None, max_features='sqrt', max_leaf_nodes=None, max_samples=None, min_impurity_decrease=0.0, min_impurity_split=None, min_samples_leaf=0.01, min_samples_split=0.01, min_weight_fraction_leaf=0.0, n_estimators=100, n_jobs=1, oob_score=True, random_state=None, verbose=0, warm_start=False))], verbose=False))], flatten_transform=None, weights=[0.1111111111111111, 0.1111111111111111, 0.1111111111111111, 0.1111111111111111, 0.1111111111111111, 0.1111111111111111, 0.1111111111111111, 0.2222222222222222])\n"
        }
      ],
      "execution_count": 19,
      "metadata": {
        "vscode": {
          "languageId": "python"
        },
        "gather": {
          "logged": 1659372363713
        }
      }
    },
    {
      "cell_type": "code",
      "source": [
        "# Save the best model\n",
        "model = best_run.register_model(\n",
        "    model_name = 'heart-failure-best-model-automl',\n",
        "    model_path = './outputs/model.pkl'\n",
        ")\n",
        "print(model)"
      ],
      "outputs": [
        {
          "output_type": "stream",
          "name": "stdout",
          "text": "Model(workspace=Workspace.create(name='quick-starts-ws-202911', subscription_id='1b944a9b-fdae-4f97-aeb1-b7eea0beac53', resource_group='aml-quickstarts-202911'), name=heart-failure-best-model-automl, id=heart-failure-best-model-automl:4, version=4, tags={}, properties={})\n"
        }
      ],
      "execution_count": 30,
      "metadata": {
        "vscode": {
          "languageId": "python"
        },
        "gather": {
          "logged": 1659372998207
        }
      }
    },
    {
      "cell_type": "code",
      "source": [
        "for model in Model.list(ws):\n",
        "    print(model.name, 'Version:', model.version)"
      ],
      "outputs": [
        {
          "output_type": "stream",
          "name": "stdout",
          "text": "heart-failure-best-model-automl Version: 4\n"
        }
      ],
      "execution_count": 31,
      "metadata": {
        "vscode": {
          "languageId": "python"
        },
        "gather": {
          "logged": 1659373005267
        }
      }
    },
    {
      "cell_type": "markdown",
      "source": [
        "## Model Deployment\n",
        "\n",
        "Deploy the model using azure container instance"
      ],
      "metadata": {}
    },
    {
      "cell_type": "code",
      "source": [
        "import os\n",
        "os.makedirs('./aml-model', exist_ok=True)\n",
        "best_run.download_file(\n",
        "    '/outputs/model.pkl',\n",
        "    os.path.join('./aml-model','heart-failure-best-model-automl.pkl'))\n",
        "\n",
        "for f in best_run.get_file_names():\n",
        "    if f.startswith('outputs'):\n",
        "        output_file_path = os.path.join('./aml-model', f.split('/')[-1])\n",
        "        print(f\"Downloading the {f} to {output_file_path} \")\n",
        "        best_run.download_file(\n",
        "            name = f,\n",
        "            output_file_path = output_file_path\n",
        "        )"
      ],
      "outputs": [
        {
          "output_type": "stream",
          "name": "stdout",
          "text": "Downloading the outputs/conda_env_v_1_0_0.yml to ./aml-model/conda_env_v_1_0_0.yml \nDownloading the outputs/engineered_feature_names.json to ./aml-model/engineered_feature_names.json \nDownloading the outputs/env_dependencies.json to ./aml-model/env_dependencies.json \nDownloading the outputs/featurization_summary.json to ./aml-model/featurization_summary.json \nDownloading the outputs/generated_code/conda_environment.yaml to ./aml-model/conda_environment.yaml \nDownloading the outputs/generated_code/script.py to ./aml-model/script.py \nDownloading the outputs/generated_code/script_run_notebook.ipynb to ./aml-model/script_run_notebook.ipynb \nDownloading the outputs/internal_cross_validated_models.pkl to ./aml-model/internal_cross_validated_models.pkl \nDownloading the outputs/model.pkl to ./aml-model/model.pkl \nDownloading the outputs/pipeline_graph.json to ./aml-model/pipeline_graph.json \nDownloading the outputs/run_id.txt to ./aml-model/run_id.txt \nDownloading the outputs/scoring_file_pbi_v_1_0_0.py to ./aml-model/scoring_file_pbi_v_1_0_0.py \nDownloading the outputs/scoring_file_v_1_0_0.py to ./aml-model/scoring_file_v_1_0_0.py \nDownloading the outputs/scoring_file_v_2_0_0.py to ./aml-model/scoring_file_v_2_0_0.py \n"
        }
      ],
      "execution_count": 32,
      "metadata": {
        "vscode": {
          "languageId": "python"
        },
        "gather": {
          "logged": 1659373017534
        }
      }
    },
    {
      "cell_type": "code",
      "source": [
        "# Define the environment\n",
        "best_run.download_file('outputs/conda_env_v_1_0_0.yml', 'conda_env.yml')\n",
        "environment = Environment.from_conda_specification(\n",
        "    name = 'heart-failure-env',\n",
        "    file_path = 'conda_env.yml'\n",
        ")"
      ],
      "outputs": [],
      "execution_count": 23,
      "metadata": {
        "vscode": {
          "languageId": "python"
        },
        "gather": {
          "logged": 1659372409349
        }
      }
    },
    {
      "cell_type": "code",
      "source": [
        "# Download the scoring file\n",
        "\n",
        "model1 = best_run.download_file('outputs/scoring_file_v_1_0_0.py', 'score.py')"
      ],
      "outputs": [],
      "execution_count": 43,
      "metadata": {
        "gather": {
          "logged": 1659374357570
        },
        "jupyter": {
          "outputs_hidden": false,
          "source_hidden": false
        },
        "nteract": {
          "transient": {
            "deleting": false
          }
        },
        "vscode": {
          "languageId": "python"
        }
      }
    },
    {
      "cell_type": "code",
      "source": [
        "# Inference configuration\n",
        "inference_config = InferenceConfig(\n",
        "    entry_script = 'score.py',\n",
        "    environment = environment\n",
        ")"
      ],
      "outputs": [],
      "execution_count": 44,
      "metadata": {
        "vscode": {
          "languageId": "python"
        },
        "gather": {
          "logged": 1659374363277
        }
      }
    },
    {
      "cell_type": "code",
      "source": [
        "# ACI configuration\n",
        "aci_config = AciWebservice.deploy_configuration(\n",
        "    cpu_cores = 1,\n",
        "    memory_gb = 1,\n",
        "    # auth_enabled = True,\n",
        "    enable_app_insights = True\n",
        ")"
      ],
      "outputs": [],
      "execution_count": 45,
      "metadata": {
        "vscode": {
          "languageId": "python"
        },
        "gather": {
          "logged": 1659374368525
        }
      }
    },
    {
      "cell_type": "code",
      "source": [
        "# Deploy\n",
        "webservice = Model.deploy(\n",
        "    workspace = ws,\n",
        "    name = 'heart-failure-ws',\n",
        "    models = [model],\n",
        "    inference_config = inference_config,\n",
        "    deployment_config = aci_config,\n",
        "    overwrite=True\n",
        ")\n",
        "\n",
        "print('****'*20)"
      ],
      "outputs": [
        {
          "output_type": "stream",
          "name": "stdout",
          "text": "********************************************************************************\n"
        }
      ],
      "execution_count": 47,
      "metadata": {
        "jupyter": {
          "outputs_hidden": false,
          "source_hidden": false
        },
        "nteract": {
          "transient": {
            "deleting": false
          }
        },
        "vscode": {
          "languageId": "python"
        },
        "gather": {
          "logged": 1659374395101
        }
      }
    },
    {
      "cell_type": "code",
      "source": [
        "webservice.wait_for_deployment(show_output=True)"
      ],
      "outputs": [],
      "execution_count": null,
      "metadata": {
        "jupyter": {
          "source_hidden": false,
          "outputs_hidden": false
        },
        "nteract": {
          "transient": {
            "deleting": false
          }
        }
      }
    },
    {
      "cell_type": "markdown",
      "source": [
        "## Consume"
      ],
      "metadata": {}
    },
    {
      "cell_type": "code",
      "source": [
        "from pprint import pprint\n",
        "\n",
        "# Select samples from the df\n",
        "test_data = df.sample(5)\n",
        "test_label = test_data.pop('DEATH_EVENT')\n",
        "\n",
        "# Convert to JSON\n",
        "data_json = test_data.to_dict(orient='records')\n",
        "\n",
        "data = json.dumps({\n",
        "    'data', data_json\n",
        "})\n",
        "\n",
        "# pprint(data)\n"
      ],
      "outputs": [
        {
          "output_type": "error",
          "ename": "TypeError",
          "evalue": "unhashable type: 'list'",
          "traceback": [
            "\u001b[0;31m---------------------------------------------------------------------------\u001b[0m",
            "\u001b[0;31mTypeError\u001b[0m                                 Traceback (most recent call last)",
            "Input \u001b[0;32mIn [54]\u001b[0m, in \u001b[0;36m<cell line: 10>\u001b[0;34m()\u001b[0m\n\u001b[1;32m      7\u001b[0m \u001b[38;5;66;03m# Convert to JSON\u001b[39;00m\n\u001b[1;32m      8\u001b[0m data_json \u001b[38;5;241m=\u001b[39m test_data\u001b[38;5;241m.\u001b[39mto_dict(orient\u001b[38;5;241m=\u001b[39m\u001b[38;5;124m'\u001b[39m\u001b[38;5;124mrecords\u001b[39m\u001b[38;5;124m'\u001b[39m)\n\u001b[0;32m---> 10\u001b[0m data \u001b[38;5;241m=\u001b[39m json\u001b[38;5;241m.\u001b[39mdumps({\n\u001b[1;32m     11\u001b[0m     \u001b[38;5;124m'\u001b[39m\u001b[38;5;124mdata\u001b[39m\u001b[38;5;124m'\u001b[39m, data_json\n\u001b[1;32m     12\u001b[0m })\n",
            "\u001b[0;31mTypeError\u001b[0m: unhashable type: 'list'"
          ]
        }
      ],
      "execution_count": 54,
      "metadata": {
        "vscode": {
          "languageId": "python"
        },
        "gather": {
          "logged": 1659375624447
        }
      }
    },
    {
      "cell_type": "code",
      "source": [
        "# Predictions\n",
        "output = webservice.run(data)\n",
        "print(output)"
      ],
      "outputs": [],
      "execution_count": null,
      "metadata": {
        "vscode": {
          "languageId": "python"
        },
        "gather": {
          "logged": 1659372321992
        }
      }
    },
    {
      "cell_type": "code",
      "source": [
        "webservice.get_logs()"
      ],
      "outputs": [],
      "execution_count": null,
      "metadata": {
        "vscode": {
          "languageId": "python"
        },
        "gather": {
          "logged": 1659372322011
        }
      }
    },
    {
      "cell_type": "code",
      "source": [
        "# webservice.delete()\n",
        "# compute_target.delete()"
      ],
      "outputs": [],
      "execution_count": null,
      "metadata": {
        "vscode": {
          "languageId": "python"
        },
        "gather": {
          "logged": 1659372322029
        }
      }
    },
    {
      "cell_type": "markdown",
      "source": [
        "**Submission Checklist**\n",
        "- I have registered the model.\n",
        "- I have deployed the model with the best accuracy as a webservice.\n",
        "- I have tested the webservice by sending a request to the model endpoint.\n",
        "- I have deleted the webservice and shutdown all the computes that I have used.\n",
        "- I have taken a screenshot showing the model endpoint as active.\n",
        "- The project includes a file containing the environment details.\n"
      ],
      "metadata": {}
    },
    {
      "cell_type": "markdown",
      "source": [],
      "metadata": {}
    }
  ],
  "metadata": {
    "kernel_info": {
      "name": "python38-azureml"
    },
    "kernelspec": {
      "name": "python38-azureml",
      "language": "python",
      "display_name": "Python 3.8 - AzureML"
    },
    "nteract": {
      "version": "nteract-front-end@1.0.0"
    },
    "vscode": {
      "interpreter": {
        "hash": "31f2aee4e71d21fbe5cf8b01ff0e069b9275f58929596ceb00d14d90e3e16cd6"
      }
    },
    "language_info": {
      "name": "python",
      "version": "3.8.5",
      "mimetype": "text/x-python",
      "codemirror_mode": {
        "name": "ipython",
        "version": 3
      },
      "pygments_lexer": "ipython3",
      "nbconvert_exporter": "python",
      "file_extension": ".py"
    },
    "microsoft": {
      "host": {
        "AzureML": {
          "notebookHasBeenCompleted": true
        }
      }
    }
  },
  "nbformat": 4,
  "nbformat_minor": 2
}